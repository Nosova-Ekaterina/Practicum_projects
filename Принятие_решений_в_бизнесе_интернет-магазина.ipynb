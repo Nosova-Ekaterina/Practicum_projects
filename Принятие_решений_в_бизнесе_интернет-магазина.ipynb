{
 "cells": [
  {
   "cell_type": "markdown",
   "metadata": {},
   "source": [
    "# Проект: Принятие решений в бизнесе интернет-магазина."
   ]
  },
  {
   "cell_type": "markdown",
   "metadata": {},
   "source": [
    "## Описание проекта.\n",
    "**Описание:** совместно с отделом маркетинга аналитики подготовили список гипотез для увеличения выручки интернет-магазина.\n",
    "\n",
    "**Цель исследования:** требуется приоритизировать гипотезы, запустить A/B-тест и проанализируйть результаты. \n",
    "\n",
    "**Основные задачи, которые необходимо выполнить:**\n",
    "Выполнение проекта состоит из двух частей.\n",
    "\n",
    "*Часть 1. Приоритизация гипотез:*\n",
    "- Применить фреймворк ICE для приоритизации гипотез. Отсортировать их по убыванию приоритета.\n",
    "- Применить фреймворк RICE для приоритизации гипотез. Отсортировать их по убыванию приоритета.\n",
    "- Указать, как изменилась приоритизация гипотез при применении RICE вместо ICE. Объясните, почему так произошло.\n",
    "\n",
    "*Часть 2. Анализ A/B-теста:*\n",
    "1. Построить график кумулятивной выручки по группам. Сделайть выводы и предположения.\n",
    "2. Постройть график кумулятивного среднего чека по группам. Сделайть выводы и предположения.\n",
    "3. Постройть график относительного изменения кумулятивного среднего чека группы B к группе A. Сделайть выводы и предположения.\n",
    "4. Постройть график кумулятивного среднего количества заказов на посетителя по группам. Сделайть выводы и предположения.\n",
    "5. Постройть график относительного изменения кумулятивного среднего количества заказов на посетителя группы B к группе A. Сделайть выводы и предположения.\n",
    "6. Постройть точечный график количества заказов по пользователям. Сделайть выводы и предположения.\n",
    "7. Посчитайть 95-й и 99-й перцентили количества заказов на пользователя. Выбрать границу для определения аномальных пользователей.\n",
    "8. Постройть точечный график стоимостей заказов. Сделайть выводы и предположения.\n",
    "9. Посчитать 95-й и 99-й перцентили стоимости заказов. Выберать границу для определения аномальных заказов.\n",
    "10. Посчитать статистическую значимость различий в среднем количестве заказов на посетителя между группами по «сырым» данным. Сделать выводы и предположения.\n",
    "11. Посчитать статистическую значимость различий в среднем чеке заказа между группами по «сырым» данным. Сделать выводы и предположения.\n",
    "12. Посчитать статистическую значимость различий в среднем количестве заказов на посетителя между группами по «очищенным» данным. Сделать выводы и предположения.\n",
    "13. Посчитать статистическую значимость различий в среднем чеке заказа между группами по «очищенным» данным. Сделать выводы и предположения.\n",
    "14. Принять решение по результатам теста и объясните его. Варианты решений:\n",
    "    1. Остановить тест, зафиксировать победу одной из групп.\n",
    "    2. Остановить тест, зафиксировать отсутствие различий между группами.\n",
    "    3. Продолжить тест.\n",
    "\n",
    "**Ход исследования:**\n",
    "Данные для анализа я получу из файлов: Гипотезы — hypothesis.csv; Заказы — orders.csv; Посетители — /datasets/visitors.csv. О качестве данных заранее ничего не известно, поэтому перед тем, как приступить к целям исследования понадобиться обзор данных.\n",
    "\n",
    "Проверю данные на ошибки и оценю их влияние на исследование. На этапе предобработки поищу возможность исправить найденные ошибки, которые не преведут к искажению конечного результата.\n",
    "\n",
    "Создам новые датафреймы из уже предоставленных данных, для решения поставленных задач.\n",
    "\n",
    "Таким образом мое исследование пройдет этапы:\n",
    "- загрузка данных,\n",
    "- обзор данных,\n",
    "- предобработка данных,\n",
    "- выполнение задач части 1 - приоритизация гипотез,\n",
    "- выполнение задач части 2 - анализ A/B-теста,\n",
    "- написание общего вывода и предложений."
   ]
  },
  {
   "cell_type": "markdown",
   "metadata": {},
   "source": [
    "## Описание данных. \n",
    "**Данные для первой части:**\n",
    "\n",
    "*Файл hypothesis.csv - ГИПОТЕЗЫ:*\n",
    "в файле 9 гипотез по увеличению выручки интернет-магазина с указанными параметрами Reach, Impact, Confidence, Effort\n",
    "- Hypothesis — краткое описание гипотезы;\n",
    "- Reach — охват пользователей по 10-балльной шкале;\n",
    "- Impact — влияние на пользователей по 10-балльной шкале;\n",
    "- Confidence — уверенность в гипотезе по 10-балльной шкале;\n",
    "- Efforts — затраты ресурсов на проверку гипотезы по 10-балльной шкале. Чем больше значение Efforts, тем дороже проверка гипотезы.\n",
    "\n",
    "**Данные для второй части:**\n",
    "Результаты А/В-теста, которые сохранены в файлах orders.csv и visitors.csv.\n",
    "1. *Файл orders.csv - ЗАКАЗЫ:*\n",
    "- transactionId — идентификатор заказа;\n",
    "- visitorId — идентификатор пользователя, совершившего заказ;\n",
    "- date — дата, когда был совершён заказ;\n",
    "- revenue — выручка заказа;\n",
    "- group — группа A/B-теста, в которую попал заказ.\n",
    "\n",
    "2. *Файл visitors.csv - ПОСЕТИТЕЛИ:*\n",
    "- date — дата;\n",
    "- group — группа A/B-теста;\n",
    "- visitors — количество пользователей в указанную дату в указанной группе A/B-теста\n"
   ]
  },
  {
   "cell_type": "markdown",
   "metadata": {},
   "source": [
    "## Загрузка данных."
   ]
  },
  {
   "cell_type": "code",
   "execution_count": 1,
   "metadata": {},
   "outputs": [],
   "source": [
    "# импорт библиотек\n",
    "import pandas as pd\n",
    "import numpy as np\n",
    "import matplotlib.dates as mdates # работа с датами\n",
    "import plotly.express as px\n",
    "import seaborn as sns\n",
    "import matplotlib.ticker as ticker\n",
    "import datetime as dt\n",
    "\n",
    "from datetime import datetime, timedelta\n",
    "from matplotlib import pyplot as plt\n",
    "from ast import literal_eval\n",
    "from scipy import stats as st #проверка гипотез"
   ]
  },
  {
   "cell_type": "code",
   "execution_count": 2,
   "metadata": {},
   "outputs": [],
   "source": [
    "pd.set_option('display.max_columns', None)                  # команда для отображения всех столбцов датафрейма\n",
    "pd.set_option('display.max_rows', None)                     # команда для отображения всех строк датафрейма\n",
    "pd.set_option('display.float_format', lambda x: '%.3f' % x) # перевод данных из экспоненциальной нотации в обычную\n",
    "pd.options.display.max_colwidth = None                      # устанавливаем неограниченную ширину столбцов"
   ]
  },
  {
   "cell_type": "code",
   "execution_count": 3,
   "metadata": {
    "scrolled": true
   },
   "outputs": [
    {
     "data": {
      "text/plain": [
       "'Файлы успешно загружены!'"
      ]
     },
     "metadata": {},
     "output_type": "display_data"
    }
   ],
   "source": [
    "# Загрузка данных\n",
    "try:\n",
    "    hypothesis = pd.read_csv('/datasets/hypothesis.csv') # гипотезы\n",
    "    orders = pd.read_csv('/datasets/orders.csv')         # заказы \n",
    "    visitors = pd.read_csv('/datasets/visitors.csv')     # посетители\n",
    "    display(\"Файлы успешно загружены!\")\n",
    "    \n",
    "except Exception as e:\n",
    "    display(f'Не удалось прочитать файл: {e}') # вывод ошибки, если данные не прочитались"
   ]
  },
  {
   "cell_type": "markdown",
   "metadata": {},
   "source": [
    "## Предобработка данных."
   ]
  },
  {
   "cell_type": "markdown",
   "metadata": {},
   "source": [
    "### Гипотезы (датафрейм hypothesis)."
   ]
  },
  {
   "cell_type": "code",
   "execution_count": 4,
   "metadata": {},
   "outputs": [
    {
     "name": "stdout",
     "output_type": "stream",
     "text": [
      "<class 'pandas.core.frame.DataFrame'>\n",
      "RangeIndex: 9 entries, 0 to 8\n",
      "Data columns (total 5 columns):\n",
      " #   Column      Non-Null Count  Dtype \n",
      "---  ------      --------------  ----- \n",
      " 0   Hypothesis  9 non-null      object\n",
      " 1   Reach       9 non-null      int64 \n",
      " 2   Impact      9 non-null      int64 \n",
      " 3   Confidence  9 non-null      int64 \n",
      " 4   Efforts     9 non-null      int64 \n",
      "dtypes: int64(4), object(1)\n",
      "memory usage: 488.0+ bytes\n"
     ]
    }
   ],
   "source": [
    "hypothesis.info()"
   ]
  },
  {
   "cell_type": "code",
   "execution_count": 5,
   "metadata": {},
   "outputs": [
    {
     "data": {
      "text/html": [
       "<div>\n",
       "<style scoped>\n",
       "    .dataframe tbody tr th:only-of-type {\n",
       "        vertical-align: middle;\n",
       "    }\n",
       "\n",
       "    .dataframe tbody tr th {\n",
       "        vertical-align: top;\n",
       "    }\n",
       "\n",
       "    .dataframe thead th {\n",
       "        text-align: right;\n",
       "    }\n",
       "</style>\n",
       "<table border=\"1\" class=\"dataframe\">\n",
       "  <thead>\n",
       "    <tr style=\"text-align: right;\">\n",
       "      <th></th>\n",
       "      <th>Hypothesis</th>\n",
       "      <th>Reach</th>\n",
       "      <th>Impact</th>\n",
       "      <th>Confidence</th>\n",
       "      <th>Efforts</th>\n",
       "    </tr>\n",
       "  </thead>\n",
       "  <tbody>\n",
       "    <tr>\n",
       "      <th>0</th>\n",
       "      <td>Добавить два новых канала привлечения трафика, что позволит привлекать на 30% больше пользователей</td>\n",
       "      <td>3</td>\n",
       "      <td>10</td>\n",
       "      <td>8</td>\n",
       "      <td>6</td>\n",
       "    </tr>\n",
       "    <tr>\n",
       "      <th>1</th>\n",
       "      <td>Запустить собственную службу доставки, что сократит срок доставки заказов</td>\n",
       "      <td>2</td>\n",
       "      <td>5</td>\n",
       "      <td>4</td>\n",
       "      <td>10</td>\n",
       "    </tr>\n",
       "    <tr>\n",
       "      <th>2</th>\n",
       "      <td>Добавить блоки рекомендаций товаров на сайт интернет магазина, чтобы повысить конверсию и средний чек заказа</td>\n",
       "      <td>8</td>\n",
       "      <td>3</td>\n",
       "      <td>7</td>\n",
       "      <td>3</td>\n",
       "    </tr>\n",
       "    <tr>\n",
       "      <th>3</th>\n",
       "      <td>Изменить структура категорий, что увеличит конверсию, т.к. пользователи быстрее найдут нужный товар</td>\n",
       "      <td>8</td>\n",
       "      <td>3</td>\n",
       "      <td>3</td>\n",
       "      <td>8</td>\n",
       "    </tr>\n",
       "    <tr>\n",
       "      <th>4</th>\n",
       "      <td>Изменить цвет фона главной страницы, чтобы увеличить вовлеченность пользователей</td>\n",
       "      <td>3</td>\n",
       "      <td>1</td>\n",
       "      <td>1</td>\n",
       "      <td>1</td>\n",
       "    </tr>\n",
       "    <tr>\n",
       "      <th>5</th>\n",
       "      <td>Добавить страницу отзывов клиентов о магазине, что позволит увеличить количество заказов</td>\n",
       "      <td>3</td>\n",
       "      <td>2</td>\n",
       "      <td>2</td>\n",
       "      <td>3</td>\n",
       "    </tr>\n",
       "    <tr>\n",
       "      <th>6</th>\n",
       "      <td>Показать на главной странице баннеры с актуальными акциями и распродажами, чтобы увеличить конверсию</td>\n",
       "      <td>5</td>\n",
       "      <td>3</td>\n",
       "      <td>8</td>\n",
       "      <td>3</td>\n",
       "    </tr>\n",
       "    <tr>\n",
       "      <th>7</th>\n",
       "      <td>Добавить форму подписки на все основные страницы, чтобы собрать базу клиентов для email-рассылок</td>\n",
       "      <td>10</td>\n",
       "      <td>7</td>\n",
       "      <td>8</td>\n",
       "      <td>5</td>\n",
       "    </tr>\n",
       "    <tr>\n",
       "      <th>8</th>\n",
       "      <td>Запустить акцию, дающую скидку на товар в день рождения</td>\n",
       "      <td>1</td>\n",
       "      <td>9</td>\n",
       "      <td>9</td>\n",
       "      <td>5</td>\n",
       "    </tr>\n",
       "  </tbody>\n",
       "</table>\n",
       "</div>"
      ],
      "text/plain": [
       "                                                                                                     Hypothesis  \\\n",
       "0            Добавить два новых канала привлечения трафика, что позволит привлекать на 30% больше пользователей   \n",
       "1                                     Запустить собственную службу доставки, что сократит срок доставки заказов   \n",
       "2  Добавить блоки рекомендаций товаров на сайт интернет магазина, чтобы повысить конверсию и средний чек заказа   \n",
       "3           Изменить структура категорий, что увеличит конверсию, т.к. пользователи быстрее найдут нужный товар   \n",
       "4                              Изменить цвет фона главной страницы, чтобы увеличить вовлеченность пользователей   \n",
       "5                      Добавить страницу отзывов клиентов о магазине, что позволит увеличить количество заказов   \n",
       "6          Показать на главной странице баннеры с актуальными акциями и распродажами, чтобы увеличить конверсию   \n",
       "7              Добавить форму подписки на все основные страницы, чтобы собрать базу клиентов для email-рассылок   \n",
       "8                                                       Запустить акцию, дающую скидку на товар в день рождения   \n",
       "\n",
       "   Reach  Impact  Confidence  Efforts  \n",
       "0      3      10           8        6  \n",
       "1      2       5           4       10  \n",
       "2      8       3           7        3  \n",
       "3      8       3           3        8  \n",
       "4      3       1           1        1  \n",
       "5      3       2           2        3  \n",
       "6      5       3           8        3  \n",
       "7     10       7           8        5  \n",
       "8      1       9           9        5  "
      ]
     },
     "metadata": {},
     "output_type": "display_data"
    }
   ],
   "source": [
    "display(hypothesis)"
   ]
  },
  {
   "cell_type": "markdown",
   "metadata": {},
   "source": [
    "- Данные загружены и читаются корректно.\n",
    "- Датафрейм **hypothesis** имеет 5 полей и 9 строк.\n",
    "- Типы данных и написание полей не требуют обработки, т.к. написаны корректно.\n",
    "\n",
    "Далее проверю данные на наличие пропусков и дубликатов."
   ]
  },
  {
   "cell_type": "code",
   "execution_count": 6,
   "metadata": {},
   "outputs": [
    {
     "data": {
      "text/plain": [
       "Hypothesis   0.000\n",
       "Reach        0.000\n",
       "Impact       0.000\n",
       "Confidence   0.000\n",
       "Efforts      0.000\n",
       "dtype: float64"
      ]
     },
     "metadata": {},
     "output_type": "display_data"
    }
   ],
   "source": [
    "# информация о количестве пропусков (в %) в датафрейме hypothesis\n",
    "display((hypothesis.isna().mean() * 100).sort_values(ascending=False))"
   ]
  },
  {
   "cell_type": "code",
   "execution_count": 7,
   "metadata": {},
   "outputs": [
    {
     "data": {
      "text/plain": [
       "'Количество полных дубликатов:'"
      ]
     },
     "metadata": {},
     "output_type": "display_data"
    },
    {
     "data": {
      "text/plain": [
       "0"
      ]
     },
     "metadata": {},
     "output_type": "display_data"
    }
   ],
   "source": [
    "# явные дубликаты всего датафрейма hypothesis\n",
    "display('Количество полных дубликатов:', hypothesis.duplicated(keep=False).sum())\n",
    "#display('Процент количества дубликатов:', hypothesis.duplicated(keep=False).sum()/ len(hypothesis)* 100)"
   ]
  },
  {
   "cell_type": "markdown",
   "metadata": {},
   "source": [
    "В данных датафрейма **hypothesis** пропусков и полных дубликатов не обнаружено.\n",
    "\n",
    "Рассмотрю подробнее данные поля Hypothesis."
   ]
  },
  {
   "cell_type": "code",
   "execution_count": 8,
   "metadata": {},
   "outputs": [
    {
     "data": {
      "text/plain": [
       "['Добавить два новых канала привлечения трафика, что позволит привлекать на 30% больше пользователей',\n",
       " 'Запустить собственную службу доставки, что сократит срок доставки заказов',\n",
       " 'Добавить блоки рекомендаций товаров на сайт интернет магазина, чтобы повысить конверсию и средний чек заказа',\n",
       " 'Изменить структура категорий, что увеличит конверсию, т.к. пользователи быстрее найдут нужный товар',\n",
       " 'Изменить цвет фона главной страницы, чтобы увеличить вовлеченность пользователей',\n",
       " 'Добавить страницу отзывов клиентов о магазине, что позволит увеличить количество заказов',\n",
       " 'Показать на главной странице баннеры с актуальными акциями и распродажами, чтобы увеличить конверсию',\n",
       " 'Добавить форму подписки на все основные страницы, чтобы собрать базу клиентов для email-рассылок',\n",
       " 'Запустить акцию, дающую скидку на товар в день рождения']"
      ]
     },
     "execution_count": 8,
     "metadata": {},
     "output_type": "execute_result"
    }
   ],
   "source": [
    "# вывод списка уникальных значений в столбце hypothesis\n",
    "hypothesis['Hypothesis'].unique().tolist()"
   ]
  },
  {
   "cell_type": "markdown",
   "metadata": {},
   "source": [
    "Будем работать со следующими гипотезами:\n",
    "1. Добавить два новых канала привлечения трафика, что позволит привлекать на 30% больше пользователей.\n",
    "2. Запустить собственную службу доставки, что сократит срок доставки заказов.\n",
    "3. Добавить блоки рекомендаций товаров на сайт интернет магазина, чтобы повысить конверсию и средний чек заказа.\n",
    "4. Изменить структура категорий, что увеличит конверсию, т.к. пользователи быстрее найдут нужный товар.\n",
    "5. Изменить цвет фона главной страницы, чтобы увеличить вовлеченность пользователей.\n",
    "6. Добавить страницу отзывов клиентов о магазине, что позволит увеличить количество заказов.\n",
    "7. Показать на главной странице баннеры с актуальными акциями и распродажами, чтобы увеличить конверсию.\n",
    "8. Добавить форму подписки на все основные страницы, чтобы собрать базу клиентов для email-рассылок.\n",
    "9. Запустить акцию, дающую скидку на товар в день рождения."
   ]
  },
  {
   "cell_type": "code",
   "execution_count": null,
   "metadata": {},
   "outputs": [],
   "source": []
  },
  {
   "cell_type": "markdown",
   "metadata": {},
   "source": [
    "### Заказы (датафрейм orders)."
   ]
  },
  {
   "cell_type": "code",
   "execution_count": 9,
   "metadata": {},
   "outputs": [
    {
     "name": "stdout",
     "output_type": "stream",
     "text": [
      "<class 'pandas.core.frame.DataFrame'>\n",
      "RangeIndex: 1197 entries, 0 to 1196\n",
      "Data columns (total 5 columns):\n",
      " #   Column         Non-Null Count  Dtype \n",
      "---  ------         --------------  ----- \n",
      " 0   transactionId  1197 non-null   int64 \n",
      " 1   visitorId      1197 non-null   int64 \n",
      " 2   date           1197 non-null   object\n",
      " 3   revenue        1197 non-null   int64 \n",
      " 4   group          1197 non-null   object\n",
      "dtypes: int64(3), object(2)\n",
      "memory usage: 46.9+ KB\n"
     ]
    }
   ],
   "source": [
    "orders.info()"
   ]
  },
  {
   "cell_type": "code",
   "execution_count": 10,
   "metadata": {},
   "outputs": [
    {
     "data": {
      "text/html": [
       "<div>\n",
       "<style scoped>\n",
       "    .dataframe tbody tr th:only-of-type {\n",
       "        vertical-align: middle;\n",
       "    }\n",
       "\n",
       "    .dataframe tbody tr th {\n",
       "        vertical-align: top;\n",
       "    }\n",
       "\n",
       "    .dataframe thead th {\n",
       "        text-align: right;\n",
       "    }\n",
       "</style>\n",
       "<table border=\"1\" class=\"dataframe\">\n",
       "  <thead>\n",
       "    <tr style=\"text-align: right;\">\n",
       "      <th></th>\n",
       "      <th>transactionId</th>\n",
       "      <th>visitorId</th>\n",
       "      <th>date</th>\n",
       "      <th>revenue</th>\n",
       "      <th>group</th>\n",
       "    </tr>\n",
       "  </thead>\n",
       "  <tbody>\n",
       "    <tr>\n",
       "      <th>0</th>\n",
       "      <td>3667963787</td>\n",
       "      <td>3312258926</td>\n",
       "      <td>2019-08-15</td>\n",
       "      <td>1650</td>\n",
       "      <td>B</td>\n",
       "    </tr>\n",
       "    <tr>\n",
       "      <th>1</th>\n",
       "      <td>2804400009</td>\n",
       "      <td>3642806036</td>\n",
       "      <td>2019-08-15</td>\n",
       "      <td>730</td>\n",
       "      <td>B</td>\n",
       "    </tr>\n",
       "    <tr>\n",
       "      <th>2</th>\n",
       "      <td>2961555356</td>\n",
       "      <td>4069496402</td>\n",
       "      <td>2019-08-15</td>\n",
       "      <td>400</td>\n",
       "      <td>A</td>\n",
       "    </tr>\n",
       "    <tr>\n",
       "      <th>3</th>\n",
       "      <td>3797467345</td>\n",
       "      <td>1196621759</td>\n",
       "      <td>2019-08-15</td>\n",
       "      <td>9759</td>\n",
       "      <td>B</td>\n",
       "    </tr>\n",
       "    <tr>\n",
       "      <th>4</th>\n",
       "      <td>2282983706</td>\n",
       "      <td>2322279887</td>\n",
       "      <td>2019-08-15</td>\n",
       "      <td>2308</td>\n",
       "      <td>B</td>\n",
       "    </tr>\n",
       "  </tbody>\n",
       "</table>\n",
       "</div>"
      ],
      "text/plain": [
       "   transactionId   visitorId        date  revenue group\n",
       "0     3667963787  3312258926  2019-08-15     1650     B\n",
       "1     2804400009  3642806036  2019-08-15      730     B\n",
       "2     2961555356  4069496402  2019-08-15      400     A\n",
       "3     3797467345  1196621759  2019-08-15     9759     B\n",
       "4     2282983706  2322279887  2019-08-15     2308     B"
      ]
     },
     "execution_count": 10,
     "metadata": {},
     "output_type": "execute_result"
    }
   ],
   "source": [
    "orders.head()"
   ]
  },
  {
   "cell_type": "markdown",
   "metadata": {},
   "source": [
    "- Данные загружены и читаются корректно.\n",
    "- Датафрейм **orders** имеет 5 полей и 1197 строк.\n",
    "- Название полей не требует корректировок.\n",
    "- Требуется корректировка типа данных поля date с object на datetime.\n",
    "\n",
    "Далее изменю тип данных поля date и проверю данные на наличие пропусков и дубликатов."
   ]
  },
  {
   "cell_type": "code",
   "execution_count": 11,
   "metadata": {},
   "outputs": [
    {
     "name": "stdout",
     "output_type": "stream",
     "text": [
      "<class 'pandas.core.frame.DataFrame'>\n",
      "RangeIndex: 1197 entries, 0 to 1196\n",
      "Data columns (total 5 columns):\n",
      " #   Column         Non-Null Count  Dtype         \n",
      "---  ------         --------------  -----         \n",
      " 0   transactionId  1197 non-null   int64         \n",
      " 1   visitorId      1197 non-null   int64         \n",
      " 2   date           1197 non-null   datetime64[ns]\n",
      " 3   revenue        1197 non-null   int64         \n",
      " 4   group          1197 non-null   object        \n",
      "dtypes: datetime64[ns](1), int64(3), object(1)\n",
      "memory usage: 46.9+ KB\n"
     ]
    }
   ],
   "source": [
    "orders['date'] = orders['date'].map(\n",
    "    lambda x: dt.datetime.strptime(x, '%Y-%m-%d')\n",
    ")\n",
    "orders.info()"
   ]
  },
  {
   "cell_type": "code",
   "execution_count": 12,
   "metadata": {},
   "outputs": [
    {
     "data": {
      "text/plain": [
       "transactionId   0.000\n",
       "visitorId       0.000\n",
       "date            0.000\n",
       "revenue         0.000\n",
       "group           0.000\n",
       "dtype: float64"
      ]
     },
     "metadata": {},
     "output_type": "display_data"
    }
   ],
   "source": [
    "# информация о количестве пропусков (в %) в датафрейме orders\n",
    "display((orders.isna().mean() * 100).sort_values(ascending=False))"
   ]
  },
  {
   "cell_type": "code",
   "execution_count": 13,
   "metadata": {},
   "outputs": [
    {
     "data": {
      "text/plain": [
       "'Количество полных дубликатов:'"
      ]
     },
     "metadata": {},
     "output_type": "display_data"
    },
    {
     "data": {
      "text/plain": [
       "0"
      ]
     },
     "metadata": {},
     "output_type": "display_data"
    }
   ],
   "source": [
    "# явные дубликаты всего датафрейма orders\n",
    "display('Количество полных дубликатов:', orders.duplicated(keep=False).sum())\n",
    "#display('Процент количества дубликатов:', orders.duplicated(keep=False).sum()/ len(orders)* 100)"
   ]
  },
  {
   "cell_type": "markdown",
   "metadata": {},
   "source": [
    "Пропусков и полных дубликатов в данных нет.\n",
    "Измение типа данных поля date сработало корректно.\n",
    "\n",
    "Определю период проведения теста."
   ]
  },
  {
   "cell_type": "code",
   "execution_count": 14,
   "metadata": {},
   "outputs": [
    {
     "data": {
      "text/plain": [
       "'Период анализа данных: с 2019-08-01 00:00:00 по 2019-08-31 00:00:00'"
      ]
     },
     "metadata": {},
     "output_type": "display_data"
    }
   ],
   "source": [
    "# Определение периода анализа данных\n",
    "start_date = orders['date'].min()\n",
    "end_date = orders['date'].max()\n",
    "\n",
    "display(f'Период анализа данных: с {start_date} по {end_date}')"
   ]
  },
  {
   "cell_type": "markdown",
   "metadata": {},
   "source": [
    "Период взятых для анализа данных по  заказам - Август 2019 год.\n",
    "\n",
    "Рассмотрю дискретные данные датафрейма orders."
   ]
  },
  {
   "cell_type": "code",
   "execution_count": 15,
   "metadata": {},
   "outputs": [
    {
     "data": {
      "text/html": [
       "<div>\n",
       "<style scoped>\n",
       "    .dataframe tbody tr th:only-of-type {\n",
       "        vertical-align: middle;\n",
       "    }\n",
       "\n",
       "    .dataframe tbody tr th {\n",
       "        vertical-align: top;\n",
       "    }\n",
       "\n",
       "    .dataframe thead th {\n",
       "        text-align: right;\n",
       "    }\n",
       "</style>\n",
       "<table border=\"1\" class=\"dataframe\">\n",
       "  <thead>\n",
       "    <tr style=\"text-align: right;\">\n",
       "      <th></th>\n",
       "      <th>count</th>\n",
       "      <th>mean</th>\n",
       "      <th>std</th>\n",
       "      <th>min</th>\n",
       "      <th>25%</th>\n",
       "      <th>50%</th>\n",
       "      <th>75%</th>\n",
       "      <th>max</th>\n",
       "    </tr>\n",
       "  </thead>\n",
       "  <tbody>\n",
       "    <tr>\n",
       "      <th>transactionId</th>\n",
       "      <td>1197.000</td>\n",
       "      <td>2155621385.530</td>\n",
       "      <td>1229084904.760</td>\n",
       "      <td>1062393.000</td>\n",
       "      <td>1166775572.000</td>\n",
       "      <td>2145193898.000</td>\n",
       "      <td>3237740112.000</td>\n",
       "      <td>4293855558.000</td>\n",
       "    </tr>\n",
       "    <tr>\n",
       "      <th>visitorId</th>\n",
       "      <td>1197.000</td>\n",
       "      <td>2165960143.099</td>\n",
       "      <td>1236014192.147</td>\n",
       "      <td>5114589.000</td>\n",
       "      <td>1111826046.000</td>\n",
       "      <td>2217984702.000</td>\n",
       "      <td>3177606451.000</td>\n",
       "      <td>4283872382.000</td>\n",
       "    </tr>\n",
       "    <tr>\n",
       "      <th>revenue</th>\n",
       "      <td>1197.000</td>\n",
       "      <td>8348.006</td>\n",
       "      <td>39191.132</td>\n",
       "      <td>50.000</td>\n",
       "      <td>1220.000</td>\n",
       "      <td>2978.000</td>\n",
       "      <td>8290.000</td>\n",
       "      <td>1294500.000</td>\n",
       "    </tr>\n",
       "  </tbody>\n",
       "</table>\n",
       "</div>"
      ],
      "text/plain": [
       "                 count           mean            std         min  \\\n",
       "transactionId 1197.000 2155621385.530 1229084904.760 1062393.000   \n",
       "visitorId     1197.000 2165960143.099 1236014192.147 5114589.000   \n",
       "revenue       1197.000       8348.006      39191.132      50.000   \n",
       "\n",
       "                         25%            50%            75%            max  \n",
       "transactionId 1166775572.000 2145193898.000 3237740112.000 4293855558.000  \n",
       "visitorId     1111826046.000 2217984702.000 3177606451.000 4283872382.000  \n",
       "revenue             1220.000       2978.000       8290.000    1294500.000  "
      ]
     },
     "execution_count": 15,
     "metadata": {},
     "output_type": "execute_result"
    }
   ],
   "source": [
    "orders.describe().T"
   ]
  },
  {
   "cell_type": "markdown",
   "metadata": {},
   "source": [
    "- минимальная выручка 50, максимальная 1 294 500,\n",
    "- 25% заказов с выручкой меньше 1220, а 75% заказов с выручкой меньше 8290,\n",
    "- средняя выручка по обеим группам 8348, а медианная (50%) 2978,\n",
    "- стандартное отклонение 39 191 - очень велико.\n",
    "\n",
    "По выведеным статистическим данным можно предположить, что в них присутствуют выбросы, т.к. стандартное отклонение и разница между средним и медианным заначениями велики."
   ]
  },
  {
   "cell_type": "markdown",
   "metadata": {},
   "source": [
    "### Посетители (датафрейм visitors)."
   ]
  },
  {
   "cell_type": "code",
   "execution_count": 16,
   "metadata": {},
   "outputs": [
    {
     "name": "stdout",
     "output_type": "stream",
     "text": [
      "<class 'pandas.core.frame.DataFrame'>\n",
      "RangeIndex: 62 entries, 0 to 61\n",
      "Data columns (total 3 columns):\n",
      " #   Column    Non-Null Count  Dtype \n",
      "---  ------    --------------  ----- \n",
      " 0   date      62 non-null     object\n",
      " 1   group     62 non-null     object\n",
      " 2   visitors  62 non-null     int64 \n",
      "dtypes: int64(1), object(2)\n",
      "memory usage: 1.6+ KB\n"
     ]
    }
   ],
   "source": [
    "visitors.info()"
   ]
  },
  {
   "cell_type": "code",
   "execution_count": 17,
   "metadata": {},
   "outputs": [
    {
     "data": {
      "text/html": [
       "<div>\n",
       "<style scoped>\n",
       "    .dataframe tbody tr th:only-of-type {\n",
       "        vertical-align: middle;\n",
       "    }\n",
       "\n",
       "    .dataframe tbody tr th {\n",
       "        vertical-align: top;\n",
       "    }\n",
       "\n",
       "    .dataframe thead th {\n",
       "        text-align: right;\n",
       "    }\n",
       "</style>\n",
       "<table border=\"1\" class=\"dataframe\">\n",
       "  <thead>\n",
       "    <tr style=\"text-align: right;\">\n",
       "      <th></th>\n",
       "      <th>date</th>\n",
       "      <th>group</th>\n",
       "      <th>visitors</th>\n",
       "    </tr>\n",
       "  </thead>\n",
       "  <tbody>\n",
       "    <tr>\n",
       "      <th>0</th>\n",
       "      <td>2019-08-01</td>\n",
       "      <td>A</td>\n",
       "      <td>719</td>\n",
       "    </tr>\n",
       "    <tr>\n",
       "      <th>1</th>\n",
       "      <td>2019-08-02</td>\n",
       "      <td>A</td>\n",
       "      <td>619</td>\n",
       "    </tr>\n",
       "    <tr>\n",
       "      <th>2</th>\n",
       "      <td>2019-08-03</td>\n",
       "      <td>A</td>\n",
       "      <td>507</td>\n",
       "    </tr>\n",
       "    <tr>\n",
       "      <th>3</th>\n",
       "      <td>2019-08-04</td>\n",
       "      <td>A</td>\n",
       "      <td>717</td>\n",
       "    </tr>\n",
       "    <tr>\n",
       "      <th>4</th>\n",
       "      <td>2019-08-05</td>\n",
       "      <td>A</td>\n",
       "      <td>756</td>\n",
       "    </tr>\n",
       "  </tbody>\n",
       "</table>\n",
       "</div>"
      ],
      "text/plain": [
       "         date group  visitors\n",
       "0  2019-08-01     A       719\n",
       "1  2019-08-02     A       619\n",
       "2  2019-08-03     A       507\n",
       "3  2019-08-04     A       717\n",
       "4  2019-08-05     A       756"
      ]
     },
     "execution_count": 17,
     "metadata": {},
     "output_type": "execute_result"
    }
   ],
   "source": [
    "visitors.head()"
   ]
  },
  {
   "cell_type": "markdown",
   "metadata": {},
   "source": [
    "- Данные загружены и читаются корректно.\n",
    "- Датафрейм **visitors** имеет 3 поля и 62 строки.\n",
    "- Название полей не требует корректировок.\n",
    "- Требуется корректировка типа данных поля date с object на datetime.\n",
    "\n",
    "Далее изменю тип данных поля date и проверю данные на наличие пропусков и дубликатов."
   ]
  },
  {
   "cell_type": "code",
   "execution_count": 18,
   "metadata": {},
   "outputs": [
    {
     "name": "stdout",
     "output_type": "stream",
     "text": [
      "<class 'pandas.core.frame.DataFrame'>\n",
      "RangeIndex: 62 entries, 0 to 61\n",
      "Data columns (total 3 columns):\n",
      " #   Column    Non-Null Count  Dtype         \n",
      "---  ------    --------------  -----         \n",
      " 0   date      62 non-null     datetime64[ns]\n",
      " 1   group     62 non-null     object        \n",
      " 2   visitors  62 non-null     int64         \n",
      "dtypes: datetime64[ns](1), int64(1), object(1)\n",
      "memory usage: 1.6+ KB\n"
     ]
    }
   ],
   "source": [
    "visitors['date'] = visitors['date'].map(\n",
    "    lambda x: dt.datetime.strptime(x, '%Y-%m-%d')\n",
    ")\n",
    "visitors.info()"
   ]
  },
  {
   "cell_type": "code",
   "execution_count": 19,
   "metadata": {},
   "outputs": [
    {
     "data": {
      "text/plain": [
       "date       0.000\n",
       "group      0.000\n",
       "visitors   0.000\n",
       "dtype: float64"
      ]
     },
     "metadata": {},
     "output_type": "display_data"
    }
   ],
   "source": [
    "# информация о количестве пропусков (в %) в датафрейме visitors\n",
    "display((visitors.isna().mean() * 100).sort_values(ascending=False))"
   ]
  },
  {
   "cell_type": "code",
   "execution_count": 20,
   "metadata": {},
   "outputs": [
    {
     "data": {
      "text/plain": [
       "'Количество полных дубликатов:'"
      ]
     },
     "metadata": {},
     "output_type": "display_data"
    },
    {
     "data": {
      "text/plain": [
       "0"
      ]
     },
     "metadata": {},
     "output_type": "display_data"
    }
   ],
   "source": [
    "# явные дубликаты всего датафрейма visitors\n",
    "display('Количество полных дубликатов:', visitors.duplicated(keep=False).sum())\n",
    "#display('Процент количества дубликатов:', visitors.duplicated(keep=False).sum()/ len(visitors)* 100)"
   ]
  },
  {
   "cell_type": "markdown",
   "metadata": {},
   "source": [
    "Пропусков и полных дубликатов в данных нет.\n",
    "Измение типа данных поля date сработало корректно.\n",
    "\n",
    "Определю период проведения теста."
   ]
  },
  {
   "cell_type": "code",
   "execution_count": 21,
   "metadata": {},
   "outputs": [
    {
     "data": {
      "text/plain": [
       "'Период анализа данных: с 2019-08-01 00:00:00 по 2019-08-31 00:00:00'"
      ]
     },
     "metadata": {},
     "output_type": "display_data"
    }
   ],
   "source": [
    "# Определение периода анализа данных\n",
    "start_date = visitors['date'].min()\n",
    "end_date = visitors['date'].max()\n",
    "\n",
    "display(f'Период анализа данных: с {start_date} по {end_date}')"
   ]
  },
  {
   "cell_type": "markdown",
   "metadata": {},
   "source": [
    "Период взятых для анализа данных по  заказам - Август 2019 год.\n",
    "\n",
    "Рассмотрю дискретные данные датафрейма visitors."
   ]
  },
  {
   "cell_type": "code",
   "execution_count": 22,
   "metadata": {},
   "outputs": [
    {
     "data": {
      "text/html": [
       "<div>\n",
       "<style scoped>\n",
       "    .dataframe tbody tr th:only-of-type {\n",
       "        vertical-align: middle;\n",
       "    }\n",
       "\n",
       "    .dataframe tbody tr th {\n",
       "        vertical-align: top;\n",
       "    }\n",
       "\n",
       "    .dataframe thead th {\n",
       "        text-align: right;\n",
       "    }\n",
       "</style>\n",
       "<table border=\"1\" class=\"dataframe\">\n",
       "  <thead>\n",
       "    <tr style=\"text-align: right;\">\n",
       "      <th></th>\n",
       "      <th>count</th>\n",
       "      <th>mean</th>\n",
       "      <th>std</th>\n",
       "      <th>min</th>\n",
       "      <th>25%</th>\n",
       "      <th>50%</th>\n",
       "      <th>75%</th>\n",
       "      <th>max</th>\n",
       "    </tr>\n",
       "  </thead>\n",
       "  <tbody>\n",
       "    <tr>\n",
       "      <th>visitors</th>\n",
       "      <td>62.000</td>\n",
       "      <td>607.290</td>\n",
       "      <td>114.401</td>\n",
       "      <td>361.000</td>\n",
       "      <td>534.000</td>\n",
       "      <td>624.500</td>\n",
       "      <td>710.500</td>\n",
       "      <td>770.000</td>\n",
       "    </tr>\n",
       "  </tbody>\n",
       "</table>\n",
       "</div>"
      ],
      "text/plain": [
       "          count    mean     std     min     25%     50%     75%     max\n",
       "visitors 62.000 607.290 114.401 361.000 534.000 624.500 710.500 770.000"
      ]
     },
     "execution_count": 22,
     "metadata": {},
     "output_type": "execute_result"
    }
   ],
   "source": [
    "visitors.describe().T"
   ]
  },
  {
   "cell_type": "markdown",
   "metadata": {},
   "source": [
    "- минимальное количество посетителей 361, максимальное 770,\n",
    "- 25% посетителей в день меньше 534, а 75%  меньше 710,\n",
    "- среднее значение посетителей в день 607, а медианное (50%) 624,\n",
    "- стандартное отклонение 114.\n"
   ]
  },
  {
   "cell_type": "markdown",
   "metadata": {},
   "source": [
    "### Вывод по предобработке данных.\n",
    "**На этом шаге выполнена следующая работа:**\n",
    "- изучено корретное отображение информации;\n",
    "- изучена общая информация о датафреймах;\n",
    "- изучено наличие пропусков;\n",
    "- изучены дубликаты;\n",
    "- определен период анализа данных;\n",
    "- изучена дискретная информация;\n",
    "- определен список гипотез.\n",
    "\n",
    "\n",
    "**Ключевые моменты:**\n",
    "1. Информация всех датавреймов отображается корректно.\n",
    "2. Корректировка написания столбцов не требуется.\n",
    "В датафреймах с информацией о Заказах (orders) и Посетителях (visitors) изменила тип данных столбца 'data' с object на date.\n",
    "3. Пропуски во всех датафреймах отсутствуют.\n",
    "4. Полные дубликаты отсутствуют.\n",
    "5. Дискретная информация:\n",
    "\n",
    "*Заказы (orders)*\n",
    "- минимальная выручка 50, максимальная 1 294 500,\n",
    "- 25% заказов с выручкой меньше 1220, а 75% заказов с выручкой меньше 8290,\n",
    "- средняя выручка по обеим группам 8348, а медианная (50%) 2978,\n",
    "- стандартное отклонение 39 191 - очень велико.\n",
    "\n",
    "По выведеным статистическим данным можно предположить, что в них присутствуют выбросы, т.к. стандартное отклонение и разница между средним и медианным заначениями велики.\n",
    "\n",
    "*Посетители (visitors)*\n",
    "- минимальное количество посетителей 361, максимальное 770,\n",
    "- 25% посетителей в день меньше 534, а 75%  меньше 710,\n",
    "- среднее значение посетителей в день 607, а медианное (50%) 624,\n",
    "- стандартное отклонение 114.\n",
    "\n",
    "6. Период анализа данных Август (с 1 по 31 включительно) 2019 года. Период одинаков для обоих датафреймов с датой (orders, visitors).\n",
    "7. Список гипотез:\n",
    "    1. 1 Добавить два новых канала привлечения трафика, что позволит привлекать на 30% больше пользователей.\n",
    "    2. 2 Запустить собственную службу доставки, что сократит срок доставки заказов.\n",
    "    3. 3 Добавить блоки рекомендаций товаров на сайт интернет магазина, чтобы повысить конверсию и средний чек заказа.\n",
    "    4. 4 Изменить структура категорий, что увеличит конверсию, т.к. пользователи быстрее найдут нужный товар.\n",
    "    5. 5 Изменить цвет фона главной страницы, чтобы увеличить вовлеченность пользователей.\n",
    "    6. 6 Добавить страницу отзывов клиентов о магазине, что позволит увеличить количество заказов.\n",
    "    7. 7 Показать на главной странице баннеры с актуальными акциями и распродажами, чтобы увеличить конверсию.\n",
    "    8. 8 Добавить форму подписки на все основные страницы, чтобы собрать базу клиентов для email-рассылок.\n",
    "    9. 9 Запустить акцию, дающую скидку на товар в день рождения."
   ]
  },
  {
   "cell_type": "markdown",
   "metadata": {},
   "source": [
    "## Часть 1. Приоритезация гипотез.\n",
    "Задача:\n",
    "- Примените фреймворк ICE для приоритизации гипотез. Отсортируйте их по убыванию приоритета.\n",
    "- Примените фреймворк RICE для приоритизации гипотез. Отсортируйте их по убыванию приоритета.\n",
    "- Укажите, как изменилась приоритизация гипотез при применении RICE вместо ICE. Объясните, почему так произошло."
   ]
  },
  {
   "cell_type": "code",
   "execution_count": 23,
   "metadata": {},
   "outputs": [
    {
     "data": {
      "text/html": [
       "<div>\n",
       "<style scoped>\n",
       "    .dataframe tbody tr th:only-of-type {\n",
       "        vertical-align: middle;\n",
       "    }\n",
       "\n",
       "    .dataframe tbody tr th {\n",
       "        vertical-align: top;\n",
       "    }\n",
       "\n",
       "    .dataframe thead th {\n",
       "        text-align: right;\n",
       "    }\n",
       "</style>\n",
       "<table border=\"1\" class=\"dataframe\">\n",
       "  <thead>\n",
       "    <tr style=\"text-align: right;\">\n",
       "      <th></th>\n",
       "      <th>Hypothesis</th>\n",
       "      <th>Reach</th>\n",
       "      <th>Impact</th>\n",
       "      <th>Confidence</th>\n",
       "      <th>Efforts</th>\n",
       "    </tr>\n",
       "  </thead>\n",
       "  <tbody>\n",
       "    <tr>\n",
       "      <th>0</th>\n",
       "      <td>Добавить два новых канала привлечения трафика, что позволит привлекать на 30% больше пользователей</td>\n",
       "      <td>3</td>\n",
       "      <td>10</td>\n",
       "      <td>8</td>\n",
       "      <td>6</td>\n",
       "    </tr>\n",
       "    <tr>\n",
       "      <th>1</th>\n",
       "      <td>Запустить собственную службу доставки, что сократит срок доставки заказов</td>\n",
       "      <td>2</td>\n",
       "      <td>5</td>\n",
       "      <td>4</td>\n",
       "      <td>10</td>\n",
       "    </tr>\n",
       "    <tr>\n",
       "      <th>2</th>\n",
       "      <td>Добавить блоки рекомендаций товаров на сайт интернет магазина, чтобы повысить конверсию и средний чек заказа</td>\n",
       "      <td>8</td>\n",
       "      <td>3</td>\n",
       "      <td>7</td>\n",
       "      <td>3</td>\n",
       "    </tr>\n",
       "    <tr>\n",
       "      <th>3</th>\n",
       "      <td>Изменить структура категорий, что увеличит конверсию, т.к. пользователи быстрее найдут нужный товар</td>\n",
       "      <td>8</td>\n",
       "      <td>3</td>\n",
       "      <td>3</td>\n",
       "      <td>8</td>\n",
       "    </tr>\n",
       "    <tr>\n",
       "      <th>4</th>\n",
       "      <td>Изменить цвет фона главной страницы, чтобы увеличить вовлеченность пользователей</td>\n",
       "      <td>3</td>\n",
       "      <td>1</td>\n",
       "      <td>1</td>\n",
       "      <td>1</td>\n",
       "    </tr>\n",
       "    <tr>\n",
       "      <th>5</th>\n",
       "      <td>Добавить страницу отзывов клиентов о магазине, что позволит увеличить количество заказов</td>\n",
       "      <td>3</td>\n",
       "      <td>2</td>\n",
       "      <td>2</td>\n",
       "      <td>3</td>\n",
       "    </tr>\n",
       "    <tr>\n",
       "      <th>6</th>\n",
       "      <td>Показать на главной странице баннеры с актуальными акциями и распродажами, чтобы увеличить конверсию</td>\n",
       "      <td>5</td>\n",
       "      <td>3</td>\n",
       "      <td>8</td>\n",
       "      <td>3</td>\n",
       "    </tr>\n",
       "    <tr>\n",
       "      <th>7</th>\n",
       "      <td>Добавить форму подписки на все основные страницы, чтобы собрать базу клиентов для email-рассылок</td>\n",
       "      <td>10</td>\n",
       "      <td>7</td>\n",
       "      <td>8</td>\n",
       "      <td>5</td>\n",
       "    </tr>\n",
       "    <tr>\n",
       "      <th>8</th>\n",
       "      <td>Запустить акцию, дающую скидку на товар в день рождения</td>\n",
       "      <td>1</td>\n",
       "      <td>9</td>\n",
       "      <td>9</td>\n",
       "      <td>5</td>\n",
       "    </tr>\n",
       "  </tbody>\n",
       "</table>\n",
       "</div>"
      ],
      "text/plain": [
       "                                                                                                     Hypothesis  \\\n",
       "0            Добавить два новых канала привлечения трафика, что позволит привлекать на 30% больше пользователей   \n",
       "1                                     Запустить собственную службу доставки, что сократит срок доставки заказов   \n",
       "2  Добавить блоки рекомендаций товаров на сайт интернет магазина, чтобы повысить конверсию и средний чек заказа   \n",
       "3           Изменить структура категорий, что увеличит конверсию, т.к. пользователи быстрее найдут нужный товар   \n",
       "4                              Изменить цвет фона главной страницы, чтобы увеличить вовлеченность пользователей   \n",
       "5                      Добавить страницу отзывов клиентов о магазине, что позволит увеличить количество заказов   \n",
       "6          Показать на главной странице баннеры с актуальными акциями и распродажами, чтобы увеличить конверсию   \n",
       "7              Добавить форму подписки на все основные страницы, чтобы собрать базу клиентов для email-рассылок   \n",
       "8                                                       Запустить акцию, дающую скидку на товар в день рождения   \n",
       "\n",
       "   Reach  Impact  Confidence  Efforts  \n",
       "0      3      10           8        6  \n",
       "1      2       5           4       10  \n",
       "2      8       3           7        3  \n",
       "3      8       3           3        8  \n",
       "4      3       1           1        1  \n",
       "5      3       2           2        3  \n",
       "6      5       3           8        3  \n",
       "7     10       7           8        5  \n",
       "8      1       9           9        5  "
      ]
     },
     "metadata": {},
     "output_type": "display_data"
    }
   ],
   "source": [
    "display(hypothesis)"
   ]
  },
  {
   "cell_type": "markdown",
   "metadata": {},
   "source": [
    "Датафрейм имеет все компоненты для применения способов приоретизации гипотез ICE и RICE:\n",
    "- Reach — скольких пользователей затронет изменение, которое вы хотите внести;\n",
    "- Impact — насколько сильно изменение повлияет на пользователей, их опыт и удовлетворение от продукта;\n",
    "- Confidence — насколько мы уверены, что это изменение повлияет на пользователей именно так; \n",
    "- Efforts — сколько стоит протестировать эту гипотезу.\n",
    "\n",
    "Все параметры (компоненты) оценены по шкале от 0 до 10.\n",
    "\n",
    "Гипотезы для приоритизации:\n",
    "1. Добавить два новых канала привлечения трафика, что позволит привлекать на 30% больше пользователей.\n",
    "2. Запустить собственную службу доставки, что сократит срок доставки заказов.\n",
    "3. Добавить блоки рекомендаций товаров на сайт интернет магазина, чтобы повысить конверсию и средний чек заказа.\n",
    "4. Изменить структура категорий, что увеличит конверсию, т.к. пользователи быстрее найдут нужный товар.\n",
    "5. Изменить цвет фона главной страницы, чтобы увеличить вовлеченность пользователей.\n",
    "6. Добавить страницу отзывов клиентов о магазине, что позволит увеличить количество заказов.\n",
    "7. Показать на главной странице баннеры с актуальными акциями и распродажами, чтобы увеличить конверсию.\n",
    "8. Добавить форму подписки на все основные страницы, чтобы собрать базу клиентов для email-рассылок.\n",
    "9. Запустить акцию, дающую скидку на товар в день рождения."
   ]
  },
  {
   "cell_type": "markdown",
   "metadata": {},
   "source": [
    "### Фреймворк IСE.\n",
    "\n",
    "Буду расчитывать по формуле \n",
    "ICE = (Impact *Confidence)/ Efforts"
   ]
  },
  {
   "cell_type": "code",
   "execution_count": 24,
   "metadata": {},
   "outputs": [
    {
     "data": {
      "text/html": [
       "<div>\n",
       "<style scoped>\n",
       "    .dataframe tbody tr th:only-of-type {\n",
       "        vertical-align: middle;\n",
       "    }\n",
       "\n",
       "    .dataframe tbody tr th {\n",
       "        vertical-align: top;\n",
       "    }\n",
       "\n",
       "    .dataframe thead th {\n",
       "        text-align: right;\n",
       "    }\n",
       "</style>\n",
       "<table border=\"1\" class=\"dataframe\">\n",
       "  <thead>\n",
       "    <tr style=\"text-align: right;\">\n",
       "      <th></th>\n",
       "      <th>Hypothesis</th>\n",
       "      <th>Reach</th>\n",
       "      <th>Impact</th>\n",
       "      <th>Confidence</th>\n",
       "      <th>Efforts</th>\n",
       "      <th>ICE</th>\n",
       "    </tr>\n",
       "  </thead>\n",
       "  <tbody>\n",
       "    <tr>\n",
       "      <th>8</th>\n",
       "      <td>Запустить акцию, дающую скидку на товар в день рождения</td>\n",
       "      <td>1</td>\n",
       "      <td>9</td>\n",
       "      <td>9</td>\n",
       "      <td>5</td>\n",
       "      <td>16.200</td>\n",
       "    </tr>\n",
       "    <tr>\n",
       "      <th>0</th>\n",
       "      <td>Добавить два новых канала привлечения трафика, что позволит привлекать на 30% больше пользователей</td>\n",
       "      <td>3</td>\n",
       "      <td>10</td>\n",
       "      <td>8</td>\n",
       "      <td>6</td>\n",
       "      <td>13.333</td>\n",
       "    </tr>\n",
       "    <tr>\n",
       "      <th>7</th>\n",
       "      <td>Добавить форму подписки на все основные страницы, чтобы собрать базу клиентов для email-рассылок</td>\n",
       "      <td>10</td>\n",
       "      <td>7</td>\n",
       "      <td>8</td>\n",
       "      <td>5</td>\n",
       "      <td>11.200</td>\n",
       "    </tr>\n",
       "    <tr>\n",
       "      <th>6</th>\n",
       "      <td>Показать на главной странице баннеры с актуальными акциями и распродажами, чтобы увеличить конверсию</td>\n",
       "      <td>5</td>\n",
       "      <td>3</td>\n",
       "      <td>8</td>\n",
       "      <td>3</td>\n",
       "      <td>8.000</td>\n",
       "    </tr>\n",
       "    <tr>\n",
       "      <th>2</th>\n",
       "      <td>Добавить блоки рекомендаций товаров на сайт интернет магазина, чтобы повысить конверсию и средний чек заказа</td>\n",
       "      <td>8</td>\n",
       "      <td>3</td>\n",
       "      <td>7</td>\n",
       "      <td>3</td>\n",
       "      <td>7.000</td>\n",
       "    </tr>\n",
       "    <tr>\n",
       "      <th>1</th>\n",
       "      <td>Запустить собственную службу доставки, что сократит срок доставки заказов</td>\n",
       "      <td>2</td>\n",
       "      <td>5</td>\n",
       "      <td>4</td>\n",
       "      <td>10</td>\n",
       "      <td>2.000</td>\n",
       "    </tr>\n",
       "    <tr>\n",
       "      <th>5</th>\n",
       "      <td>Добавить страницу отзывов клиентов о магазине, что позволит увеличить количество заказов</td>\n",
       "      <td>3</td>\n",
       "      <td>2</td>\n",
       "      <td>2</td>\n",
       "      <td>3</td>\n",
       "      <td>1.333</td>\n",
       "    </tr>\n",
       "    <tr>\n",
       "      <th>3</th>\n",
       "      <td>Изменить структура категорий, что увеличит конверсию, т.к. пользователи быстрее найдут нужный товар</td>\n",
       "      <td>8</td>\n",
       "      <td>3</td>\n",
       "      <td>3</td>\n",
       "      <td>8</td>\n",
       "      <td>1.125</td>\n",
       "    </tr>\n",
       "    <tr>\n",
       "      <th>4</th>\n",
       "      <td>Изменить цвет фона главной страницы, чтобы увеличить вовлеченность пользователей</td>\n",
       "      <td>3</td>\n",
       "      <td>1</td>\n",
       "      <td>1</td>\n",
       "      <td>1</td>\n",
       "      <td>1.000</td>\n",
       "    </tr>\n",
       "  </tbody>\n",
       "</table>\n",
       "</div>"
      ],
      "text/plain": [
       "                                                                                                     Hypothesis  \\\n",
       "8                                                       Запустить акцию, дающую скидку на товар в день рождения   \n",
       "0            Добавить два новых канала привлечения трафика, что позволит привлекать на 30% больше пользователей   \n",
       "7              Добавить форму подписки на все основные страницы, чтобы собрать базу клиентов для email-рассылок   \n",
       "6          Показать на главной странице баннеры с актуальными акциями и распродажами, чтобы увеличить конверсию   \n",
       "2  Добавить блоки рекомендаций товаров на сайт интернет магазина, чтобы повысить конверсию и средний чек заказа   \n",
       "1                                     Запустить собственную службу доставки, что сократит срок доставки заказов   \n",
       "5                      Добавить страницу отзывов клиентов о магазине, что позволит увеличить количество заказов   \n",
       "3           Изменить структура категорий, что увеличит конверсию, т.к. пользователи быстрее найдут нужный товар   \n",
       "4                              Изменить цвет фона главной страницы, чтобы увеличить вовлеченность пользователей   \n",
       "\n",
       "   Reach  Impact  Confidence  Efforts    ICE  \n",
       "8      1       9           9        5 16.200  \n",
       "0      3      10           8        6 13.333  \n",
       "7     10       7           8        5 11.200  \n",
       "6      5       3           8        3  8.000  \n",
       "2      8       3           7        3  7.000  \n",
       "1      2       5           4       10  2.000  \n",
       "5      3       2           2        3  1.333  \n",
       "3      8       3           3        8  1.125  \n",
       "4      3       1           1        1  1.000  "
      ]
     },
     "metadata": {},
     "output_type": "display_data"
    }
   ],
   "source": [
    "hypothesis['ICE'] = (hypothesis['Impact']*hypothesis['Confidence'])/ hypothesis['Efforts']\n",
    "\n",
    "# вывод отсортированной таблицы по убываню ICE\n",
    "display(hypothesis.sort_values(by='ICE', ascending=False))"
   ]
  },
  {
   "cell_type": "markdown",
   "metadata": {},
   "source": [
    "Наиболее перспективные гипотезы по ICE (9, 1, 8, 7, 3):\n",
    "- (9) Запустить акцию, дающую скидку на товар в день рождения;\n",
    "- (1) Добавить два новых канала привлечения трафика, что позволит привлекать на 30% больше пользователей;\n",
    "- (8) Добавить форму подписки на все основные страницы, чтобы собрать базу клиентов для email-рассылок;\n",
    "- (7) Показать на главной странице баннеры с актуальными акциями и распродажами, чтобы увеличить конверсию;\n",
    "- (3) Добавить блоки рекомендаций товаров на сайт интернет магазина, чтобы повысить конверсию и средний чек заказа."
   ]
  },
  {
   "cell_type": "markdown",
   "metadata": {},
   "source": [
    "### Фреймворк RICE.\n",
    "Буду расчитывать по формуле\n",
    "RICE = (Reach* Impact* Confidence)/ Efforts"
   ]
  },
  {
   "cell_type": "code",
   "execution_count": 25,
   "metadata": {},
   "outputs": [
    {
     "data": {
      "text/html": [
       "<div>\n",
       "<style scoped>\n",
       "    .dataframe tbody tr th:only-of-type {\n",
       "        vertical-align: middle;\n",
       "    }\n",
       "\n",
       "    .dataframe tbody tr th {\n",
       "        vertical-align: top;\n",
       "    }\n",
       "\n",
       "    .dataframe thead th {\n",
       "        text-align: right;\n",
       "    }\n",
       "</style>\n",
       "<table border=\"1\" class=\"dataframe\">\n",
       "  <thead>\n",
       "    <tr style=\"text-align: right;\">\n",
       "      <th></th>\n",
       "      <th>Hypothesis</th>\n",
       "      <th>Reach</th>\n",
       "      <th>Impact</th>\n",
       "      <th>Confidence</th>\n",
       "      <th>Efforts</th>\n",
       "      <th>ICE</th>\n",
       "      <th>RICE</th>\n",
       "    </tr>\n",
       "  </thead>\n",
       "  <tbody>\n",
       "    <tr>\n",
       "      <th>7</th>\n",
       "      <td>Добавить форму подписки на все основные страницы, чтобы собрать базу клиентов для email-рассылок</td>\n",
       "      <td>10</td>\n",
       "      <td>7</td>\n",
       "      <td>8</td>\n",
       "      <td>5</td>\n",
       "      <td>11.200</td>\n",
       "      <td>112.000</td>\n",
       "    </tr>\n",
       "    <tr>\n",
       "      <th>2</th>\n",
       "      <td>Добавить блоки рекомендаций товаров на сайт интернет магазина, чтобы повысить конверсию и средний чек заказа</td>\n",
       "      <td>8</td>\n",
       "      <td>3</td>\n",
       "      <td>7</td>\n",
       "      <td>3</td>\n",
       "      <td>7.000</td>\n",
       "      <td>56.000</td>\n",
       "    </tr>\n",
       "    <tr>\n",
       "      <th>0</th>\n",
       "      <td>Добавить два новых канала привлечения трафика, что позволит привлекать на 30% больше пользователей</td>\n",
       "      <td>3</td>\n",
       "      <td>10</td>\n",
       "      <td>8</td>\n",
       "      <td>6</td>\n",
       "      <td>13.333</td>\n",
       "      <td>40.000</td>\n",
       "    </tr>\n",
       "    <tr>\n",
       "      <th>6</th>\n",
       "      <td>Показать на главной странице баннеры с актуальными акциями и распродажами, чтобы увеличить конверсию</td>\n",
       "      <td>5</td>\n",
       "      <td>3</td>\n",
       "      <td>8</td>\n",
       "      <td>3</td>\n",
       "      <td>8.000</td>\n",
       "      <td>40.000</td>\n",
       "    </tr>\n",
       "    <tr>\n",
       "      <th>8</th>\n",
       "      <td>Запустить акцию, дающую скидку на товар в день рождения</td>\n",
       "      <td>1</td>\n",
       "      <td>9</td>\n",
       "      <td>9</td>\n",
       "      <td>5</td>\n",
       "      <td>16.200</td>\n",
       "      <td>16.200</td>\n",
       "    </tr>\n",
       "    <tr>\n",
       "      <th>3</th>\n",
       "      <td>Изменить структура категорий, что увеличит конверсию, т.к. пользователи быстрее найдут нужный товар</td>\n",
       "      <td>8</td>\n",
       "      <td>3</td>\n",
       "      <td>3</td>\n",
       "      <td>8</td>\n",
       "      <td>1.125</td>\n",
       "      <td>9.000</td>\n",
       "    </tr>\n",
       "    <tr>\n",
       "      <th>1</th>\n",
       "      <td>Запустить собственную службу доставки, что сократит срок доставки заказов</td>\n",
       "      <td>2</td>\n",
       "      <td>5</td>\n",
       "      <td>4</td>\n",
       "      <td>10</td>\n",
       "      <td>2.000</td>\n",
       "      <td>4.000</td>\n",
       "    </tr>\n",
       "    <tr>\n",
       "      <th>5</th>\n",
       "      <td>Добавить страницу отзывов клиентов о магазине, что позволит увеличить количество заказов</td>\n",
       "      <td>3</td>\n",
       "      <td>2</td>\n",
       "      <td>2</td>\n",
       "      <td>3</td>\n",
       "      <td>1.333</td>\n",
       "      <td>4.000</td>\n",
       "    </tr>\n",
       "    <tr>\n",
       "      <th>4</th>\n",
       "      <td>Изменить цвет фона главной страницы, чтобы увеличить вовлеченность пользователей</td>\n",
       "      <td>3</td>\n",
       "      <td>1</td>\n",
       "      <td>1</td>\n",
       "      <td>1</td>\n",
       "      <td>1.000</td>\n",
       "      <td>3.000</td>\n",
       "    </tr>\n",
       "  </tbody>\n",
       "</table>\n",
       "</div>"
      ],
      "text/plain": [
       "                                                                                                     Hypothesis  \\\n",
       "7              Добавить форму подписки на все основные страницы, чтобы собрать базу клиентов для email-рассылок   \n",
       "2  Добавить блоки рекомендаций товаров на сайт интернет магазина, чтобы повысить конверсию и средний чек заказа   \n",
       "0            Добавить два новых канала привлечения трафика, что позволит привлекать на 30% больше пользователей   \n",
       "6          Показать на главной странице баннеры с актуальными акциями и распродажами, чтобы увеличить конверсию   \n",
       "8                                                       Запустить акцию, дающую скидку на товар в день рождения   \n",
       "3           Изменить структура категорий, что увеличит конверсию, т.к. пользователи быстрее найдут нужный товар   \n",
       "1                                     Запустить собственную службу доставки, что сократит срок доставки заказов   \n",
       "5                      Добавить страницу отзывов клиентов о магазине, что позволит увеличить количество заказов   \n",
       "4                              Изменить цвет фона главной страницы, чтобы увеличить вовлеченность пользователей   \n",
       "\n",
       "   Reach  Impact  Confidence  Efforts    ICE    RICE  \n",
       "7     10       7           8        5 11.200 112.000  \n",
       "2      8       3           7        3  7.000  56.000  \n",
       "0      3      10           8        6 13.333  40.000  \n",
       "6      5       3           8        3  8.000  40.000  \n",
       "8      1       9           9        5 16.200  16.200  \n",
       "3      8       3           3        8  1.125   9.000  \n",
       "1      2       5           4       10  2.000   4.000  \n",
       "5      3       2           2        3  1.333   4.000  \n",
       "4      3       1           1        1  1.000   3.000  "
      ]
     },
     "metadata": {},
     "output_type": "display_data"
    }
   ],
   "source": [
    "hypothesis['RICE'] = (\n",
    "    (hypothesis['Reach']*hypothesis['Impact']*hypothesis['Confidence'])/ hypothesis['Efforts']\n",
    ")\n",
    "\n",
    "# вывод отсортированной таблицы по убываню RICE\n",
    "display(hypothesis.sort_values(by='RICE', ascending=False))"
   ]
  },
  {
   "cell_type": "markdown",
   "metadata": {},
   "source": [
    "Наиболее перспективные гипотезы по RICE (8, 3, 1, 7, 9): \n",
    "- (8) Добавить форму подписки на все основные страницы, чтобы собрать базу клиентов для email-рассылок;\n",
    "- (3) Добавить блоки рекомендаций товаров на сайт интернет магазина, чтобы повысить конверсию и средний чек заказа;\n",
    "- (1) Добавить два новых канала привлечения трафика, что позволит привлекать на 30% больше пользователей;\n",
    "- (7) Показать на главной странице баннеры с актуальными акциями и распродажами, чтобы увеличить конверсию;\n",
    "- (9) Запустить акцию, дающую скидку на товар в день рождения.\n"
   ]
  },
  {
   "cell_type": "markdown",
   "metadata": {},
   "source": [
    "### Выводы по приоритизации методами ICE / RICE.\n",
    "Применив фреймворки ICE / RICE выявлены наиболее приоритетные гипотезы (одинаковые для обоих фреймворков - 1, 3, 7, 8, 9):\n",
    "- (1) Добавить два новых канала привлечения трафика, что позволит привлекать на 30% больше пользователей;\n",
    "- (3) Добавить блоки рекомендаций товаров на сайт интернет магазина, чтобы повысить конверсию и средний чек заказа;\n",
    "- (7) Показать на главной странице баннеры с актуальными акциями и распродажами, чтобы увеличить конверсию;\n",
    "- (8) Добавить форму подписки на все основные страницы, чтобы собрать базу клиентов для email-рассылок;\n",
    "- (9) Запустить акцию, дающую скидку на товар в день рождения.\n",
    "\n",
    "Но порядок приоритизации разный:\n",
    "- для ICE - это гипотезы 9, 1, 8, 7, 3;\n",
    "- для RICE - это гипотезы 8, 3, 1, 7, 9.\n",
    "\n",
    "Разница в приоритизации возникла, т.к. в расчете RICE участвует компонент Reach (скольких пользователей затронет изменение, которое мы хотим внести) и для гипотез 8 и 3 этот компонет самый большой, поэтому эти гипотезы при расчете RICE заняли лидирующие позиции, а для гипотезы 9 Reach - самый маленький (равен 1), поэтому эта гипотеза опустилась вниз по сравнению с ICE."
   ]
  },
  {
   "cell_type": "markdown",
   "metadata": {},
   "source": [
    "## Часть 2. Анализ A/B-теста.\n",
    "Задача:\n",
    "1. Построить график кумулятивной выручки по группам. Сделайть выводы и предположения.\n",
    "2. Постройть график кумулятивного среднего чека по группам. Сделайть выводы и предположения.\n",
    "3. Постройть график относительного изменения кумулятивного среднего чека группы B к группе A. Сделайть выводы и предположения.\n",
    "4. Постройть график кумулятивного среднего количества заказов на посетителя по группам. Сделайть выводы и предположения.\n",
    "5. Постройть график относительного изменения кумулятивного среднего количества заказов на посетителя группы B к группе A. Сделайть выводы и предположения.\n",
    "6. Постройть точечный график количества заказов по пользователям. Сделайть выводы и предположения.\n",
    "7. Посчитайть 95-й и 99-й перцентили количества заказов на пользователя. Выбрать границу для определения аномальных пользователей.\n",
    "8. Постройть точечный график стоимостей заказов. Сделайть выводы и предположения.\n",
    "9. Посчитать 95-й и 99-й перцентили стоимости заказов. Выберать границу для определения аномальных заказов.\n",
    "10. Посчитать статистическую значимость различий в среднем количестве заказов на посетителя между группами по «сырым» данным. Сделать выводы и предположения.\n",
    "11. Посчитать статистическую значимость различий в среднем чеке заказа между группами по «сырым» данным. Сделать выводы и предположения.\n",
    "12. Посчитать статистическую значимость различий в среднем количестве заказов на посетителя между группами по «очищенным» данным. Сделать выводы и предположения.\n",
    "13. Посчитать статистическую значимость различий в среднем чеке заказа между группами по «очищенным» данным. Сделать выводы и предположения.\n",
    "14. Принять решение по результатам теста и объясните его. Варианты решений:\n",
    "    1. Остановить тест, зафиксировать победу одной из групп.\n",
    "    2. Остановить тест, зафиксировать отсутствие различий между группами.\n",
    "    3. Продолжить тест.\n",
    "    \n",
    "Для решения этих задач буду работать с данными таблиц orders (заказы) и visitors (посетители), эти датафреймы необходимо объединить в один c кумулятивными данными."
   ]
  },
  {
   "cell_type": "code",
   "execution_count": 26,
   "metadata": {},
   "outputs": [
    {
     "data": {
      "text/html": [
       "<div>\n",
       "<style scoped>\n",
       "    .dataframe tbody tr th:only-of-type {\n",
       "        vertical-align: middle;\n",
       "    }\n",
       "\n",
       "    .dataframe tbody tr th {\n",
       "        vertical-align: top;\n",
       "    }\n",
       "\n",
       "    .dataframe thead th {\n",
       "        text-align: right;\n",
       "    }\n",
       "</style>\n",
       "<table border=\"1\" class=\"dataframe\">\n",
       "  <thead>\n",
       "    <tr style=\"text-align: right;\">\n",
       "      <th></th>\n",
       "      <th>transactionId</th>\n",
       "      <th>visitorId</th>\n",
       "      <th>date</th>\n",
       "      <th>revenue</th>\n",
       "      <th>group</th>\n",
       "    </tr>\n",
       "  </thead>\n",
       "  <tbody>\n",
       "    <tr>\n",
       "      <th>0</th>\n",
       "      <td>3667963787</td>\n",
       "      <td>3312258926</td>\n",
       "      <td>2019-08-15</td>\n",
       "      <td>1650</td>\n",
       "      <td>B</td>\n",
       "    </tr>\n",
       "    <tr>\n",
       "      <th>1</th>\n",
       "      <td>2804400009</td>\n",
       "      <td>3642806036</td>\n",
       "      <td>2019-08-15</td>\n",
       "      <td>730</td>\n",
       "      <td>B</td>\n",
       "    </tr>\n",
       "    <tr>\n",
       "      <th>2</th>\n",
       "      <td>2961555356</td>\n",
       "      <td>4069496402</td>\n",
       "      <td>2019-08-15</td>\n",
       "      <td>400</td>\n",
       "      <td>A</td>\n",
       "    </tr>\n",
       "    <tr>\n",
       "      <th>3</th>\n",
       "      <td>3797467345</td>\n",
       "      <td>1196621759</td>\n",
       "      <td>2019-08-15</td>\n",
       "      <td>9759</td>\n",
       "      <td>B</td>\n",
       "    </tr>\n",
       "    <tr>\n",
       "      <th>4</th>\n",
       "      <td>2282983706</td>\n",
       "      <td>2322279887</td>\n",
       "      <td>2019-08-15</td>\n",
       "      <td>2308</td>\n",
       "      <td>B</td>\n",
       "    </tr>\n",
       "  </tbody>\n",
       "</table>\n",
       "</div>"
      ],
      "text/plain": [
       "   transactionId   visitorId       date  revenue group\n",
       "0     3667963787  3312258926 2019-08-15     1650     B\n",
       "1     2804400009  3642806036 2019-08-15      730     B\n",
       "2     2961555356  4069496402 2019-08-15      400     A\n",
       "3     3797467345  1196621759 2019-08-15     9759     B\n",
       "4     2282983706  2322279887 2019-08-15     2308     B"
      ]
     },
     "execution_count": 26,
     "metadata": {},
     "output_type": "execute_result"
    }
   ],
   "source": [
    "orders.head()"
   ]
  },
  {
   "cell_type": "code",
   "execution_count": 27,
   "metadata": {},
   "outputs": [
    {
     "data": {
      "text/html": [
       "<div>\n",
       "<style scoped>\n",
       "    .dataframe tbody tr th:only-of-type {\n",
       "        vertical-align: middle;\n",
       "    }\n",
       "\n",
       "    .dataframe tbody tr th {\n",
       "        vertical-align: top;\n",
       "    }\n",
       "\n",
       "    .dataframe thead th {\n",
       "        text-align: right;\n",
       "    }\n",
       "</style>\n",
       "<table border=\"1\" class=\"dataframe\">\n",
       "  <thead>\n",
       "    <tr style=\"text-align: right;\">\n",
       "      <th></th>\n",
       "      <th>date</th>\n",
       "      <th>group</th>\n",
       "      <th>visitors</th>\n",
       "    </tr>\n",
       "  </thead>\n",
       "  <tbody>\n",
       "    <tr>\n",
       "      <th>0</th>\n",
       "      <td>2019-08-01</td>\n",
       "      <td>A</td>\n",
       "      <td>719</td>\n",
       "    </tr>\n",
       "    <tr>\n",
       "      <th>1</th>\n",
       "      <td>2019-08-02</td>\n",
       "      <td>A</td>\n",
       "      <td>619</td>\n",
       "    </tr>\n",
       "    <tr>\n",
       "      <th>2</th>\n",
       "      <td>2019-08-03</td>\n",
       "      <td>A</td>\n",
       "      <td>507</td>\n",
       "    </tr>\n",
       "    <tr>\n",
       "      <th>3</th>\n",
       "      <td>2019-08-04</td>\n",
       "      <td>A</td>\n",
       "      <td>717</td>\n",
       "    </tr>\n",
       "    <tr>\n",
       "      <th>4</th>\n",
       "      <td>2019-08-05</td>\n",
       "      <td>A</td>\n",
       "      <td>756</td>\n",
       "    </tr>\n",
       "  </tbody>\n",
       "</table>\n",
       "</div>"
      ],
      "text/plain": [
       "        date group  visitors\n",
       "0 2019-08-01     A       719\n",
       "1 2019-08-02     A       619\n",
       "2 2019-08-03     A       507\n",
       "3 2019-08-04     A       717\n",
       "4 2019-08-05     A       756"
      ]
     },
     "execution_count": 27,
     "metadata": {},
     "output_type": "execute_result"
    }
   ],
   "source": [
    "visitors.head()"
   ]
  },
  {
   "cell_type": "code",
   "execution_count": 28,
   "metadata": {},
   "outputs": [
    {
     "data": {
      "text/html": [
       "<div>\n",
       "<style scoped>\n",
       "    .dataframe tbody tr th:only-of-type {\n",
       "        vertical-align: middle;\n",
       "    }\n",
       "\n",
       "    .dataframe tbody tr th {\n",
       "        vertical-align: top;\n",
       "    }\n",
       "\n",
       "    .dataframe thead th {\n",
       "        text-align: right;\n",
       "    }\n",
       "</style>\n",
       "<table border=\"1\" class=\"dataframe\">\n",
       "  <thead>\n",
       "    <tr style=\"text-align: right;\">\n",
       "      <th></th>\n",
       "      <th>date</th>\n",
       "      <th>group</th>\n",
       "      <th>orders</th>\n",
       "      <th>buyers</th>\n",
       "      <th>revenue</th>\n",
       "      <th>visitors</th>\n",
       "    </tr>\n",
       "  </thead>\n",
       "  <tbody>\n",
       "    <tr>\n",
       "      <th>0</th>\n",
       "      <td>2019-08-01</td>\n",
       "      <td>A</td>\n",
       "      <td>24</td>\n",
       "      <td>20</td>\n",
       "      <td>148579</td>\n",
       "      <td>719</td>\n",
       "    </tr>\n",
       "    <tr>\n",
       "      <th>1</th>\n",
       "      <td>2019-08-01</td>\n",
       "      <td>B</td>\n",
       "      <td>21</td>\n",
       "      <td>20</td>\n",
       "      <td>101217</td>\n",
       "      <td>713</td>\n",
       "    </tr>\n",
       "    <tr>\n",
       "      <th>2</th>\n",
       "      <td>2019-08-02</td>\n",
       "      <td>A</td>\n",
       "      <td>44</td>\n",
       "      <td>38</td>\n",
       "      <td>242401</td>\n",
       "      <td>1338</td>\n",
       "    </tr>\n",
       "    <tr>\n",
       "      <th>3</th>\n",
       "      <td>2019-08-02</td>\n",
       "      <td>B</td>\n",
       "      <td>45</td>\n",
       "      <td>43</td>\n",
       "      <td>266748</td>\n",
       "      <td>1294</td>\n",
       "    </tr>\n",
       "    <tr>\n",
       "      <th>4</th>\n",
       "      <td>2019-08-03</td>\n",
       "      <td>A</td>\n",
       "      <td>68</td>\n",
       "      <td>62</td>\n",
       "      <td>354874</td>\n",
       "      <td>1845</td>\n",
       "    </tr>\n",
       "  </tbody>\n",
       "</table>\n",
       "</div>"
      ],
      "text/plain": [
       "        date group  orders  buyers  revenue  visitors\n",
       "0 2019-08-01     A      24      20   148579       719\n",
       "1 2019-08-01     B      21      20   101217       713\n",
       "2 2019-08-02     A      44      38   242401      1338\n",
       "3 2019-08-02     B      45      43   266748      1294\n",
       "4 2019-08-03     A      68      62   354874      1845"
      ]
     },
     "metadata": {},
     "output_type": "display_data"
    }
   ],
   "source": [
    "# создаем массив уникальных пар значений дат и групп теста\n",
    "datesGroups = orders[['date','group']].drop_duplicates()\n",
    "\n",
    "# получаем агрегированные кумулятивные по дням данные о заказах \n",
    "ordersAggregated = (\n",
    "    datesGroups.apply(lambda x: orders[np.logical_and(orders['date'] <= x['date'],\n",
    "                                                      orders['group'] == x['group'])]\n",
    "                      .agg({'date' : 'max',\n",
    "                            'group' : 'max',\n",
    "                            'transactionId' : 'nunique',\n",
    "                            'visitorId' : 'nunique',\n",
    "                            'revenue' : 'sum'}), axis=1)\n",
    "                      .sort_values(by=['date','group'])\n",
    ")\n",
    "\n",
    "# получаем агрегированные кумулятивные по дням данные о посетителях интернет-магазина \n",
    "visitorsAggregated = (\n",
    "    datesGroups.apply(lambda x: visitors[np.logical_and(visitors['date'] <= x['date'],\n",
    "                                                        visitors['group'] == x['group'])]\n",
    "                      .agg({'date' : 'max',\n",
    "                            'group' : 'max',\n",
    "                            'visitors' : 'sum'}), axis=1)\n",
    "                      .sort_values(by=['date','group'])\n",
    ")\n",
    "\n",
    "# объединяем кумулятивные данные в одной таблице и присваиваем ее столбцам понятные названия\n",
    "cumulativeData = (\n",
    "    ordersAggregated.merge(visitorsAggregated, left_on=['date', 'group'], \n",
    "                           right_on=['date', 'group'])\n",
    ")\n",
    "cumulativeData.columns = ['date', 'group', 'orders', 'buyers', 'revenue', 'visitors']\n",
    "\n",
    "display(cumulativeData.head(5))"
   ]
  },
  {
   "cell_type": "code",
   "execution_count": 29,
   "metadata": {},
   "outputs": [
    {
     "name": "stdout",
     "output_type": "stream",
     "text": [
      "<class 'pandas.core.frame.DataFrame'>\n",
      "Int64Index: 62 entries, 0 to 61\n",
      "Data columns (total 6 columns):\n",
      " #   Column    Non-Null Count  Dtype         \n",
      "---  ------    --------------  -----         \n",
      " 0   date      62 non-null     datetime64[ns]\n",
      " 1   group     62 non-null     object        \n",
      " 2   orders    62 non-null     int64         \n",
      " 3   buyers    62 non-null     int64         \n",
      " 4   revenue   62 non-null     int64         \n",
      " 5   visitors  62 non-null     int64         \n",
      "dtypes: datetime64[ns](1), int64(4), object(1)\n",
      "memory usage: 3.4+ KB\n"
     ]
    }
   ],
   "source": [
    "cumulativeData.info()"
   ]
  },
  {
   "cell_type": "markdown",
   "metadata": {},
   "source": [
    "Датафрейм cumulativeData - это кумулятивные данные со столбцами: \n",
    "- date — дата;\n",
    "- group — группа A/B-теста (A или B);\n",
    "- orders — кумулятивное количество заказов на указанную дату в указанной группе;\n",
    "- buyers — кумулятивное количество пользователей, совершивших хотя бы один заказ, на указанную дату в указанной группе;\n",
    "- revenue — кумулятивная выручка на указанную дату в указанной группе (средний чек);\n",
    "- visitors — кумулятивное количество посетителей интернет-магазина на указанную дату в определённой группе."
   ]
  },
  {
   "cell_type": "markdown",
   "metadata": {},
   "source": [
    "### График кумулятивной выручки по группам.\n",
    "Построю графики кумулятивной выручки по дням и группам A/B-тестирования."
   ]
  },
  {
   "cell_type": "code",
   "execution_count": 30,
   "metadata": {},
   "outputs": [
    {
     "data": {
      "text/html": [
       "<div>\n",
       "<style scoped>\n",
       "    .dataframe tbody tr th:only-of-type {\n",
       "        vertical-align: middle;\n",
       "    }\n",
       "\n",
       "    .dataframe tbody tr th {\n",
       "        vertical-align: top;\n",
       "    }\n",
       "\n",
       "    .dataframe thead th {\n",
       "        text-align: right;\n",
       "    }\n",
       "</style>\n",
       "<table border=\"1\" class=\"dataframe\">\n",
       "  <thead>\n",
       "    <tr style=\"text-align: right;\">\n",
       "      <th></th>\n",
       "      <th>date</th>\n",
       "      <th>revenue</th>\n",
       "      <th>orders</th>\n",
       "    </tr>\n",
       "  </thead>\n",
       "  <tbody>\n",
       "    <tr>\n",
       "      <th>0</th>\n",
       "      <td>2019-08-01</td>\n",
       "      <td>148579</td>\n",
       "      <td>24</td>\n",
       "    </tr>\n",
       "    <tr>\n",
       "      <th>2</th>\n",
       "      <td>2019-08-02</td>\n",
       "      <td>242401</td>\n",
       "      <td>44</td>\n",
       "    </tr>\n",
       "    <tr>\n",
       "      <th>4</th>\n",
       "      <td>2019-08-03</td>\n",
       "      <td>354874</td>\n",
       "      <td>68</td>\n",
       "    </tr>\n",
       "    <tr>\n",
       "      <th>6</th>\n",
       "      <td>2019-08-04</td>\n",
       "      <td>425699</td>\n",
       "      <td>84</td>\n",
       "    </tr>\n",
       "    <tr>\n",
       "      <th>8</th>\n",
       "      <td>2019-08-05</td>\n",
       "      <td>549917</td>\n",
       "      <td>109</td>\n",
       "    </tr>\n",
       "  </tbody>\n",
       "</table>\n",
       "</div>"
      ],
      "text/plain": [
       "        date  revenue  orders\n",
       "0 2019-08-01   148579      24\n",
       "2 2019-08-02   242401      44\n",
       "4 2019-08-03   354874      68\n",
       "6 2019-08-04   425699      84\n",
       "8 2019-08-05   549917     109"
      ]
     },
     "metadata": {},
     "output_type": "display_data"
    },
    {
     "data": {
      "text/html": [
       "<div>\n",
       "<style scoped>\n",
       "    .dataframe tbody tr th:only-of-type {\n",
       "        vertical-align: middle;\n",
       "    }\n",
       "\n",
       "    .dataframe tbody tr th {\n",
       "        vertical-align: top;\n",
       "    }\n",
       "\n",
       "    .dataframe thead th {\n",
       "        text-align: right;\n",
       "    }\n",
       "</style>\n",
       "<table border=\"1\" class=\"dataframe\">\n",
       "  <thead>\n",
       "    <tr style=\"text-align: right;\">\n",
       "      <th></th>\n",
       "      <th>date</th>\n",
       "      <th>revenue</th>\n",
       "      <th>orders</th>\n",
       "    </tr>\n",
       "  </thead>\n",
       "  <tbody>\n",
       "    <tr>\n",
       "      <th>1</th>\n",
       "      <td>2019-08-01</td>\n",
       "      <td>101217</td>\n",
       "      <td>21</td>\n",
       "    </tr>\n",
       "    <tr>\n",
       "      <th>3</th>\n",
       "      <td>2019-08-02</td>\n",
       "      <td>266748</td>\n",
       "      <td>45</td>\n",
       "    </tr>\n",
       "    <tr>\n",
       "      <th>5</th>\n",
       "      <td>2019-08-03</td>\n",
       "      <td>380996</td>\n",
       "      <td>61</td>\n",
       "    </tr>\n",
       "    <tr>\n",
       "      <th>7</th>\n",
       "      <td>2019-08-04</td>\n",
       "      <td>489567</td>\n",
       "      <td>78</td>\n",
       "    </tr>\n",
       "    <tr>\n",
       "      <th>9</th>\n",
       "      <td>2019-08-05</td>\n",
       "      <td>581995</td>\n",
       "      <td>101</td>\n",
       "    </tr>\n",
       "  </tbody>\n",
       "</table>\n",
       "</div>"
      ],
      "text/plain": [
       "        date  revenue  orders\n",
       "1 2019-08-01   101217      21\n",
       "3 2019-08-02   266748      45\n",
       "5 2019-08-03   380996      61\n",
       "7 2019-08-04   489567      78\n",
       "9 2019-08-05   581995     101"
      ]
     },
     "metadata": {},
     "output_type": "display_data"
    },
    {
     "data": {
      "image/png": "[encoded data removed]",
      "text/plain": [
       "<Figure size 864x576 with 1 Axes>"
      ]
     },
     "metadata": {
      "needs_background": "light"
     },
     "output_type": "display_data"
    }
   ],
   "source": [
    "# датафрейм с кумулятивным количеством заказов и кумулятивной выручкой по дням в группе А\n",
    "cumulativeRevenueA = cumulativeData[cumulativeData['group']=='A'][['date','revenue', 'orders']]\n",
    "display(cumulativeRevenueA.head())\n",
    "\n",
    "# датафрейм с кумулятивным количеством заказов и кумулятивной выручкой по дням в группе B\n",
    "cumulativeRevenueB = cumulativeData[cumulativeData['group']=='B'][['date','revenue', 'orders']]\n",
    "display(cumulativeRevenueB.head())\n",
    "\n",
    "# задаем размеры графика \n",
    "plt.figure(figsize=(12, 8))\n",
    "\n",
    "# Строим график выручки группы А\n",
    "plt.plot(cumulativeRevenueA['date'], cumulativeRevenueA['revenue'], label='группа A')\n",
    "\n",
    "# Строим график выручки группы B\n",
    "plt.plot(cumulativeRevenueB['date'], cumulativeRevenueB['revenue'], label='группа B')\n",
    "\n",
    "plt.title('График кумулятивной выручки по группам', fontsize=16)\n",
    "plt.xlabel('Дата', fontsize=12)\n",
    "plt.ylabel('Выручка', fontsize=12)\n",
    "\n",
    "# Настраиваем ось Y для отображения в тысячах/миллионах\n",
    "ax = plt.gca()  # Получаем текущие оси\n",
    "ax.yaxis.set_major_formatter(ticker.FuncFormatter(lambda x, _: f'{x:,.0f}'.replace(',', ' ')))\n",
    "\n",
    "plt.grid()\n",
    "plt.legend(fontsize=14)\n",
    "\n",
    "plt.show()"
   ]
  },
  {
   "cell_type": "markdown",
   "metadata": {},
   "source": [
    "Примерно до середины теста выручка обеих групп росла примерно одинаково, а с 17 по 21 августа выручка группы В резко \"вырвалась вперед\" и стала превышеть выручку группы А, что может свидетельствовать об увеличении числа заказов, либо появлении дорогих покупок в группе В."
   ]
  },
  {
   "cell_type": "markdown",
   "metadata": {},
   "source": [
    "### График кумулятивного среднего чека по группам.\n",
    "Построю графики среднего чека по группам — разделю кумулятивную выручку на кумулятивное число заказов."
   ]
  },
  {
   "cell_type": "code",
   "execution_count": 31,
   "metadata": {},
   "outputs": [
    {
     "data": {
      "image/png": "[encoded data removed]",
      "text/plain": [
       "<Figure size 864x432 with 1 Axes>"
      ]
     },
     "metadata": {
      "needs_background": "light"
     },
     "output_type": "display_data"
    }
   ],
   "source": [
    "# задаем размеры графика \n",
    "plt.figure(figsize=(12, 6))\n",
    "\n",
    "# график кумулятивного среднего чека гр А\n",
    "plt.plot(cumulativeRevenueA['date'],\n",
    "         cumulativeRevenueA['revenue']/cumulativeRevenueA['orders'],\n",
    "         label='группа A')\n",
    "\n",
    "# график кумулятивного среднего чека гр В\n",
    "plt.plot(cumulativeRevenueB['date'],\n",
    "         cumulativeRevenueB['revenue']/cumulativeRevenueB['orders'],\n",
    "         label='группа B')\n",
    "\n",
    "# параметры графика\n",
    "plt.title('График кумулятивного среднего чека', fontsize=16)\n",
    "plt.xlabel('Дата', fontsize=12)\n",
    "plt.ylabel('Средний чек', fontsize=12)\n",
    "\n",
    "# Настраиваем ось Y для отображения в тысячах/миллионах\n",
    "ax = plt.gca()  # Получаем текущие оси\n",
    "ax.yaxis.set_major_formatter(ticker.FuncFormatter(lambda x, _: f'{x:,.0f}'.replace(',', ' ')))\n",
    "\n",
    "plt.grid()\n",
    "plt.legend(fontsize=14)\n",
    "\n",
    "plt.show()"
   ]
  },
  {
   "cell_type": "markdown",
   "metadata": {},
   "source": [
    "Из выведенных данных кумулятивного среднего чека по группам, можно сказать следующее:\n",
    "1. кумулятивный ср чек группы А:\n",
    "- с начала теста и примерно до 6.08.19 видна тенденция падения,\n",
    "- с 6.08.19 до 13.08.19 наблюдается плавная тенденция роста,\n",
    "- с 13.08.19 график стабилизировался и до конца теста остается в пределах 6800 - 7200 размера кумулятивного среднего чека.\n",
    "2. Кумулятивный ср чек группы В:\n",
    "- с начала теста и до примерно 18.08.19 наблюдается плавная тенденция роста среднего чека, за исключением  падений 5.08 и 9.08,\n",
    "- 18.08.19 наблюдается резкий (аномальный) скачек роста с примерно 7000 до 10000, что может свидетельствовать о крупных (дорогих) заказах в группе В,\n",
    "- далее график стабилизируется до конца теста и держится примерно в диапазоне 9000-10000."
   ]
  },
  {
   "cell_type": "markdown",
   "metadata": {},
   "source": [
    "### График относительного изменения кумулятивного среднего чека группы B к группе A."
   ]
  },
  {
   "cell_type": "code",
   "execution_count": 32,
   "metadata": {},
   "outputs": [
    {
     "data": {
      "text/html": [
       "<div>\n",
       "<style scoped>\n",
       "    .dataframe tbody tr th:only-of-type {\n",
       "        vertical-align: middle;\n",
       "    }\n",
       "\n",
       "    .dataframe tbody tr th {\n",
       "        vertical-align: top;\n",
       "    }\n",
       "\n",
       "    .dataframe thead th {\n",
       "        text-align: right;\n",
       "    }\n",
       "</style>\n",
       "<table border=\"1\" class=\"dataframe\">\n",
       "  <thead>\n",
       "    <tr style=\"text-align: right;\">\n",
       "      <th></th>\n",
       "      <th>date</th>\n",
       "      <th>revenueA</th>\n",
       "      <th>ordersA</th>\n",
       "      <th>revenueB</th>\n",
       "      <th>ordersB</th>\n",
       "    </tr>\n",
       "  </thead>\n",
       "  <tbody>\n",
       "    <tr>\n",
       "      <th>0</th>\n",
       "      <td>2019-08-01</td>\n",
       "      <td>148579</td>\n",
       "      <td>24</td>\n",
       "      <td>101217</td>\n",
       "      <td>21</td>\n",
       "    </tr>\n",
       "    <tr>\n",
       "      <th>1</th>\n",
       "      <td>2019-08-02</td>\n",
       "      <td>242401</td>\n",
       "      <td>44</td>\n",
       "      <td>266748</td>\n",
       "      <td>45</td>\n",
       "    </tr>\n",
       "    <tr>\n",
       "      <th>2</th>\n",
       "      <td>2019-08-03</td>\n",
       "      <td>354874</td>\n",
       "      <td>68</td>\n",
       "      <td>380996</td>\n",
       "      <td>61</td>\n",
       "    </tr>\n",
       "    <tr>\n",
       "      <th>3</th>\n",
       "      <td>2019-08-04</td>\n",
       "      <td>425699</td>\n",
       "      <td>84</td>\n",
       "      <td>489567</td>\n",
       "      <td>78</td>\n",
       "    </tr>\n",
       "    <tr>\n",
       "      <th>4</th>\n",
       "      <td>2019-08-05</td>\n",
       "      <td>549917</td>\n",
       "      <td>109</td>\n",
       "      <td>581995</td>\n",
       "      <td>101</td>\n",
       "    </tr>\n",
       "    <tr>\n",
       "      <th>5</th>\n",
       "      <td>2019-08-06</td>\n",
       "      <td>598401</td>\n",
       "      <td>127</td>\n",
       "      <td>824337</td>\n",
       "      <td>129</td>\n",
       "    </tr>\n",
       "    <tr>\n",
       "      <th>6</th>\n",
       "      <td>2019-08-07</td>\n",
       "      <td>740818</td>\n",
       "      <td>145</td>\n",
       "      <td>1049671</td>\n",
       "      <td>153</td>\n",
       "    </tr>\n",
       "    <tr>\n",
       "      <th>7</th>\n",
       "      <td>2019-08-08</td>\n",
       "      <td>837097</td>\n",
       "      <td>161</td>\n",
       "      <td>1270589</td>\n",
       "      <td>180</td>\n",
       "    </tr>\n",
       "    <tr>\n",
       "      <th>8</th>\n",
       "      <td>2019-08-09</td>\n",
       "      <td>1025603</td>\n",
       "      <td>177</td>\n",
       "      <td>1431401</td>\n",
       "      <td>205</td>\n",
       "    </tr>\n",
       "    <tr>\n",
       "      <th>9</th>\n",
       "      <td>2019-08-10</td>\n",
       "      <td>1236098</td>\n",
       "      <td>193</td>\n",
       "      <td>1539203</td>\n",
       "      <td>228</td>\n",
       "    </tr>\n",
       "    <tr>\n",
       "      <th>10</th>\n",
       "      <td>2019-08-11</td>\n",
       "      <td>1313683</td>\n",
       "      <td>206</td>\n",
       "      <td>1592513</td>\n",
       "      <td>241</td>\n",
       "    </tr>\n",
       "    <tr>\n",
       "      <th>11</th>\n",
       "      <td>2019-08-12</td>\n",
       "      <td>1562873</td>\n",
       "      <td>230</td>\n",
       "      <td>1734067</td>\n",
       "      <td>264</td>\n",
       "    </tr>\n",
       "    <tr>\n",
       "      <th>12</th>\n",
       "      <td>2019-08-13</td>\n",
       "      <td>1826511</td>\n",
       "      <td>244</td>\n",
       "      <td>1853738</td>\n",
       "      <td>285</td>\n",
       "    </tr>\n",
       "    <tr>\n",
       "      <th>13</th>\n",
       "      <td>2019-08-14</td>\n",
       "      <td>1890852</td>\n",
       "      <td>268</td>\n",
       "      <td>2025446</td>\n",
       "      <td>308</td>\n",
       "    </tr>\n",
       "    <tr>\n",
       "      <th>14</th>\n",
       "      <td>2019-08-15</td>\n",
       "      <td>1979057</td>\n",
       "      <td>283</td>\n",
       "      <td>2367945</td>\n",
       "      <td>339</td>\n",
       "    </tr>\n",
       "    <tr>\n",
       "      <th>15</th>\n",
       "      <td>2019-08-16</td>\n",
       "      <td>2078908</td>\n",
       "      <td>301</td>\n",
       "      <td>2539635</td>\n",
       "      <td>359</td>\n",
       "    </tr>\n",
       "    <tr>\n",
       "      <th>16</th>\n",
       "      <td>2019-08-17</td>\n",
       "      <td>2129769</td>\n",
       "      <td>311</td>\n",
       "      <td>2620790</td>\n",
       "      <td>373</td>\n",
       "    </tr>\n",
       "    <tr>\n",
       "      <th>17</th>\n",
       "      <td>2019-08-18</td>\n",
       "      <td>2202167</td>\n",
       "      <td>328</td>\n",
       "      <td>2686621</td>\n",
       "      <td>382</td>\n",
       "    </tr>\n",
       "    <tr>\n",
       "      <th>18</th>\n",
       "      <td>2019-08-19</td>\n",
       "      <td>2391910</td>\n",
       "      <td>350</td>\n",
       "      <td>4116541</td>\n",
       "      <td>403</td>\n",
       "    </tr>\n",
       "    <tr>\n",
       "      <th>19</th>\n",
       "      <td>2019-08-20</td>\n",
       "      <td>2469529</td>\n",
       "      <td>362</td>\n",
       "      <td>4263815</td>\n",
       "      <td>423</td>\n",
       "    </tr>\n",
       "    <tr>\n",
       "      <th>20</th>\n",
       "      <td>2019-08-21</td>\n",
       "      <td>2643838</td>\n",
       "      <td>385</td>\n",
       "      <td>4426892</td>\n",
       "      <td>437</td>\n",
       "    </tr>\n",
       "    <tr>\n",
       "      <th>21</th>\n",
       "      <td>2019-08-22</td>\n",
       "      <td>2756579</td>\n",
       "      <td>401</td>\n",
       "      <td>4589247</td>\n",
       "      <td>462</td>\n",
       "    </tr>\n",
       "    <tr>\n",
       "      <th>22</th>\n",
       "      <td>2019-08-23</td>\n",
       "      <td>2874367</td>\n",
       "      <td>426</td>\n",
       "      <td>4703216</td>\n",
       "      <td>477</td>\n",
       "    </tr>\n",
       "    <tr>\n",
       "      <th>23</th>\n",
       "      <td>2019-08-24</td>\n",
       "      <td>3002070</td>\n",
       "      <td>441</td>\n",
       "      <td>4798722</td>\n",
       "      <td>493</td>\n",
       "    </tr>\n",
       "    <tr>\n",
       "      <th>24</th>\n",
       "      <td>2019-08-25</td>\n",
       "      <td>3070704</td>\n",
       "      <td>451</td>\n",
       "      <td>4901584</td>\n",
       "      <td>507</td>\n",
       "    </tr>\n",
       "    <tr>\n",
       "      <th>25</th>\n",
       "      <td>2019-08-26</td>\n",
       "      <td>3227918</td>\n",
       "      <td>467</td>\n",
       "      <td>5084583</td>\n",
       "      <td>532</td>\n",
       "    </tr>\n",
       "    <tr>\n",
       "      <th>26</th>\n",
       "      <td>2019-08-27</td>\n",
       "      <td>3514698</td>\n",
       "      <td>495</td>\n",
       "      <td>5232260</td>\n",
       "      <td>548</td>\n",
       "    </tr>\n",
       "    <tr>\n",
       "      <th>27</th>\n",
       "      <td>2019-08-28</td>\n",
       "      <td>3615820</td>\n",
       "      <td>512</td>\n",
       "      <td>5328268</td>\n",
       "      <td>576</td>\n",
       "    </tr>\n",
       "    <tr>\n",
       "      <th>28</th>\n",
       "      <td>2019-08-29</td>\n",
       "      <td>3936510</td>\n",
       "      <td>534</td>\n",
       "      <td>5559398</td>\n",
       "      <td>596</td>\n",
       "    </tr>\n",
       "    <tr>\n",
       "      <th>29</th>\n",
       "      <td>2019-08-30</td>\n",
       "      <td>4022970</td>\n",
       "      <td>545</td>\n",
       "      <td>5774631</td>\n",
       "      <td>620</td>\n",
       "    </tr>\n",
       "    <tr>\n",
       "      <th>30</th>\n",
       "      <td>2019-08-31</td>\n",
       "      <td>4084803</td>\n",
       "      <td>557</td>\n",
       "      <td>5907760</td>\n",
       "      <td>640</td>\n",
       "    </tr>\n",
       "  </tbody>\n",
       "</table>\n",
       "</div>"
      ],
      "text/plain": [
       "         date  revenueA  ordersA  revenueB  ordersB\n",
       "0  2019-08-01    148579       24    101217       21\n",
       "1  2019-08-02    242401       44    266748       45\n",
       "2  2019-08-03    354874       68    380996       61\n",
       "3  2019-08-04    425699       84    489567       78\n",
       "4  2019-08-05    549917      109    581995      101\n",
       "5  2019-08-06    598401      127    824337      129\n",
       "6  2019-08-07    740818      145   1049671      153\n",
       "7  2019-08-08    837097      161   1270589      180\n",
       "8  2019-08-09   1025603      177   1431401      205\n",
       "9  2019-08-10   1236098      193   1539203      228\n",
       "10 2019-08-11   1313683      206   1592513      241\n",
       "11 2019-08-12   1562873      230   1734067      264\n",
       "12 2019-08-13   1826511      244   1853738      285\n",
       "13 2019-08-14   1890852      268   2025446      308\n",
       "14 2019-08-15   1979057      283   2367945      339\n",
       "15 2019-08-16   2078908      301   2539635      359\n",
       "16 2019-08-17   2129769      311   2620790      373\n",
       "17 2019-08-18   2202167      328   2686621      382\n",
       "18 2019-08-19   2391910      350   4116541      403\n",
       "19 2019-08-20   2469529      362   4263815      423\n",
       "20 2019-08-21   2643838      385   4426892      437\n",
       "21 2019-08-22   2756579      401   4589247      462\n",
       "22 2019-08-23   2874367      426   4703216      477\n",
       "23 2019-08-24   3002070      441   4798722      493\n",
       "24 2019-08-25   3070704      451   4901584      507\n",
       "25 2019-08-26   3227918      467   5084583      532\n",
       "26 2019-08-27   3514698      495   5232260      548\n",
       "27 2019-08-28   3615820      512   5328268      576\n",
       "28 2019-08-29   3936510      534   5559398      596\n",
       "29 2019-08-30   4022970      545   5774631      620\n",
       "30 2019-08-31   4084803      557   5907760      640"
      ]
     },
     "metadata": {},
     "output_type": "display_data"
    },
    {
     "data": {
      "image/png": "[encoded data removed]",
      "text/plain": [
       "<Figure size 864x432 with 1 Axes>"
      ]
     },
     "metadata": {
      "needs_background": "light"
     },
     "output_type": "display_data"
    }
   ],
   "source": [
    "# собираем данные в одном датафрейме\n",
    "mergedCumulativeRevenue = (\n",
    "    cumulativeRevenueA.merge(cumulativeRevenueB,\n",
    "                                                   left_on='date',\n",
    "                                                   right_on='date',\n",
    "                                                   how='left',\n",
    "                                                   suffixes=['A', 'B'])\n",
    ")\n",
    "display(mergedCumulativeRevenue)\n",
    "\n",
    "# задаем размеры графика \n",
    "plt.figure(figsize=(12, 6))\n",
    "\n",
    "# cтроим отношение средних чеков\n",
    "plt.plot(mergedCumulativeRevenue['date'],\n",
    "         (mergedCumulativeRevenue['revenueB']/mergedCumulativeRevenue['ordersB'])/\n",
    "         (mergedCumulativeRevenue['revenueA']/mergedCumulativeRevenue['ordersA'])-1)\n",
    "\n",
    "\n",
    "# параметры графика\n",
    "plt.title('График относительного изменения кумулятивного среднего чека группы B к группе A', fontsize=16)\n",
    "plt.xlabel('Дата', fontsize=12)\n",
    "plt.ylabel('Средний чек', fontsize=12)\n",
    "\n",
    "# добавляем ось X\n",
    "plt.axhline(y=0, color='black', linestyle='--')\n",
    "\n",
    "plt.grid()\n",
    "plt.show()"
   ]
  },
  {
   "cell_type": "markdown",
   "metadata": {},
   "source": [
    "Судя по графику, можно сделать несколько выводов:\n",
    "1. Резкие колебания в начале – в первые дни наблюдается волатильность, что может быть связано с небольшим количеством данных и влиянием отдельных крупных заказов.\n",
    "2. Спад в середине периода – с8 по 13 августа (середина теста) средний чек группы B резко снижается относительно группы A. Это может говорить о том, что в группе A были крупные покупки или в группе B уменьшился средний чек.\n",
    "3. Резкий рост после падения – после снижения средний чек группы B восстанавливается и даже превышает группу A (примерно 13–19 августа). Это снова может быть связано с крупными заказами или изменением пользовательского поведения.\n",
    "4. Снижение ближе к концу – после пика относительный средний чек группы B снова снижается, но остаётся выше нулевой отметки, что указывает на преимущество группы B.\n",
    "5. Группа B в целом показывает более высокий средний чек.\n"
   ]
  },
  {
   "cell_type": "markdown",
   "metadata": {},
   "source": [
    "### График кумулятивного среднего количества заказов на посетителя по группам.\n",
    "Аналогично графику куммуликативного среднего чека проанализирую график кумулятивного среднего количества заказов на посетителя по группам. "
   ]
  },
  {
   "cell_type": "code",
   "execution_count": 33,
   "metadata": {},
   "outputs": [
    {
     "data": {
      "text/html": [
       "<div>\n",
       "<style scoped>\n",
       "    .dataframe tbody tr th:only-of-type {\n",
       "        vertical-align: middle;\n",
       "    }\n",
       "\n",
       "    .dataframe tbody tr th {\n",
       "        vertical-align: top;\n",
       "    }\n",
       "\n",
       "    .dataframe thead th {\n",
       "        text-align: right;\n",
       "    }\n",
       "</style>\n",
       "<table border=\"1\" class=\"dataframe\">\n",
       "  <thead>\n",
       "    <tr style=\"text-align: right;\">\n",
       "      <th></th>\n",
       "      <th>date</th>\n",
       "      <th>group</th>\n",
       "      <th>orders</th>\n",
       "      <th>buyers</th>\n",
       "      <th>revenue</th>\n",
       "      <th>visitors</th>\n",
       "      <th>conversion</th>\n",
       "    </tr>\n",
       "  </thead>\n",
       "  <tbody>\n",
       "    <tr>\n",
       "      <th>0</th>\n",
       "      <td>2019-08-01</td>\n",
       "      <td>A</td>\n",
       "      <td>24</td>\n",
       "      <td>20</td>\n",
       "      <td>148579</td>\n",
       "      <td>719</td>\n",
       "      <td>0.033</td>\n",
       "    </tr>\n",
       "    <tr>\n",
       "      <th>2</th>\n",
       "      <td>2019-08-02</td>\n",
       "      <td>A</td>\n",
       "      <td>44</td>\n",
       "      <td>38</td>\n",
       "      <td>242401</td>\n",
       "      <td>1338</td>\n",
       "      <td>0.033</td>\n",
       "    </tr>\n",
       "    <tr>\n",
       "      <th>4</th>\n",
       "      <td>2019-08-03</td>\n",
       "      <td>A</td>\n",
       "      <td>68</td>\n",
       "      <td>62</td>\n",
       "      <td>354874</td>\n",
       "      <td>1845</td>\n",
       "      <td>0.037</td>\n",
       "    </tr>\n",
       "    <tr>\n",
       "      <th>6</th>\n",
       "      <td>2019-08-04</td>\n",
       "      <td>A</td>\n",
       "      <td>84</td>\n",
       "      <td>77</td>\n",
       "      <td>425699</td>\n",
       "      <td>2562</td>\n",
       "      <td>0.033</td>\n",
       "    </tr>\n",
       "    <tr>\n",
       "      <th>8</th>\n",
       "      <td>2019-08-05</td>\n",
       "      <td>A</td>\n",
       "      <td>109</td>\n",
       "      <td>100</td>\n",
       "      <td>549917</td>\n",
       "      <td>3318</td>\n",
       "      <td>0.033</td>\n",
       "    </tr>\n",
       "    <tr>\n",
       "      <th>10</th>\n",
       "      <td>2019-08-06</td>\n",
       "      <td>A</td>\n",
       "      <td>127</td>\n",
       "      <td>114</td>\n",
       "      <td>598401</td>\n",
       "      <td>3985</td>\n",
       "      <td>0.032</td>\n",
       "    </tr>\n",
       "    <tr>\n",
       "      <th>12</th>\n",
       "      <td>2019-08-07</td>\n",
       "      <td>A</td>\n",
       "      <td>145</td>\n",
       "      <td>131</td>\n",
       "      <td>740818</td>\n",
       "      <td>4629</td>\n",
       "      <td>0.031</td>\n",
       "    </tr>\n",
       "    <tr>\n",
       "      <th>14</th>\n",
       "      <td>2019-08-08</td>\n",
       "      <td>A</td>\n",
       "      <td>161</td>\n",
       "      <td>146</td>\n",
       "      <td>837097</td>\n",
       "      <td>5239</td>\n",
       "      <td>0.031</td>\n",
       "    </tr>\n",
       "    <tr>\n",
       "      <th>16</th>\n",
       "      <td>2019-08-09</td>\n",
       "      <td>A</td>\n",
       "      <td>177</td>\n",
       "      <td>159</td>\n",
       "      <td>1025603</td>\n",
       "      <td>5856</td>\n",
       "      <td>0.030</td>\n",
       "    </tr>\n",
       "    <tr>\n",
       "      <th>18</th>\n",
       "      <td>2019-08-10</td>\n",
       "      <td>A</td>\n",
       "      <td>193</td>\n",
       "      <td>175</td>\n",
       "      <td>1236098</td>\n",
       "      <td>6262</td>\n",
       "      <td>0.031</td>\n",
       "    </tr>\n",
       "    <tr>\n",
       "      <th>20</th>\n",
       "      <td>2019-08-11</td>\n",
       "      <td>A</td>\n",
       "      <td>206</td>\n",
       "      <td>187</td>\n",
       "      <td>1313683</td>\n",
       "      <td>6980</td>\n",
       "      <td>0.030</td>\n",
       "    </tr>\n",
       "    <tr>\n",
       "      <th>22</th>\n",
       "      <td>2019-08-12</td>\n",
       "      <td>A</td>\n",
       "      <td>230</td>\n",
       "      <td>210</td>\n",
       "      <td>1562873</td>\n",
       "      <td>7575</td>\n",
       "      <td>0.030</td>\n",
       "    </tr>\n",
       "    <tr>\n",
       "      <th>24</th>\n",
       "      <td>2019-08-13</td>\n",
       "      <td>A</td>\n",
       "      <td>244</td>\n",
       "      <td>223</td>\n",
       "      <td>1826511</td>\n",
       "      <td>8323</td>\n",
       "      <td>0.029</td>\n",
       "    </tr>\n",
       "    <tr>\n",
       "      <th>26</th>\n",
       "      <td>2019-08-14</td>\n",
       "      <td>A</td>\n",
       "      <td>268</td>\n",
       "      <td>247</td>\n",
       "      <td>1890852</td>\n",
       "      <td>9058</td>\n",
       "      <td>0.030</td>\n",
       "    </tr>\n",
       "    <tr>\n",
       "      <th>28</th>\n",
       "      <td>2019-08-15</td>\n",
       "      <td>A</td>\n",
       "      <td>283</td>\n",
       "      <td>259</td>\n",
       "      <td>1979057</td>\n",
       "      <td>9686</td>\n",
       "      <td>0.029</td>\n",
       "    </tr>\n",
       "    <tr>\n",
       "      <th>30</th>\n",
       "      <td>2019-08-16</td>\n",
       "      <td>A</td>\n",
       "      <td>301</td>\n",
       "      <td>277</td>\n",
       "      <td>2078908</td>\n",
       "      <td>10047</td>\n",
       "      <td>0.030</td>\n",
       "    </tr>\n",
       "    <tr>\n",
       "      <th>32</th>\n",
       "      <td>2019-08-17</td>\n",
       "      <td>A</td>\n",
       "      <td>311</td>\n",
       "      <td>283</td>\n",
       "      <td>2129769</td>\n",
       "      <td>10459</td>\n",
       "      <td>0.030</td>\n",
       "    </tr>\n",
       "    <tr>\n",
       "      <th>34</th>\n",
       "      <td>2019-08-18</td>\n",
       "      <td>A</td>\n",
       "      <td>328</td>\n",
       "      <td>300</td>\n",
       "      <td>2202167</td>\n",
       "      <td>11127</td>\n",
       "      <td>0.029</td>\n",
       "    </tr>\n",
       "    <tr>\n",
       "      <th>36</th>\n",
       "      <td>2019-08-19</td>\n",
       "      <td>A</td>\n",
       "      <td>350</td>\n",
       "      <td>320</td>\n",
       "      <td>2391910</td>\n",
       "      <td>11629</td>\n",
       "      <td>0.030</td>\n",
       "    </tr>\n",
       "    <tr>\n",
       "      <th>38</th>\n",
       "      <td>2019-08-20</td>\n",
       "      <td>A</td>\n",
       "      <td>362</td>\n",
       "      <td>330</td>\n",
       "      <td>2469529</td>\n",
       "      <td>12204</td>\n",
       "      <td>0.030</td>\n",
       "    </tr>\n",
       "    <tr>\n",
       "      <th>40</th>\n",
       "      <td>2019-08-21</td>\n",
       "      <td>A</td>\n",
       "      <td>385</td>\n",
       "      <td>350</td>\n",
       "      <td>2643838</td>\n",
       "      <td>12850</td>\n",
       "      <td>0.030</td>\n",
       "    </tr>\n",
       "    <tr>\n",
       "      <th>42</th>\n",
       "      <td>2019-08-22</td>\n",
       "      <td>A</td>\n",
       "      <td>401</td>\n",
       "      <td>361</td>\n",
       "      <td>2756579</td>\n",
       "      <td>13459</td>\n",
       "      <td>0.030</td>\n",
       "    </tr>\n",
       "    <tr>\n",
       "      <th>44</th>\n",
       "      <td>2019-08-23</td>\n",
       "      <td>A</td>\n",
       "      <td>426</td>\n",
       "      <td>385</td>\n",
       "      <td>2874367</td>\n",
       "      <td>13927</td>\n",
       "      <td>0.031</td>\n",
       "    </tr>\n",
       "    <tr>\n",
       "      <th>46</th>\n",
       "      <td>2019-08-24</td>\n",
       "      <td>A</td>\n",
       "      <td>441</td>\n",
       "      <td>400</td>\n",
       "      <td>3002070</td>\n",
       "      <td>14322</td>\n",
       "      <td>0.031</td>\n",
       "    </tr>\n",
       "    <tr>\n",
       "      <th>48</th>\n",
       "      <td>2019-08-25</td>\n",
       "      <td>A</td>\n",
       "      <td>451</td>\n",
       "      <td>409</td>\n",
       "      <td>3070704</td>\n",
       "      <td>14943</td>\n",
       "      <td>0.030</td>\n",
       "    </tr>\n",
       "    <tr>\n",
       "      <th>50</th>\n",
       "      <td>2019-08-26</td>\n",
       "      <td>A</td>\n",
       "      <td>467</td>\n",
       "      <td>425</td>\n",
       "      <td>3227918</td>\n",
       "      <td>15665</td>\n",
       "      <td>0.030</td>\n",
       "    </tr>\n",
       "    <tr>\n",
       "      <th>52</th>\n",
       "      <td>2019-08-27</td>\n",
       "      <td>A</td>\n",
       "      <td>495</td>\n",
       "      <td>449</td>\n",
       "      <td>3514698</td>\n",
       "      <td>16376</td>\n",
       "      <td>0.030</td>\n",
       "    </tr>\n",
       "    <tr>\n",
       "      <th>54</th>\n",
       "      <td>2019-08-28</td>\n",
       "      <td>A</td>\n",
       "      <td>512</td>\n",
       "      <td>464</td>\n",
       "      <td>3615820</td>\n",
       "      <td>16970</td>\n",
       "      <td>0.030</td>\n",
       "    </tr>\n",
       "    <tr>\n",
       "      <th>56</th>\n",
       "      <td>2019-08-29</td>\n",
       "      <td>A</td>\n",
       "      <td>534</td>\n",
       "      <td>484</td>\n",
       "      <td>3936510</td>\n",
       "      <td>17547</td>\n",
       "      <td>0.030</td>\n",
       "    </tr>\n",
       "    <tr>\n",
       "      <th>58</th>\n",
       "      <td>2019-08-30</td>\n",
       "      <td>A</td>\n",
       "      <td>545</td>\n",
       "      <td>493</td>\n",
       "      <td>4022970</td>\n",
       "      <td>18037</td>\n",
       "      <td>0.030</td>\n",
       "    </tr>\n",
       "    <tr>\n",
       "      <th>60</th>\n",
       "      <td>2019-08-31</td>\n",
       "      <td>A</td>\n",
       "      <td>557</td>\n",
       "      <td>503</td>\n",
       "      <td>4084803</td>\n",
       "      <td>18736</td>\n",
       "      <td>0.030</td>\n",
       "    </tr>\n",
       "  </tbody>\n",
       "</table>\n",
       "</div>"
      ],
      "text/plain": [
       "         date group  orders  buyers  revenue  visitors  conversion\n",
       "0  2019-08-01     A      24      20   148579       719       0.033\n",
       "2  2019-08-02     A      44      38   242401      1338       0.033\n",
       "4  2019-08-03     A      68      62   354874      1845       0.037\n",
       "6  2019-08-04     A      84      77   425699      2562       0.033\n",
       "8  2019-08-05     A     109     100   549917      3318       0.033\n",
       "10 2019-08-06     A     127     114   598401      3985       0.032\n",
       "12 2019-08-07     A     145     131   740818      4629       0.031\n",
       "14 2019-08-08     A     161     146   837097      5239       0.031\n",
       "16 2019-08-09     A     177     159  1025603      5856       0.030\n",
       "18 2019-08-10     A     193     175  1236098      6262       0.031\n",
       "20 2019-08-11     A     206     187  1313683      6980       0.030\n",
       "22 2019-08-12     A     230     210  1562873      7575       0.030\n",
       "24 2019-08-13     A     244     223  1826511      8323       0.029\n",
       "26 2019-08-14     A     268     247  1890852      9058       0.030\n",
       "28 2019-08-15     A     283     259  1979057      9686       0.029\n",
       "30 2019-08-16     A     301     277  2078908     10047       0.030\n",
       "32 2019-08-17     A     311     283  2129769     10459       0.030\n",
       "34 2019-08-18     A     328     300  2202167     11127       0.029\n",
       "36 2019-08-19     A     350     320  2391910     11629       0.030\n",
       "38 2019-08-20     A     362     330  2469529     12204       0.030\n",
       "40 2019-08-21     A     385     350  2643838     12850       0.030\n",
       "42 2019-08-22     A     401     361  2756579     13459       0.030\n",
       "44 2019-08-23     A     426     385  2874367     13927       0.031\n",
       "46 2019-08-24     A     441     400  3002070     14322       0.031\n",
       "48 2019-08-25     A     451     409  3070704     14943       0.030\n",
       "50 2019-08-26     A     467     425  3227918     15665       0.030\n",
       "52 2019-08-27     A     495     449  3514698     16376       0.030\n",
       "54 2019-08-28     A     512     464  3615820     16970       0.030\n",
       "56 2019-08-29     A     534     484  3936510     17547       0.030\n",
       "58 2019-08-30     A     545     493  4022970     18037       0.030\n",
       "60 2019-08-31     A     557     503  4084803     18736       0.030"
      ]
     },
     "metadata": {},
     "output_type": "display_data"
    },
    {
     "data": {
      "text/html": [
       "<div>\n",
       "<style scoped>\n",
       "    .dataframe tbody tr th:only-of-type {\n",
       "        vertical-align: middle;\n",
       "    }\n",
       "\n",
       "    .dataframe tbody tr th {\n",
       "        vertical-align: top;\n",
       "    }\n",
       "\n",
       "    .dataframe thead th {\n",
       "        text-align: right;\n",
       "    }\n",
       "</style>\n",
       "<table border=\"1\" class=\"dataframe\">\n",
       "  <thead>\n",
       "    <tr style=\"text-align: right;\">\n",
       "      <th></th>\n",
       "      <th>date</th>\n",
       "      <th>group</th>\n",
       "      <th>orders</th>\n",
       "      <th>buyers</th>\n",
       "      <th>revenue</th>\n",
       "      <th>visitors</th>\n",
       "      <th>conversion</th>\n",
       "    </tr>\n",
       "  </thead>\n",
       "  <tbody>\n",
       "    <tr>\n",
       "      <th>1</th>\n",
       "      <td>2019-08-01</td>\n",
       "      <td>B</td>\n",
       "      <td>21</td>\n",
       "      <td>20</td>\n",
       "      <td>101217</td>\n",
       "      <td>713</td>\n",
       "      <td>0.029</td>\n",
       "    </tr>\n",
       "    <tr>\n",
       "      <th>3</th>\n",
       "      <td>2019-08-02</td>\n",
       "      <td>B</td>\n",
       "      <td>45</td>\n",
       "      <td>43</td>\n",
       "      <td>266748</td>\n",
       "      <td>1294</td>\n",
       "      <td>0.035</td>\n",
       "    </tr>\n",
       "    <tr>\n",
       "      <th>5</th>\n",
       "      <td>2019-08-03</td>\n",
       "      <td>B</td>\n",
       "      <td>61</td>\n",
       "      <td>59</td>\n",
       "      <td>380996</td>\n",
       "      <td>1803</td>\n",
       "      <td>0.034</td>\n",
       "    </tr>\n",
       "    <tr>\n",
       "      <th>7</th>\n",
       "      <td>2019-08-04</td>\n",
       "      <td>B</td>\n",
       "      <td>78</td>\n",
       "      <td>75</td>\n",
       "      <td>489567</td>\n",
       "      <td>2573</td>\n",
       "      <td>0.030</td>\n",
       "    </tr>\n",
       "    <tr>\n",
       "      <th>9</th>\n",
       "      <td>2019-08-05</td>\n",
       "      <td>B</td>\n",
       "      <td>101</td>\n",
       "      <td>98</td>\n",
       "      <td>581995</td>\n",
       "      <td>3280</td>\n",
       "      <td>0.031</td>\n",
       "    </tr>\n",
       "    <tr>\n",
       "      <th>11</th>\n",
       "      <td>2019-08-06</td>\n",
       "      <td>B</td>\n",
       "      <td>129</td>\n",
       "      <td>123</td>\n",
       "      <td>824337</td>\n",
       "      <td>3935</td>\n",
       "      <td>0.033</td>\n",
       "    </tr>\n",
       "    <tr>\n",
       "      <th>13</th>\n",
       "      <td>2019-08-07</td>\n",
       "      <td>B</td>\n",
       "      <td>153</td>\n",
       "      <td>146</td>\n",
       "      <td>1049671</td>\n",
       "      <td>4644</td>\n",
       "      <td>0.033</td>\n",
       "    </tr>\n",
       "    <tr>\n",
       "      <th>15</th>\n",
       "      <td>2019-08-08</td>\n",
       "      <td>B</td>\n",
       "      <td>180</td>\n",
       "      <td>171</td>\n",
       "      <td>1270589</td>\n",
       "      <td>5298</td>\n",
       "      <td>0.034</td>\n",
       "    </tr>\n",
       "    <tr>\n",
       "      <th>17</th>\n",
       "      <td>2019-08-09</td>\n",
       "      <td>B</td>\n",
       "      <td>205</td>\n",
       "      <td>193</td>\n",
       "      <td>1431401</td>\n",
       "      <td>5908</td>\n",
       "      <td>0.035</td>\n",
       "    </tr>\n",
       "    <tr>\n",
       "      <th>19</th>\n",
       "      <td>2019-08-10</td>\n",
       "      <td>B</td>\n",
       "      <td>228</td>\n",
       "      <td>215</td>\n",
       "      <td>1539203</td>\n",
       "      <td>6277</td>\n",
       "      <td>0.036</td>\n",
       "    </tr>\n",
       "    <tr>\n",
       "      <th>21</th>\n",
       "      <td>2019-08-11</td>\n",
       "      <td>B</td>\n",
       "      <td>241</td>\n",
       "      <td>228</td>\n",
       "      <td>1592513</td>\n",
       "      <td>6998</td>\n",
       "      <td>0.034</td>\n",
       "    </tr>\n",
       "    <tr>\n",
       "      <th>23</th>\n",
       "      <td>2019-08-12</td>\n",
       "      <td>B</td>\n",
       "      <td>264</td>\n",
       "      <td>248</td>\n",
       "      <td>1734067</td>\n",
       "      <td>7541</td>\n",
       "      <td>0.035</td>\n",
       "    </tr>\n",
       "    <tr>\n",
       "      <th>25</th>\n",
       "      <td>2019-08-13</td>\n",
       "      <td>B</td>\n",
       "      <td>285</td>\n",
       "      <td>268</td>\n",
       "      <td>1853738</td>\n",
       "      <td>8310</td>\n",
       "      <td>0.034</td>\n",
       "    </tr>\n",
       "    <tr>\n",
       "      <th>27</th>\n",
       "      <td>2019-08-14</td>\n",
       "      <td>B</td>\n",
       "      <td>308</td>\n",
       "      <td>287</td>\n",
       "      <td>2025446</td>\n",
       "      <td>9056</td>\n",
       "      <td>0.034</td>\n",
       "    </tr>\n",
       "    <tr>\n",
       "      <th>29</th>\n",
       "      <td>2019-08-15</td>\n",
       "      <td>B</td>\n",
       "      <td>339</td>\n",
       "      <td>317</td>\n",
       "      <td>2367945</td>\n",
       "      <td>9600</td>\n",
       "      <td>0.035</td>\n",
       "    </tr>\n",
       "    <tr>\n",
       "      <th>31</th>\n",
       "      <td>2019-08-16</td>\n",
       "      <td>B</td>\n",
       "      <td>359</td>\n",
       "      <td>336</td>\n",
       "      <td>2539635</td>\n",
       "      <td>10013</td>\n",
       "      <td>0.036</td>\n",
       "    </tr>\n",
       "    <tr>\n",
       "      <th>33</th>\n",
       "      <td>2019-08-17</td>\n",
       "      <td>B</td>\n",
       "      <td>373</td>\n",
       "      <td>349</td>\n",
       "      <td>2620790</td>\n",
       "      <td>10434</td>\n",
       "      <td>0.036</td>\n",
       "    </tr>\n",
       "    <tr>\n",
       "      <th>35</th>\n",
       "      <td>2019-08-18</td>\n",
       "      <td>B</td>\n",
       "      <td>382</td>\n",
       "      <td>357</td>\n",
       "      <td>2686621</td>\n",
       "      <td>11171</td>\n",
       "      <td>0.034</td>\n",
       "    </tr>\n",
       "    <tr>\n",
       "      <th>37</th>\n",
       "      <td>2019-08-19</td>\n",
       "      <td>B</td>\n",
       "      <td>403</td>\n",
       "      <td>377</td>\n",
       "      <td>4116541</td>\n",
       "      <td>11658</td>\n",
       "      <td>0.035</td>\n",
       "    </tr>\n",
       "    <tr>\n",
       "      <th>39</th>\n",
       "      <td>2019-08-20</td>\n",
       "      <td>B</td>\n",
       "      <td>423</td>\n",
       "      <td>396</td>\n",
       "      <td>4263815</td>\n",
       "      <td>12218</td>\n",
       "      <td>0.035</td>\n",
       "    </tr>\n",
       "    <tr>\n",
       "      <th>41</th>\n",
       "      <td>2019-08-21</td>\n",
       "      <td>B</td>\n",
       "      <td>437</td>\n",
       "      <td>407</td>\n",
       "      <td>4426892</td>\n",
       "      <td>12874</td>\n",
       "      <td>0.034</td>\n",
       "    </tr>\n",
       "    <tr>\n",
       "      <th>43</th>\n",
       "      <td>2019-08-22</td>\n",
       "      <td>B</td>\n",
       "      <td>462</td>\n",
       "      <td>427</td>\n",
       "      <td>4589247</td>\n",
       "      <td>13524</td>\n",
       "      <td>0.034</td>\n",
       "    </tr>\n",
       "    <tr>\n",
       "      <th>45</th>\n",
       "      <td>2019-08-23</td>\n",
       "      <td>B</td>\n",
       "      <td>477</td>\n",
       "      <td>440</td>\n",
       "      <td>4703216</td>\n",
       "      <td>14070</td>\n",
       "      <td>0.034</td>\n",
       "    </tr>\n",
       "    <tr>\n",
       "      <th>47</th>\n",
       "      <td>2019-08-24</td>\n",
       "      <td>B</td>\n",
       "      <td>493</td>\n",
       "      <td>454</td>\n",
       "      <td>4798722</td>\n",
       "      <td>14448</td>\n",
       "      <td>0.034</td>\n",
       "    </tr>\n",
       "    <tr>\n",
       "      <th>49</th>\n",
       "      <td>2019-08-25</td>\n",
       "      <td>B</td>\n",
       "      <td>507</td>\n",
       "      <td>466</td>\n",
       "      <td>4901584</td>\n",
       "      <td>15127</td>\n",
       "      <td>0.034</td>\n",
       "    </tr>\n",
       "    <tr>\n",
       "      <th>51</th>\n",
       "      <td>2019-08-26</td>\n",
       "      <td>B</td>\n",
       "      <td>532</td>\n",
       "      <td>490</td>\n",
       "      <td>5084583</td>\n",
       "      <td>15803</td>\n",
       "      <td>0.034</td>\n",
       "    </tr>\n",
       "    <tr>\n",
       "      <th>53</th>\n",
       "      <td>2019-08-27</td>\n",
       "      <td>B</td>\n",
       "      <td>548</td>\n",
       "      <td>504</td>\n",
       "      <td>5232260</td>\n",
       "      <td>16523</td>\n",
       "      <td>0.033</td>\n",
       "    </tr>\n",
       "    <tr>\n",
       "      <th>55</th>\n",
       "      <td>2019-08-28</td>\n",
       "      <td>B</td>\n",
       "      <td>576</td>\n",
       "      <td>526</td>\n",
       "      <td>5328268</td>\n",
       "      <td>17177</td>\n",
       "      <td>0.034</td>\n",
       "    </tr>\n",
       "    <tr>\n",
       "      <th>57</th>\n",
       "      <td>2019-08-29</td>\n",
       "      <td>B</td>\n",
       "      <td>596</td>\n",
       "      <td>544</td>\n",
       "      <td>5559398</td>\n",
       "      <td>17708</td>\n",
       "      <td>0.034</td>\n",
       "    </tr>\n",
       "    <tr>\n",
       "      <th>59</th>\n",
       "      <td>2019-08-30</td>\n",
       "      <td>B</td>\n",
       "      <td>620</td>\n",
       "      <td>567</td>\n",
       "      <td>5774631</td>\n",
       "      <td>18198</td>\n",
       "      <td>0.034</td>\n",
       "    </tr>\n",
       "    <tr>\n",
       "      <th>61</th>\n",
       "      <td>2019-08-31</td>\n",
       "      <td>B</td>\n",
       "      <td>640</td>\n",
       "      <td>586</td>\n",
       "      <td>5907760</td>\n",
       "      <td>18916</td>\n",
       "      <td>0.034</td>\n",
       "    </tr>\n",
       "  </tbody>\n",
       "</table>\n",
       "</div>"
      ],
      "text/plain": [
       "         date group  orders  buyers  revenue  visitors  conversion\n",
       "1  2019-08-01     B      21      20   101217       713       0.029\n",
       "3  2019-08-02     B      45      43   266748      1294       0.035\n",
       "5  2019-08-03     B      61      59   380996      1803       0.034\n",
       "7  2019-08-04     B      78      75   489567      2573       0.030\n",
       "9  2019-08-05     B     101      98   581995      3280       0.031\n",
       "11 2019-08-06     B     129     123   824337      3935       0.033\n",
       "13 2019-08-07     B     153     146  1049671      4644       0.033\n",
       "15 2019-08-08     B     180     171  1270589      5298       0.034\n",
       "17 2019-08-09     B     205     193  1431401      5908       0.035\n",
       "19 2019-08-10     B     228     215  1539203      6277       0.036\n",
       "21 2019-08-11     B     241     228  1592513      6998       0.034\n",
       "23 2019-08-12     B     264     248  1734067      7541       0.035\n",
       "25 2019-08-13     B     285     268  1853738      8310       0.034\n",
       "27 2019-08-14     B     308     287  2025446      9056       0.034\n",
       "29 2019-08-15     B     339     317  2367945      9600       0.035\n",
       "31 2019-08-16     B     359     336  2539635     10013       0.036\n",
       "33 2019-08-17     B     373     349  2620790     10434       0.036\n",
       "35 2019-08-18     B     382     357  2686621     11171       0.034\n",
       "37 2019-08-19     B     403     377  4116541     11658       0.035\n",
       "39 2019-08-20     B     423     396  4263815     12218       0.035\n",
       "41 2019-08-21     B     437     407  4426892     12874       0.034\n",
       "43 2019-08-22     B     462     427  4589247     13524       0.034\n",
       "45 2019-08-23     B     477     440  4703216     14070       0.034\n",
       "47 2019-08-24     B     493     454  4798722     14448       0.034\n",
       "49 2019-08-25     B     507     466  4901584     15127       0.034\n",
       "51 2019-08-26     B     532     490  5084583     15803       0.034\n",
       "53 2019-08-27     B     548     504  5232260     16523       0.033\n",
       "55 2019-08-28     B     576     526  5328268     17177       0.034\n",
       "57 2019-08-29     B     596     544  5559398     17708       0.034\n",
       "59 2019-08-30     B     620     567  5774631     18198       0.034\n",
       "61 2019-08-31     B     640     586  5907760     18916       0.034"
      ]
     },
     "metadata": {},
     "output_type": "display_data"
    }
   ],
   "source": [
    "# считаем среднее количество заказов на посетителя\n",
    "cumulativeData['conversion'] = cumulativeData['orders']/cumulativeData['visitors']\n",
    "\n",
    "# отделяем данные по группе A\n",
    "cumulativeDataA = cumulativeData[cumulativeData['group']=='A']\n",
    "display(cumulativeDataA)\n",
    "\n",
    "# отделяем данные по группе B\n",
    "cumulativeDataB = cumulativeData[cumulativeData['group']=='B']\n",
    "display(cumulativeDataB)\n"
   ]
  },
  {
   "cell_type": "markdown",
   "metadata": {},
   "source": [
    "Из выведенных данных видно, что conversion в обеих группах варьируется в диапазоне 0.029 - 0.038, значит для графика задам масштаб осей методом plt.axis(), передадам ему минимальное и максимальное значения оси x (дата проведения теста) '2019-08-01', '2019-08-30'; минимальное и максимальное значения оси y (значения conversion) — 0.028, 0.038."
   ]
  },
  {
   "cell_type": "code",
   "execution_count": 34,
   "metadata": {},
   "outputs": [
    {
     "data": {
      "image/png": "[encoded data removed]",
      "text/plain": [
       "<Figure size 864x432 with 1 Axes>"
      ]
     },
     "metadata": {
      "needs_background": "light"
     },
     "output_type": "display_data"
    }
   ],
   "source": [
    "# задаем размеры графика \n",
    "plt.figure(figsize=(12, 6))\n",
    "\n",
    "# строим графики\n",
    "plt.plot(cumulativeDataA['date'], cumulativeDataA['conversion'], label='группа A')\n",
    "plt.plot(cumulativeDataB['date'], cumulativeDataB['conversion'], label='группа B')\n",
    "\n",
    "# параметры графика\n",
    "plt.title('График кумулятивного среднего количества заказов на посетителя по группам', fontsize=16)\n",
    "plt.xlabel('Дата', fontsize=12)\n",
    "plt.ylabel('Среднее количество заказов на посетителя', fontsize=12)\n",
    "plt.legend(fontsize=14)\n",
    "plt.grid()\n",
    "\n",
    "\n",
    "\n",
    "plt.show()"
   ]
  },
  {
   "cell_type": "markdown",
   "metadata": {},
   "source": [
    "В начале теста среднее количество заказов на одно посетителя группы А было выше, чем группы В. Примерно 6.08 значения обеих групп поравнялись, а делее значение среднего количества заказов группы В стало выше, чем в группе А. "
   ]
  },
  {
   "cell_type": "markdown",
   "metadata": {},
   "source": [
    "###  График относительного изменения кумулятивного среднего количества заказов на посетителя группы B к группе A."
   ]
  },
  {
   "cell_type": "code",
   "execution_count": 35,
   "metadata": {},
   "outputs": [
    {
     "data": {
      "text/html": [
       "<div>\n",
       "<style scoped>\n",
       "    .dataframe tbody tr th:only-of-type {\n",
       "        vertical-align: middle;\n",
       "    }\n",
       "\n",
       "    .dataframe tbody tr th {\n",
       "        vertical-align: top;\n",
       "    }\n",
       "\n",
       "    .dataframe thead th {\n",
       "        text-align: right;\n",
       "    }\n",
       "</style>\n",
       "<table border=\"1\" class=\"dataframe\">\n",
       "  <thead>\n",
       "    <tr style=\"text-align: right;\">\n",
       "      <th></th>\n",
       "      <th>date</th>\n",
       "      <th>conversionA</th>\n",
       "      <th>conversionB</th>\n",
       "    </tr>\n",
       "  </thead>\n",
       "  <tbody>\n",
       "    <tr>\n",
       "      <th>0</th>\n",
       "      <td>2019-08-01</td>\n",
       "      <td>0.033</td>\n",
       "      <td>0.029</td>\n",
       "    </tr>\n",
       "    <tr>\n",
       "      <th>1</th>\n",
       "      <td>2019-08-02</td>\n",
       "      <td>0.033</td>\n",
       "      <td>0.035</td>\n",
       "    </tr>\n",
       "    <tr>\n",
       "      <th>2</th>\n",
       "      <td>2019-08-03</td>\n",
       "      <td>0.037</td>\n",
       "      <td>0.034</td>\n",
       "    </tr>\n",
       "    <tr>\n",
       "      <th>3</th>\n",
       "      <td>2019-08-04</td>\n",
       "      <td>0.033</td>\n",
       "      <td>0.030</td>\n",
       "    </tr>\n",
       "    <tr>\n",
       "      <th>4</th>\n",
       "      <td>2019-08-05</td>\n",
       "      <td>0.033</td>\n",
       "      <td>0.031</td>\n",
       "    </tr>\n",
       "    <tr>\n",
       "      <th>5</th>\n",
       "      <td>2019-08-06</td>\n",
       "      <td>0.032</td>\n",
       "      <td>0.033</td>\n",
       "    </tr>\n",
       "    <tr>\n",
       "      <th>6</th>\n",
       "      <td>2019-08-07</td>\n",
       "      <td>0.031</td>\n",
       "      <td>0.033</td>\n",
       "    </tr>\n",
       "    <tr>\n",
       "      <th>7</th>\n",
       "      <td>2019-08-08</td>\n",
       "      <td>0.031</td>\n",
       "      <td>0.034</td>\n",
       "    </tr>\n",
       "    <tr>\n",
       "      <th>8</th>\n",
       "      <td>2019-08-09</td>\n",
       "      <td>0.030</td>\n",
       "      <td>0.035</td>\n",
       "    </tr>\n",
       "    <tr>\n",
       "      <th>9</th>\n",
       "      <td>2019-08-10</td>\n",
       "      <td>0.031</td>\n",
       "      <td>0.036</td>\n",
       "    </tr>\n",
       "    <tr>\n",
       "      <th>10</th>\n",
       "      <td>2019-08-11</td>\n",
       "      <td>0.030</td>\n",
       "      <td>0.034</td>\n",
       "    </tr>\n",
       "    <tr>\n",
       "      <th>11</th>\n",
       "      <td>2019-08-12</td>\n",
       "      <td>0.030</td>\n",
       "      <td>0.035</td>\n",
       "    </tr>\n",
       "    <tr>\n",
       "      <th>12</th>\n",
       "      <td>2019-08-13</td>\n",
       "      <td>0.029</td>\n",
       "      <td>0.034</td>\n",
       "    </tr>\n",
       "    <tr>\n",
       "      <th>13</th>\n",
       "      <td>2019-08-14</td>\n",
       "      <td>0.030</td>\n",
       "      <td>0.034</td>\n",
       "    </tr>\n",
       "    <tr>\n",
       "      <th>14</th>\n",
       "      <td>2019-08-15</td>\n",
       "      <td>0.029</td>\n",
       "      <td>0.035</td>\n",
       "    </tr>\n",
       "    <tr>\n",
       "      <th>15</th>\n",
       "      <td>2019-08-16</td>\n",
       "      <td>0.030</td>\n",
       "      <td>0.036</td>\n",
       "    </tr>\n",
       "    <tr>\n",
       "      <th>16</th>\n",
       "      <td>2019-08-17</td>\n",
       "      <td>0.030</td>\n",
       "      <td>0.036</td>\n",
       "    </tr>\n",
       "    <tr>\n",
       "      <th>17</th>\n",
       "      <td>2019-08-18</td>\n",
       "      <td>0.029</td>\n",
       "      <td>0.034</td>\n",
       "    </tr>\n",
       "    <tr>\n",
       "      <th>18</th>\n",
       "      <td>2019-08-19</td>\n",
       "      <td>0.030</td>\n",
       "      <td>0.035</td>\n",
       "    </tr>\n",
       "    <tr>\n",
       "      <th>19</th>\n",
       "      <td>2019-08-20</td>\n",
       "      <td>0.030</td>\n",
       "      <td>0.035</td>\n",
       "    </tr>\n",
       "    <tr>\n",
       "      <th>20</th>\n",
       "      <td>2019-08-21</td>\n",
       "      <td>0.030</td>\n",
       "      <td>0.034</td>\n",
       "    </tr>\n",
       "    <tr>\n",
       "      <th>21</th>\n",
       "      <td>2019-08-22</td>\n",
       "      <td>0.030</td>\n",
       "      <td>0.034</td>\n",
       "    </tr>\n",
       "    <tr>\n",
       "      <th>22</th>\n",
       "      <td>2019-08-23</td>\n",
       "      <td>0.031</td>\n",
       "      <td>0.034</td>\n",
       "    </tr>\n",
       "    <tr>\n",
       "      <th>23</th>\n",
       "      <td>2019-08-24</td>\n",
       "      <td>0.031</td>\n",
       "      <td>0.034</td>\n",
       "    </tr>\n",
       "    <tr>\n",
       "      <th>24</th>\n",
       "      <td>2019-08-25</td>\n",
       "      <td>0.030</td>\n",
       "      <td>0.034</td>\n",
       "    </tr>\n",
       "    <tr>\n",
       "      <th>25</th>\n",
       "      <td>2019-08-26</td>\n",
       "      <td>0.030</td>\n",
       "      <td>0.034</td>\n",
       "    </tr>\n",
       "    <tr>\n",
       "      <th>26</th>\n",
       "      <td>2019-08-27</td>\n",
       "      <td>0.030</td>\n",
       "      <td>0.033</td>\n",
       "    </tr>\n",
       "    <tr>\n",
       "      <th>27</th>\n",
       "      <td>2019-08-28</td>\n",
       "      <td>0.030</td>\n",
       "      <td>0.034</td>\n",
       "    </tr>\n",
       "    <tr>\n",
       "      <th>28</th>\n",
       "      <td>2019-08-29</td>\n",
       "      <td>0.030</td>\n",
       "      <td>0.034</td>\n",
       "    </tr>\n",
       "    <tr>\n",
       "      <th>29</th>\n",
       "      <td>2019-08-30</td>\n",
       "      <td>0.030</td>\n",
       "      <td>0.034</td>\n",
       "    </tr>\n",
       "    <tr>\n",
       "      <th>30</th>\n",
       "      <td>2019-08-31</td>\n",
       "      <td>0.030</td>\n",
       "      <td>0.034</td>\n",
       "    </tr>\n",
       "  </tbody>\n",
       "</table>\n",
       "</div>"
      ],
      "text/plain": [
       "         date  conversionA  conversionB\n",
       "0  2019-08-01        0.033        0.029\n",
       "1  2019-08-02        0.033        0.035\n",
       "2  2019-08-03        0.037        0.034\n",
       "3  2019-08-04        0.033        0.030\n",
       "4  2019-08-05        0.033        0.031\n",
       "5  2019-08-06        0.032        0.033\n",
       "6  2019-08-07        0.031        0.033\n",
       "7  2019-08-08        0.031        0.034\n",
       "8  2019-08-09        0.030        0.035\n",
       "9  2019-08-10        0.031        0.036\n",
       "10 2019-08-11        0.030        0.034\n",
       "11 2019-08-12        0.030        0.035\n",
       "12 2019-08-13        0.029        0.034\n",
       "13 2019-08-14        0.030        0.034\n",
       "14 2019-08-15        0.029        0.035\n",
       "15 2019-08-16        0.030        0.036\n",
       "16 2019-08-17        0.030        0.036\n",
       "17 2019-08-18        0.029        0.034\n",
       "18 2019-08-19        0.030        0.035\n",
       "19 2019-08-20        0.030        0.035\n",
       "20 2019-08-21        0.030        0.034\n",
       "21 2019-08-22        0.030        0.034\n",
       "22 2019-08-23        0.031        0.034\n",
       "23 2019-08-24        0.031        0.034\n",
       "24 2019-08-25        0.030        0.034\n",
       "25 2019-08-26        0.030        0.034\n",
       "26 2019-08-27        0.030        0.033\n",
       "27 2019-08-28        0.030        0.034\n",
       "28 2019-08-29        0.030        0.034\n",
       "29 2019-08-30        0.030        0.034\n",
       "30 2019-08-31        0.030        0.034"
      ]
     },
     "metadata": {},
     "output_type": "display_data"
    }
   ],
   "source": [
    "mergedCumulativeConversions = (\n",
    "    cumulativeDataA[['date','conversion']]\n",
    "    .merge(cumulativeDataB[['date','conversion']],\n",
    "           left_on='date', right_on='date',\n",
    "           how='left',\n",
    "           suffixes=['A', 'B'])\n",
    ")\n",
    "display(mergedCumulativeConversions)"
   ]
  },
  {
   "cell_type": "code",
   "execution_count": 36,
   "metadata": {},
   "outputs": [
    {
     "data": {
      "image/png": "[encoded data removed]",
      "text/plain": [
       "<Figure size 864x576 with 1 Axes>"
      ]
     },
     "metadata": {
      "needs_background": "light"
     },
     "output_type": "display_data"
    }
   ],
   "source": [
    "# задаем размеры графика \n",
    "plt.figure(figsize=(12, 8))\n",
    "\n",
    "# строим график\n",
    "plt.plot(mergedCumulativeConversions['date'],\n",
    "         mergedCumulativeConversions['conversionB']/mergedCumulativeConversions['conversionA']-1,\n",
    "         label=\"Относительный прирост конверсии группы B относительно группы A\")\n",
    "\n",
    "# добавляем оси\n",
    "plt.axhline(y=0, color='black', linestyle='--')\n",
    "plt.axhline(y=0.15, color='grey', linestyle='--')\n",
    "\n",
    "# параметры графика\n",
    "plt.title('График относительного изменения кумулятивного среднего количества заказов на посетителя группы B к группе A', fontsize=16)\n",
    "plt.xlabel('Дата', fontsize=12)\n",
    "plt.ylabel('Среднее количество заказов на посетителя', fontsize=12)\n",
    "plt.legend(fontsize=14)\n",
    "plt.grid()\n",
    "\n",
    "plt.show()"
   ]
  },
  {
   "cell_type": "markdown",
   "metadata": {},
   "source": [
    "Видно, что в начале теста группа В проигрывала группе А по конверсии, но начиная с 6-го дня таста группа В вышла в лидеры и с 9.08 по 19.08 приимущество группе В было примерно на 15-20% больше, далее снизлось до 10%, а к концу теста снова наблюдается тенденция к росту.\n",
    "\n",
    "В целом, кажется, что отношение среднего количества заказов на посетителя ещё не установилось, и сейчас делать какие-либо выводы по тесту нельзя, сперва стоит проанализировать аномалии, возможно, они изменят картину."
   ]
  },
  {
   "cell_type": "markdown",
   "metadata": {},
   "source": [
    "### Точечный график количества заказов по пользователям."
   ]
  },
  {
   "cell_type": "code",
   "execution_count": 37,
   "metadata": {},
   "outputs": [
    {
     "data": {
      "text/html": [
       "<div>\n",
       "<style scoped>\n",
       "    .dataframe tbody tr th:only-of-type {\n",
       "        vertical-align: middle;\n",
       "    }\n",
       "\n",
       "    .dataframe tbody tr th {\n",
       "        vertical-align: top;\n",
       "    }\n",
       "\n",
       "    .dataframe thead th {\n",
       "        text-align: right;\n",
       "    }\n",
       "</style>\n",
       "<table border=\"1\" class=\"dataframe\">\n",
       "  <thead>\n",
       "    <tr style=\"text-align: right;\">\n",
       "      <th></th>\n",
       "      <th>userId</th>\n",
       "      <th>orders</th>\n",
       "    </tr>\n",
       "  </thead>\n",
       "  <tbody>\n",
       "    <tr>\n",
       "      <th>1023</th>\n",
       "      <td>4256040402</td>\n",
       "      <td>11</td>\n",
       "    </tr>\n",
       "    <tr>\n",
       "      <th>591</th>\n",
       "      <td>2458001652</td>\n",
       "      <td>11</td>\n",
       "    </tr>\n",
       "    <tr>\n",
       "      <th>569</th>\n",
       "      <td>2378935119</td>\n",
       "      <td>9</td>\n",
       "    </tr>\n",
       "    <tr>\n",
       "      <th>487</th>\n",
       "      <td>2038680547</td>\n",
       "      <td>8</td>\n",
       "    </tr>\n",
       "    <tr>\n",
       "      <th>44</th>\n",
       "      <td>199603092</td>\n",
       "      <td>5</td>\n",
       "    </tr>\n",
       "    <tr>\n",
       "      <th>744</th>\n",
       "      <td>3062433592</td>\n",
       "      <td>5</td>\n",
       "    </tr>\n",
       "    <tr>\n",
       "      <th>55</th>\n",
       "      <td>237748145</td>\n",
       "      <td>5</td>\n",
       "    </tr>\n",
       "    <tr>\n",
       "      <th>917</th>\n",
       "      <td>3803269165</td>\n",
       "      <td>5</td>\n",
       "    </tr>\n",
       "    <tr>\n",
       "      <th>299</th>\n",
       "      <td>1230306981</td>\n",
       "      <td>5</td>\n",
       "    </tr>\n",
       "    <tr>\n",
       "      <th>897</th>\n",
       "      <td>3717692402</td>\n",
       "      <td>5</td>\n",
       "    </tr>\n",
       "  </tbody>\n",
       "</table>\n",
       "</div>"
      ],
      "text/plain": [
       "          userId  orders\n",
       "1023  4256040402      11\n",
       "591   2458001652      11\n",
       "569   2378935119       9\n",
       "487   2038680547       8\n",
       "44     199603092       5\n",
       "744   3062433592       5\n",
       "55     237748145       5\n",
       "917   3803269165       5\n",
       "299   1230306981       5\n",
       "897   3717692402       5"
      ]
     },
     "metadata": {},
     "output_type": "display_data"
    }
   ],
   "source": [
    "# Подсчитаем количество заказов по пользователям\n",
    "ordersByUsers = (\n",
    "    orders.groupby('visitorId', as_index=False)\n",
    "    .agg({'transactionId': 'nunique'})\n",
    ")\n",
    "\n",
    "ordersByUsers.columns = ['userId', 'orders']\n",
    "\n",
    "display(ordersByUsers.sort_values(by='orders', ascending=False).head(10))"
   ]
  },
  {
   "cell_type": "code",
   "execution_count": 38,
   "metadata": {},
   "outputs": [
    {
     "data": {
      "image/png": "[encoded data removed]",
      "text/plain": [
       "<Figure size 864x576 with 1 Axes>"
      ]
     },
     "metadata": {
      "needs_background": "light"
     },
     "output_type": "display_data"
    }
   ],
   "source": [
    "# задаем размеры графика \n",
    "plt.figure(figsize=(12, 8))\n",
    "\n",
    "# строим график\n",
    "x_values = pd.Series(range(0,len(ordersByUsers)))\n",
    "\n",
    "plt.scatter(x_values, ordersByUsers['orders'])\n",
    "\n",
    "# параметры графика\n",
    "plt.title('График количества заказов по пользователям', fontsize=16)\n",
    "plt.xlabel('Пользователи', fontsize=12)\n",
    "plt.ylabel('Количество заказов', fontsize=12)\n",
    "plt.grid()\n",
    "\n",
    "plt.show()"
   ]
  },
  {
   "cell_type": "markdown",
   "metadata": {},
   "source": [
    "пользователей, которые совершили более 2-ух заказов мало, а тех кто совершил больше 5 заказов - совсем единицы. Их точная доля не ясна, значит непонятно, можно ли считать их аномалиями или нет.\n",
    "\n",
    "Далее посчитаю выборочные перцентили количества заказов на одного пользователя и выберу границу для определения аномальных пользователей."
   ]
  },
  {
   "cell_type": "markdown",
   "metadata": {},
   "source": [
    "### 95-й и 99-й перцентили количества заказов на пользователя."
   ]
  },
  {
   "cell_type": "code",
   "execution_count": 39,
   "metadata": {},
   "outputs": [
    {
     "data": {
      "text/plain": [
       "array([2., 4.])"
      ]
     },
     "metadata": {},
     "output_type": "display_data"
    }
   ],
   "source": [
    "display(np.percentile(ordersByUsers['orders'], [95, 99])) "
   ]
  },
  {
   "cell_type": "markdown",
   "metadata": {},
   "source": [
    "- Не более 5% пользователй совершили больше 2-х заказов.\n",
    "- Не более 1 % пользователей совершили больше 4-х заказов.\n",
    "\n",
    "Следовательно, разумно считать, что верхняя граница заказов на одного пользователя - 2, все остальное - выбросы."
   ]
  },
  {
   "cell_type": "markdown",
   "metadata": {},
   "source": [
    "### Точечный график стоимостей заказов."
   ]
  },
  {
   "cell_type": "code",
   "execution_count": 40,
   "metadata": {},
   "outputs": [
    {
     "data": {
      "text/html": [
       "<div>\n",
       "<style scoped>\n",
       "    .dataframe tbody tr th:only-of-type {\n",
       "        vertical-align: middle;\n",
       "    }\n",
       "\n",
       "    .dataframe tbody tr th {\n",
       "        vertical-align: top;\n",
       "    }\n",
       "\n",
       "    .dataframe thead th {\n",
       "        text-align: right;\n",
       "    }\n",
       "</style>\n",
       "<table border=\"1\" class=\"dataframe\">\n",
       "  <thead>\n",
       "    <tr style=\"text-align: right;\">\n",
       "      <th></th>\n",
       "      <th>visitorId</th>\n",
       "      <th>revenue</th>\n",
       "    </tr>\n",
       "  </thead>\n",
       "  <tbody>\n",
       "    <tr>\n",
       "      <th>425</th>\n",
       "      <td>1920142716</td>\n",
       "      <td>1294500</td>\n",
       "    </tr>\n",
       "    <tr>\n",
       "      <th>1196</th>\n",
       "      <td>2108080724</td>\n",
       "      <td>202740</td>\n",
       "    </tr>\n",
       "    <tr>\n",
       "      <th>858</th>\n",
       "      <td>1316129916</td>\n",
       "      <td>93940</td>\n",
       "    </tr>\n",
       "    <tr>\n",
       "      <th>1136</th>\n",
       "      <td>1307669133</td>\n",
       "      <td>92550</td>\n",
       "    </tr>\n",
       "    <tr>\n",
       "      <th>744</th>\n",
       "      <td>888512513</td>\n",
       "      <td>86620</td>\n",
       "    </tr>\n",
       "    <tr>\n",
       "      <th>682</th>\n",
       "      <td>4266935830</td>\n",
       "      <td>78990</td>\n",
       "    </tr>\n",
       "    <tr>\n",
       "      <th>662</th>\n",
       "      <td>4266935830</td>\n",
       "      <td>78990</td>\n",
       "    </tr>\n",
       "    <tr>\n",
       "      <th>743</th>\n",
       "      <td>4133034833</td>\n",
       "      <td>67990</td>\n",
       "    </tr>\n",
       "    <tr>\n",
       "      <th>1103</th>\n",
       "      <td>1164614297</td>\n",
       "      <td>66350</td>\n",
       "    </tr>\n",
       "    <tr>\n",
       "      <th>1099</th>\n",
       "      <td>148427295</td>\n",
       "      <td>65710</td>\n",
       "    </tr>\n",
       "  </tbody>\n",
       "</table>\n",
       "</div>"
      ],
      "text/plain": [
       "       visitorId  revenue\n",
       "425   1920142716  1294500\n",
       "1196  2108080724   202740\n",
       "858   1316129916    93940\n",
       "1136  1307669133    92550\n",
       "744    888512513    86620\n",
       "682   4266935830    78990\n",
       "662   4266935830    78990\n",
       "743   4133034833    67990\n",
       "1103  1164614297    66350\n",
       "1099   148427295    65710"
      ]
     },
     "metadata": {},
     "output_type": "display_data"
    }
   ],
   "source": [
    "# Выводим результат\n",
    "display(orders[['visitorId', 'revenue']].sort_values(by='revenue', ascending=False).head(10))\n"
   ]
  },
  {
   "cell_type": "code",
   "execution_count": 41,
   "metadata": {},
   "outputs": [
    {
     "data": {
      "image/png": "[encoded data removed]",
      "text/plain": [
       "<Figure size 864x576 with 1 Axes>"
      ]
     },
     "metadata": {
      "needs_background": "light"
     },
     "output_type": "display_data"
    }
   ],
   "source": [
    "# задаем размеры графика \n",
    "plt.figure(figsize=(12, 8))\n",
    "\n",
    "# строим график\n",
    "x_values = pd.Series(range(0,len(orders)))\n",
    "\n",
    "plt.scatter(x_values, orders['revenue'])\n",
    "\n",
    "# параметры графика\n",
    "plt.title('График стоимости заказов по пользователям', fontsize=16)\n",
    "plt.xlabel('Пользователи', fontsize=12)\n",
    "plt.ylabel('Стоимость заказа', fontsize=12)\n",
    "\n",
    "# Настраиваем ось Y для отображения в тысячах/миллионах\n",
    "ax = plt.gca()  # Получаем текущие оси\n",
    "ax.yaxis.set_major_formatter(ticker.FuncFormatter(lambda x, _: f'{x:,.0f}'.replace(',', ' ')))\n",
    "\n",
    "plt.grid()\n",
    "plt.show()"
   ]
  },
  {
   "cell_type": "markdown",
   "metadata": {},
   "source": [
    "Из графика видно, что большая часть заказов разпределена по стоимость до 20 000, более 50 00 - ето единичные заказы, так же присутствуют заказы 200 000 и больше 1 200 000. Их точная доля не ясна, значит непонятно, можно ли считать их аномалиями или нет.\n",
    "\n",
    "Далее посчитаю выборочные перцентили стоимости заказов на одного пользователя и выберу границу для определения аномальных пользователей."
   ]
  },
  {
   "cell_type": "markdown",
   "metadata": {},
   "source": [
    "### 95-й и 99-й перцентили стоимости заказов."
   ]
  },
  {
   "cell_type": "code",
   "execution_count": 42,
   "metadata": {},
   "outputs": [
    {
     "data": {
      "text/plain": [
       "array([28000. , 58233.2])"
      ]
     },
     "metadata": {},
     "output_type": "display_data"
    }
   ],
   "source": [
    "display(np.percentile(orders['revenue'], [95, 99])) "
   ]
  },
  {
   "cell_type": "markdown",
   "metadata": {},
   "source": [
    "- Не более 5% пользователй совершили заказ стоимостью больше 28 000.\n",
    "- Не более 1 % пользователей совершили заказ стоимостью больше 58 233.\n",
    "\n",
    "Следовательно, разумно считать, что верхняя граница стоимость заказа на одного пользователя - 28 000, все остальное - выбросы."
   ]
  },
  {
   "cell_type": "markdown",
   "metadata": {},
   "source": [
    "### Статистическая значимость различий в среднем количестве заказов на посетителя между группами по «сырым» данным.\n",
    "Перед подсчетом статистичиской значимости различий необходимо подготовить данные и соформулировать гипотезы. Данные для анализа сохраню в переменную data.\n"
   ]
  },
  {
   "cell_type": "code",
   "execution_count": 43,
   "metadata": {},
   "outputs": [
    {
     "data": {
      "text/html": [
       "<div>\n",
       "<style scoped>\n",
       "    .dataframe tbody tr th:only-of-type {\n",
       "        vertical-align: middle;\n",
       "    }\n",
       "\n",
       "    .dataframe tbody tr th {\n",
       "        vertical-align: top;\n",
       "    }\n",
       "\n",
       "    .dataframe thead th {\n",
       "        text-align: right;\n",
       "    }\n",
       "</style>\n",
       "<table border=\"1\" class=\"dataframe\">\n",
       "  <thead>\n",
       "    <tr style=\"text-align: right;\">\n",
       "      <th></th>\n",
       "      <th>date</th>\n",
       "      <th>ordersPerDateA</th>\n",
       "      <th>revenuePerDateA</th>\n",
       "      <th>ordersPerDateB</th>\n",
       "      <th>revenuePerDateB</th>\n",
       "      <th>ordersCummulativeA</th>\n",
       "      <th>revenueCummulativeA</th>\n",
       "      <th>ordersCummulativeB</th>\n",
       "      <th>revenueCummulativeB</th>\n",
       "      <th>visitorsPerDateA</th>\n",
       "      <th>visitorsPerDateB</th>\n",
       "      <th>visitorsCummulativeA</th>\n",
       "      <th>visitorsCummulativeB</th>\n",
       "    </tr>\n",
       "  </thead>\n",
       "  <tbody>\n",
       "    <tr>\n",
       "      <th>0</th>\n",
       "      <td>2019-08-01</td>\n",
       "      <td>24</td>\n",
       "      <td>148579</td>\n",
       "      <td>21</td>\n",
       "      <td>101217</td>\n",
       "      <td>24</td>\n",
       "      <td>148579</td>\n",
       "      <td>21</td>\n",
       "      <td>101217</td>\n",
       "      <td>719</td>\n",
       "      <td>713</td>\n",
       "      <td>719</td>\n",
       "      <td>713</td>\n",
       "    </tr>\n",
       "    <tr>\n",
       "      <th>1</th>\n",
       "      <td>2019-08-02</td>\n",
       "      <td>20</td>\n",
       "      <td>93822</td>\n",
       "      <td>24</td>\n",
       "      <td>165531</td>\n",
       "      <td>44</td>\n",
       "      <td>242401</td>\n",
       "      <td>45</td>\n",
       "      <td>266748</td>\n",
       "      <td>619</td>\n",
       "      <td>581</td>\n",
       "      <td>1338</td>\n",
       "      <td>1294</td>\n",
       "    </tr>\n",
       "    <tr>\n",
       "      <th>2</th>\n",
       "      <td>2019-08-03</td>\n",
       "      <td>24</td>\n",
       "      <td>112473</td>\n",
       "      <td>16</td>\n",
       "      <td>114248</td>\n",
       "      <td>68</td>\n",
       "      <td>354874</td>\n",
       "      <td>61</td>\n",
       "      <td>380996</td>\n",
       "      <td>507</td>\n",
       "      <td>509</td>\n",
       "      <td>1845</td>\n",
       "      <td>1803</td>\n",
       "    </tr>\n",
       "    <tr>\n",
       "      <th>3</th>\n",
       "      <td>2019-08-04</td>\n",
       "      <td>16</td>\n",
       "      <td>70825</td>\n",
       "      <td>17</td>\n",
       "      <td>108571</td>\n",
       "      <td>84</td>\n",
       "      <td>425699</td>\n",
       "      <td>78</td>\n",
       "      <td>489567</td>\n",
       "      <td>717</td>\n",
       "      <td>770</td>\n",
       "      <td>2562</td>\n",
       "      <td>2573</td>\n",
       "    </tr>\n",
       "    <tr>\n",
       "      <th>4</th>\n",
       "      <td>2019-08-05</td>\n",
       "      <td>25</td>\n",
       "      <td>124218</td>\n",
       "      <td>23</td>\n",
       "      <td>92428</td>\n",
       "      <td>109</td>\n",
       "      <td>549917</td>\n",
       "      <td>101</td>\n",
       "      <td>581995</td>\n",
       "      <td>756</td>\n",
       "      <td>707</td>\n",
       "      <td>3318</td>\n",
       "      <td>3280</td>\n",
       "    </tr>\n",
       "  </tbody>\n",
       "</table>\n",
       "</div>"
      ],
      "text/plain": [
       "        date  ordersPerDateA  revenuePerDateA  ordersPerDateB  \\\n",
       "0 2019-08-01              24           148579              21   \n",
       "1 2019-08-02              20            93822              24   \n",
       "2 2019-08-03              24           112473              16   \n",
       "3 2019-08-04              16            70825              17   \n",
       "4 2019-08-05              25           124218              23   \n",
       "\n",
       "   revenuePerDateB  ordersCummulativeA  revenueCummulativeA  \\\n",
       "0           101217                  24               148579   \n",
       "1           165531                  44               242401   \n",
       "2           114248                  68               354874   \n",
       "3           108571                  84               425699   \n",
       "4            92428                 109               549917   \n",
       "\n",
       "   ordersCummulativeB  revenueCummulativeB  visitorsPerDateA  \\\n",
       "0                  21               101217               719   \n",
       "1                  45               266748               619   \n",
       "2                  61               380996               507   \n",
       "3                  78               489567               717   \n",
       "4                 101               581995               756   \n",
       "\n",
       "   visitorsPerDateB  visitorsCummulativeA  visitorsCummulativeB  \n",
       "0               713                   719                   713  \n",
       "1               581                  1338                  1294  \n",
       "2               509                  1845                  1803  \n",
       "3               770                  2562                  2573  \n",
       "4               707                  3318                  3280  "
      ]
     },
     "metadata": {},
     "output_type": "display_data"
    }
   ],
   "source": [
    "visitorsADaily = visitors[visitors['group'] == 'A'][['date', 'visitors']]\n",
    "visitorsADaily.columns = ['date', 'visitorsPerDateA']\n",
    "\n",
    "visitorsACummulative = visitorsADaily.apply(\n",
    "    lambda x: visitorsADaily[visitorsADaily['date'] <= x['date']].agg(\n",
    "        {'date': 'max', 'visitorsPerDateA': 'sum'}\n",
    "    ),\n",
    "    axis=1,\n",
    ")\n",
    "visitorsACummulative.columns = ['date', 'visitorsCummulativeA']\n",
    "\n",
    "visitorsBDaily = visitors[visitors['group'] == 'B'][['date', 'visitors']]\n",
    "visitorsBDaily.columns = ['date', 'visitorsPerDateB']\n",
    "\n",
    "visitorsBCummulative = visitorsBDaily.apply(\n",
    "    lambda x: visitorsBDaily[visitorsBDaily['date'] <= x['date']].agg(\n",
    "        {'date': 'max', 'visitorsPerDateB': 'sum'}\n",
    "    ),\n",
    "    axis=1,\n",
    ")\n",
    "visitorsBCummulative.columns = ['date', 'visitorsCummulativeB']\n",
    "\n",
    "ordersADaily = (\n",
    "    orders[orders['group'] == 'A'][['date', 'transactionId', 'visitorId', 'revenue']]\n",
    "    .groupby('date', as_index=False)\n",
    "    .agg({'transactionId': pd.Series.nunique, 'revenue': 'sum'})\n",
    ")\n",
    "ordersADaily.columns = ['date', 'ordersPerDateA', 'revenuePerDateA']\n",
    "\n",
    "ordersACummulative = ordersADaily.apply(\n",
    "    lambda x: ordersADaily[ordersADaily['date'] <= x['date']].agg(\n",
    "        {'date': 'max', 'ordersPerDateA': 'sum', 'revenuePerDateA': 'sum'}\n",
    "    ),\n",
    "    axis=1,\n",
    ").sort_values(by=['date'])\n",
    "ordersACummulative.columns = [\n",
    "    'date',\n",
    "    'ordersCummulativeA',\n",
    "    'revenueCummulativeA',\n",
    "]\n",
    "\n",
    "ordersBDaily = (\n",
    "    orders[orders['group'] == 'B'][['date', 'transactionId', 'visitorId', 'revenue']]\n",
    "    .groupby('date', as_index=False)\n",
    "    .agg({'transactionId': pd.Series.nunique, 'revenue': 'sum'})\n",
    ")\n",
    "ordersBDaily.columns = ['date', 'ordersPerDateB', 'revenuePerDateB']\n",
    "\n",
    "ordersBCummulative = ordersBDaily.apply(\n",
    "    lambda x: ordersBDaily[ordersBDaily['date'] <= x['date']].agg(\n",
    "        {'date': 'max', 'ordersPerDateB': 'sum', 'revenuePerDateB': 'sum'}\n",
    "    ),\n",
    "    axis=1,\n",
    ").sort_values(by=['date'])\n",
    "ordersBCummulative.columns = [\n",
    "    'date',\n",
    "    'ordersCummulativeB',\n",
    "    'revenueCummulativeB',\n",
    "]\n",
    "\n",
    "data = (\n",
    "    ordersADaily.merge(\n",
    "        ordersBDaily, left_on='date', right_on='date', how='left'\n",
    "    )\n",
    "    .merge(ordersACummulative, left_on='date', right_on='date', how='left')\n",
    "    .merge(ordersBCummulative, left_on='date', right_on='date', how='left')\n",
    "    .merge(visitorsADaily, left_on='date', right_on='date', how='left')\n",
    "    .merge(visitorsBDaily, left_on='date', right_on='date', how='left')\n",
    "    .merge(visitorsACummulative, left_on='date', right_on='date', how='left')\n",
    "    .merge(visitorsBCummulative, left_on='date', right_on='date', how='left')\n",
    ")\n",
    "\n",
    "display(data.head()) "
   ]
  },
  {
   "cell_type": "markdown",
   "metadata": {},
   "source": [
    "Описание датафрейма **data**:\n",
    "- date — дата;\n",
    "- ordersPerDateA — количество заказов в выбранную дату в группе A;\n",
    "- revenuePerDateA — суммарная выручка в выбранную дату в группе A;\n",
    "- ordersPerDateB — количество заказов в выбранную дату в группе B;\n",
    "- revenuePerDateB — суммарная выручка в выбранную дату в группе B;\n",
    "- ordersCummulativeA — суммарное число заказов до выбранной даты включительно в группе A;\n",
    "- revenueCummulativeA — суммарная выручка до выбранной даты включительно в группе A;\n",
    "- ordersCummulativeB — суммарное количество заказов до выбранной даты включительно в группе B;\n",
    "- revenueCummulativeB — суммарная выручка до выбранной даты включительно в группе B;\n",
    "- visitorsPerDateA — количество пользователей в выбранную дату в группе A;\n",
    "- visitorsPerDateB — количество пользователей в выбранную дату в группе B;\n",
    "- visitorsCummulativeA — количество пользователей до выбранной даты включительно в группе A;\n",
    "- visitorsCummulativeB — количество пользователей до выбранной даты включительно в группе B."
   ]
  },
  {
   "cell_type": "markdown",
   "metadata": {},
   "source": [
    "Посчитаю статистическую значимость различий в среднем числе заказов на пользователя между группами по «сырым» данным — без удаления аномальных пользователей.\n",
    "Гипотезы:\n",
    "- *H_0 (нулевая)*: Среднее количество заказов на посетителя групп A и B равны, статистически значимых отличий нет;\n",
    "- *H_1 (альтернативная)*: Среднее количество заказов на посетителя групп A и B различны, статистически значимые отличия есть.\n",
    "\n",
    "Создадам переменные **ordersByUsersA** и **ordersByUsersB** со столбцами ['visitorId', 'orders']. В них для пользователей, которые заказывали хотя бы 1 раз, укажу число совершённых заказов. \n",
    "\n",
    "Объявлю переменные **sampleA** и **sampleB**, в которых пользователям из разных групп будет соответствовать количество заказов. Тем, кто ничего не заказал, будут соответствовать нули. Это нужно, чтобы подготовить выборки к проверке критерием Манна-Уитни.\n",
    "\n",
    "Применим критерий и отформатируем p-value, округлив его до трёх знаков после запятой."
   ]
  },
  {
   "cell_type": "code",
   "execution_count": 44,
   "metadata": {},
   "outputs": [
    {
     "name": "stdout",
     "output_type": "stream",
     "text": [
      "P-value: 0.016792355056752608\n",
      "Относительные различия: 0.138\n"
     ]
    }
   ],
   "source": [
    "ordersByUsersA = (\n",
    "    orders[orders['group'] == 'A']\n",
    "    .groupby('visitorId', as_index=False)\n",
    "    .agg({'transactionId': pd.Series.nunique})\n",
    ")\n",
    "ordersByUsersA.columns = ['visitorId', 'orders']\n",
    "\n",
    "ordersByUsersB = (\n",
    "    orders[orders['group'] == 'B']\n",
    "    .groupby('visitorId', as_index=False)\n",
    "    .agg({'transactionId': pd.Series.nunique})\n",
    ")\n",
    "ordersByUsersB.columns = ['visitorId', 'orders']\n",
    "\n",
    "sampleA = pd.concat(\n",
    "    [\n",
    "        ordersByUsersA['orders'],\n",
    "        pd.Series(\n",
    "            0,\n",
    "            index=np.arange(\n",
    "                data['visitorsPerDateA'].sum() - len(ordersByUsersA['orders'])\n",
    "            ),\n",
    "            name='orders',\n",
    "        ),\n",
    "    ],\n",
    "    axis=0,\n",
    ")\n",
    "\n",
    "sampleB = pd.concat(\n",
    "    [\n",
    "        ordersByUsersB['orders'],\n",
    "        pd.Series(\n",
    "            0,\n",
    "            index=np.arange(\n",
    "                data['visitorsPerDateB'].sum() - len(ordersByUsersB['orders'])\n",
    "            ),\n",
    "            name='orders',\n",
    "        ),\n",
    "    ],\n",
    "    axis=0,\n",
    ")\n",
    "\n",
    "print('P-value:', format(st.mannwhitneyu(sampleA, sampleB)[1]))\n",
    "\n",
    "print('Относительные различия:', \"{0:.3f}\".format(sampleB.mean() / sampleA.mean() - 1))\n"
   ]
  },
  {
   "cell_type": "markdown",
   "metadata": {},
   "source": [
    "По \"сырым\" данным есть статистичиски значимые различия в среднем количестве заказов на посетителя между группами А и В:\n",
    "- *P-value* меньше 0.05 (5%) и равно 0.0167, значит отвергаем нулевую гипотезу;\n",
    "- относительный прирост среднего группы В к конверсии группы А равен 13.8%."
   ]
  },
  {
   "cell_type": "markdown",
   "metadata": {},
   "source": [
    "### Статистическая значимость различий в среднем чеке заказа между группами по «сырым» данным.\n",
    "Гипотезы:\n",
    "- H_0 (нулевая): Средний чек на посетителя групп A и B равны, статистически значимых отличий нет;\n",
    "- H_1 (альтернативная): Средний чек на посетителя групп A и B различны, статистически значимые отличия есть.\n",
    "\n",
    "Чтобы рассчитать статистическую значимость различий в среднем чеке, передадам критерию mannwhitneyu() данные о выручке с заказов. "
   ]
  },
  {
   "cell_type": "code",
   "execution_count": 45,
   "metadata": {},
   "outputs": [
    {
     "name": "stdout",
     "output_type": "stream",
     "text": [
      "P-value: 0.7292909855432458\n",
      "Относительные различия: 0.259\n"
     ]
    }
   ],
   "source": [
    "print('P-value:',\n",
    "      format(st.mannwhitneyu(orders[orders['group']=='A']['revenue'],\n",
    "                                          orders[orders['group']=='B']['revenue'])[1]))\n",
    "print('Относительные различия:',\n",
    "      '{0:.3f}'.format(orders[orders['group']=='B']['revenue']\n",
    "                       .mean()/orders[orders['group']=='A']['revenue']\n",
    "                       .mean()-1))"
   ]
  },
  {
   "cell_type": "markdown",
   "metadata": {},
   "source": [
    "По \"сырым\" данным НЕТ статистичиски значимых различий в среднем чеке на посетителя между группами А и В:\n",
    "- *P-value* больше 0.05 (5%) и равно 0.729, значит не отвергаем нулевую гипотезу;\n",
    "- относительное различие между средними чеками посетителя группы А и В составляет 26%."
   ]
  },
  {
   "cell_type": "markdown",
   "metadata": {},
   "source": [
    "###  Статистическая значимость различий в среднем количестве заказов на посетителя между группами по «очищенным» данным.\n",
    "\n",
    "Ранее определила, что выбросами являются те пользователи, кто совершил более двух заказов и заказы дороже 28 000 (таких пользователей меньше 5%), значит их и буду считать аномальными. Отфильтрую данные и удалю таких пользователей из анализа.\n"
   ]
  },
  {
   "cell_type": "code",
   "execution_count": 57,
   "metadata": {},
   "outputs": [
    {
     "name": "stdout",
     "output_type": "stream",
     "text": [
      "Количество аномальных пользователей: 74\n"
     ]
    }
   ],
   "source": [
    "usersWithManyOrders = pd.concat(\n",
    "    [\n",
    "        ordersByUsersA[ordersByUsersA['orders'] > 2]['visitorId'],\n",
    "        ordersByUsersB[ordersByUsersB['orders'] > 2]['visitorId'],\n",
    "    ],\n",
    "    axis=0,\n",
    ")\n",
    "usersWithExpensiveOrders = orders[orders['revenue'] > 28000]['visitorId']\n",
    "abnormalUsers = (\n",
    "    pd.concat([usersWithManyOrders, usersWithExpensiveOrders], axis=0)\n",
    "    .drop_duplicates()\n",
    "    .sort_values()\n",
    ")\n",
    "\n",
    "print('Количество аномальных пользователей:', abnormalUsers.shape[0]) "
   ]
  },
  {
   "cell_type": "code",
   "execution_count": 56,
   "metadata": {},
   "outputs": [
    {
     "name": "stdout",
     "output_type": "stream",
     "text": [
      "Количество аномальных пользователей: 74\n"
     ]
    }
   ],
   "source": [
    "# Код ревьюера\n",
    "usersWithManyOrders = pd.concat(\n",
    "    [\n",
    "        ordersByUsersA[ordersByUsersA['orders'] > np.percentile(ordersByUsersA['orders'], 95)]['visitorId'],\n",
    "        ordersByUsersB[ordersByUsersB['orders'] > np.percentile(ordersByUsersB['orders'], 95)]['visitorId'],\n",
    "    ],\n",
    "    axis=0,\n",
    ")\n",
    "\n",
    "\n",
    "usersWithExpensiveOrders = orders[orders['revenue'] > np.percentile(orders['revenue'], 95)]['visitorId']\n",
    "\n",
    "abnormalUsers = (\n",
    "    pd.concat([usersWithManyOrders, usersWithExpensiveOrders], axis=0)\n",
    "    .drop_duplicates()\n",
    "    .sort_values()\n",
    ")\n",
    "\n",
    "print('Количество аномальных пользователей:', abnormalUsers.shape[0])"
   ]
  },
  {
   "cell_type": "markdown",
   "metadata": {},
   "source": [
    "Посчитаю статистическую значимость различий в среднем количестве заказов между группами теста по очищенным данным. ."
   ]
  },
  {
   "cell_type": "code",
   "execution_count": 47,
   "metadata": {},
   "outputs": [
    {
     "name": "stdout",
     "output_type": "stream",
     "text": [
      "P-value: 0.013042592743036745\n",
      "Относительные различия: 0.173\n"
     ]
    }
   ],
   "source": [
    "# выборки количества заказов по пользователям по группам теста\n",
    "sampleAFiltered = pd.concat(\n",
    "    [\n",
    "        ordersByUsersA[\n",
    "            np.logical_not(ordersByUsersA['visitorId'].isin(abnormalUsers))\n",
    "        ]['orders'],\n",
    "        pd.Series(\n",
    "            0,\n",
    "            index=np.arange(\n",
    "                data['visitorsPerDateA'].sum() - len(ordersByUsersA['orders'])\n",
    "            ),\n",
    "            name='orders',\n",
    "        ),\n",
    "    ],\n",
    "    axis=0,\n",
    ")\n",
    "\n",
    "sampleBFiltered = pd.concat(\n",
    "    [\n",
    "        ordersByUsersB[\n",
    "            np.logical_not(ordersByUsersB['visitorId'].isin(abnormalUsers))\n",
    "        ]['orders'],\n",
    "        pd.Series(\n",
    "            0,\n",
    "            index=np.arange(\n",
    "                data['visitorsPerDateB'].sum() - len(ordersByUsersB['orders'])\n",
    "            ),\n",
    "            name='orders',\n",
    "        ),\n",
    "    ],\n",
    "    axis=0,\n",
    ")\n",
    "\n",
    "#Применим статистический критерий Манна-Уитни к полученным выборкам\n",
    "\n",
    "print('P-value:', format(st.mannwhitneyu(sampleAFiltered, sampleBFiltered)[1]))\n",
    "print('Относительные различия:', '{0:.3f}'.format(sampleBFiltered.mean()/sampleAFiltered.mean()-1))"
   ]
  },
  {
   "cell_type": "markdown",
   "metadata": {},
   "source": [
    "Критерии по очищенным данным практически не изменились с критериями \"сырых\" данных (P-value: 0.0167, Относительные различия: 0.138), значит ЕСТЬ статистичиски значимые различия в среднем количестве заказов на посетителя между группами А и В. Группа В лучше группы А."
   ]
  },
  {
   "cell_type": "code",
   "execution_count": null,
   "metadata": {},
   "outputs": [],
   "source": []
  },
  {
   "cell_type": "markdown",
   "metadata": {},
   "source": [
    "### Статистическая значимость различий в среднем чеке заказа между группами по «очищенным» данным.\n"
   ]
  },
  {
   "cell_type": "code",
   "execution_count": 48,
   "metadata": {},
   "outputs": [
    {
     "name": "stdout",
     "output_type": "stream",
     "text": [
      "P-value: 0.738481751314565\n",
      "Относительные различия: -0.020\n"
     ]
    }
   ],
   "source": [
    "print(\n",
    "    'P-value:',\n",
    "    format(\n",
    "        st.mannwhitneyu(\n",
    "            orders[\n",
    "                np.logical_and(\n",
    "                    orders['group'] == 'A',\n",
    "                    np.logical_not(orders['visitorId'].isin(abnormalUsers)),\n",
    "                )\n",
    "            ]['revenue'],\n",
    "            orders[\n",
    "                np.logical_and(\n",
    "                    orders['group'] == 'B',\n",
    "                    np.logical_not(orders['visitorId'].isin(abnormalUsers)),\n",
    "                )\n",
    "            ]['revenue'],\n",
    "        )[1]\n",
    "    )\n",
    ")\n",
    "\n",
    "print(\n",
    "    'Относительные различия:',\n",
    "    \"{0:.3f}\".format(\n",
    "        orders[\n",
    "            np.logical_and(\n",
    "                orders['group'] == 'B',\n",
    "                np.logical_not(orders['visitorId'].isin(abnormalUsers)),\n",
    "            )\n",
    "        ]['revenue'].mean()\n",
    "        / orders[\n",
    "            np.logical_and(\n",
    "                orders['group'] == 'A',\n",
    "                np.logical_not(orders['visitorId'].isin(abnormalUsers)),\n",
    "            )\n",
    "        ]['revenue'].mean()\n",
    "        - 1\n",
    "    )\n",
    ")"
   ]
  },
  {
   "cell_type": "markdown",
   "metadata": {},
   "source": [
    "По очищенным данным значение p-value стало больше (было 72,9%, стало 73,8%), однако относительные различия уменьшились и гр В стала проигрывать на 2%, это означает, что в данных стало меньше шума. По очищенным данным НЕТ статистичиски значимых различий в среднем чеке на посетителя между группами А и В."
   ]
  },
  {
   "cell_type": "markdown",
   "metadata": {},
   "source": [
    "### Выводы A/B тестирования:\n",
    "**Имеющиеся факты:**\n",
    "- Есть статистически значимое различие в среднем количестве заказов на посетителя между группами по «очищенным» данным и по \"сырым данным\".\n",
    "- Нет статистически значимого различия в среднем чеке заказа между группами ни по «сырым», ни по данным после фильтрации аномалий;\n",
    "- График различия среднего количества заказов на посетителя между группами сообщает, что результаты группы B лучше группы A.\n",
    "- График различия среднего чека говорит о том, что результаты группы B лучше группы А примерно на 20%.\n",
    "\n",
    "**На основании фактов можно сделать вывод:** Остановить тест, зафиксировать победу группы В."
   ]
  },
  {
   "cell_type": "markdown",
   "metadata": {},
   "source": [
    "## Общие выводы по проекту.\n",
    "\n",
    "**В ходе проведенного исследования были выполнены следующие задачи:**\n",
    "- загрузка данных,\n",
    "- обзор данных,\n",
    "- предобработка данных,\n",
    "- часть 1 - приоритизация гипотез,\n",
    "- часть 2 - анализ A/B-теста.\n",
    "\n",
    "**Ключевые моменты**\n",
    "\n",
    "1. ***Загрузка данных*** все данные загружены успешно.\n",
    "\n",
    "2. ***Обзор и предобработка данных*** \n",
    "- Информация всех датавреймов отображается корректно.\n",
    "- Корректировка написания столбцов не требуется. В датафреймах с информацией о Заказах (orders) и Посетителях (visitors) изменила тип данных столбца 'data' с object на date.\n",
    "- Пропуски во всех датафреймах отсутствуют.\n",
    "- Полные дубликаты отсутствуют.\n",
    "- Период анализа данных Август (с 1 по 31 включительно) 2019 года. Период одинаков для обоих датафреймов с датой (orders, visitors).\n",
    "- Список гипотез:\n",
    "    1. 1 Добавить два новых канала привлечения трафика, что позволит привлекать на 30% больше пользователей.\n",
    "    2. 2 Запустить собственную службу доставки, что сократит срок доставки заказов.\n",
    "    3. 3 Добавить блоки рекомендаций товаров на сайт интернет магазина, чтобы повысить конверсию и средний чек заказа.\n",
    "    4. 4 Изменить структура категорий, что увеличит конверсию, т.к. пользователи быстрее найдут нужный товар.\n",
    "    5. 5 Изменить цвет фона главной страницы, чтобы увеличить вовлеченность пользователей.\n",
    "    6. 6 Добавить страницу отзывов клиентов о магазине, что позволит увеличить количество заказов.\n",
    "    7. 7 Показать на главной странице баннеры с актуальными акциями и распродажами, чтобы увеличить конверсию.\n",
    "    8. 8 Добавить форму подписки на все основные страницы, чтобы собрать базу клиентов для email-рассылок.\n",
    "    9. 9 Запустить акцию, дающую скидку на товар в день рождения.\n",
    "\n",
    "3. ***Приоритизация гипотез***\n",
    "Применив фреймворки ICE / RICE выявлены наиболее приоритетные гипотезы (одинаковые для обоих фреймворков - 1, 3, 7, 8, 9):\n",
    "- (1) Добавить два новых канала привлечения трафика, что позволит привлекать на 30% больше пользователей;\n",
    "- (3) Добавить блоки рекомендаций товаров на сайт интернет магазина, чтобы повысить конверсию и средний чек заказа;\n",
    "- (7) Показать на главной странице баннеры с актуальными акциями и распродажами, чтобы увеличить конверсию;\n",
    "- (8) Добавить форму подписки на все основные страницы, чтобы собрать базу клиентов для email-рассылок;\n",
    "- (9) Запустить акцию, дающую скидку на товар в день рождения.\n",
    "\n",
    "Но порядок приоритизации разный:\n",
    "- для ICE - это гипотезы 9, 1, 8, 7, 3;\n",
    "- для RICE - это гипотезы 8, 3, 1, 7, 9.\n",
    "\n",
    "Разница в приоритизации возникла, т.к. в расчете RICE участвует компонент Reach (скольких пользователей затронет изменение, которое мы хотим внести) и для гипотез 8 и 3 этот компонет самый большой, поэтому эти гипотезы при расчете RICE заняли лидирующие позиции, а для гипотезы 9 Reach - самый маленький (равен 1), поэтому эта гипотеза опустилась вниз по сравнению с ICE.\n",
    "\n",
    "4. ***Анализ А/В теста***\n",
    "- *Вывод:* Остановить тест, зафиксировать победу группы В.\n",
    "- *Имеющиеся факты:*\n",
    "    - Есть статистически значимое различие в среднем количестве заказов на посетителя между группами по «очищенным» данным и по \"сырым данным\".\n",
    "    - Нет статистически значимого различия в среднем чеке заказа между группами ни по «сырым», ни по данным после фильтрации аномалий;\n",
    "    - График различия среднего количества заказов на посетителя между группами сообщает, что результаты группы B лучше группы A.\n",
    "    - График различия среднего чека говорит о том, что результаты группы B лучше группы А примерно на 20%."
   ]
  },
  {
   "cell_type": "code",
   "execution_count": null,
   "metadata": {},
   "outputs": [],
   "source": []
  }
 ],
 "metadata": {
  "ExecuteTimeLog": [
   {
    "duration": 1424,
    "start_time": "2025-01-23T11:39:04.165Z"
   },
   {
    "duration": 3,
    "start_time": "2025-01-23T11:39:05.591Z"
   },
   {
    "duration": 241,
    "start_time": "2025-01-23T11:39:05.597Z"
   },
   {
    "duration": 10,
    "start_time": "2025-01-23T11:40:52.874Z"
   },
   {
    "duration": 7,
    "start_time": "2025-01-23T11:41:08.850Z"
   },
   {
    "duration": 7,
    "start_time": "2025-01-23T11:41:34.846Z"
   },
   {
    "duration": 12,
    "start_time": "2025-01-23T11:45:46.587Z"
   },
   {
    "duration": 7,
    "start_time": "2025-01-23T11:46:32.843Z"
   },
   {
    "duration": 10,
    "start_time": "2025-01-23T11:47:03.971Z"
   },
   {
    "duration": 11,
    "start_time": "2025-01-23T11:47:35.919Z"
   },
   {
    "duration": 7,
    "start_time": "2025-01-23T12:34:59.803Z"
   },
   {
    "duration": 7,
    "start_time": "2025-01-23T12:35:24.746Z"
   },
   {
    "duration": 6,
    "start_time": "2025-01-23T12:35:41.979Z"
   },
   {
    "duration": 7,
    "start_time": "2025-01-23T12:36:12.920Z"
   },
   {
    "duration": 110,
    "start_time": "2025-01-23T12:39:33.506Z"
   },
   {
    "duration": 9,
    "start_time": "2025-01-23T12:39:45.935Z"
   },
   {
    "duration": 6,
    "start_time": "2025-01-23T12:39:55.487Z"
   },
   {
    "duration": 6,
    "start_time": "2025-01-23T12:40:25.491Z"
   },
   {
    "duration": 7,
    "start_time": "2025-01-23T12:42:03.569Z"
   },
   {
    "duration": 9,
    "start_time": "2025-01-23T12:44:00.111Z"
   },
   {
    "duration": 5,
    "start_time": "2025-01-23T12:44:46.867Z"
   },
   {
    "duration": 5,
    "start_time": "2025-01-23T12:46:16.327Z"
   },
   {
    "duration": 390,
    "start_time": "2025-01-23T13:37:51.510Z"
   },
   {
    "duration": 1240,
    "start_time": "2025-01-23T13:38:15.863Z"
   },
   {
    "duration": 4,
    "start_time": "2025-01-23T13:38:17.105Z"
   },
   {
    "duration": 161,
    "start_time": "2025-01-23T13:38:17.110Z"
   },
   {
    "duration": 11,
    "start_time": "2025-01-23T13:38:17.273Z"
   },
   {
    "duration": 13,
    "start_time": "2025-01-23T13:38:17.286Z"
   },
   {
    "duration": 7,
    "start_time": "2025-01-23T13:38:17.300Z"
   },
   {
    "duration": 26,
    "start_time": "2025-01-23T13:38:17.308Z"
   },
   {
    "duration": 7,
    "start_time": "2025-01-23T13:38:17.335Z"
   },
   {
    "duration": 18,
    "start_time": "2025-01-23T13:38:17.343Z"
   },
   {
    "duration": 14,
    "start_time": "2025-01-23T13:38:17.362Z"
   },
   {
    "duration": 664,
    "start_time": "2025-01-23T13:38:17.377Z"
   },
   {
    "duration": 0,
    "start_time": "2025-01-23T13:38:18.042Z"
   },
   {
    "duration": 0,
    "start_time": "2025-01-23T13:38:18.044Z"
   },
   {
    "duration": 0,
    "start_time": "2025-01-23T13:38:18.045Z"
   },
   {
    "duration": 0,
    "start_time": "2025-01-23T13:38:18.046Z"
   },
   {
    "duration": 0,
    "start_time": "2025-01-23T13:38:18.047Z"
   },
   {
    "duration": 0,
    "start_time": "2025-01-23T13:38:18.048Z"
   },
   {
    "duration": 0,
    "start_time": "2025-01-23T13:38:18.049Z"
   },
   {
    "duration": 0,
    "start_time": "2025-01-23T13:38:18.050Z"
   },
   {
    "duration": 1181,
    "start_time": "2025-01-23T13:39:28.542Z"
   },
   {
    "duration": 3,
    "start_time": "2025-01-23T13:39:29.725Z"
   },
   {
    "duration": 80,
    "start_time": "2025-01-23T13:39:29.729Z"
   },
   {
    "duration": 11,
    "start_time": "2025-01-23T13:39:29.811Z"
   },
   {
    "duration": 10,
    "start_time": "2025-01-23T13:39:29.824Z"
   },
   {
    "duration": 7,
    "start_time": "2025-01-23T13:39:29.835Z"
   },
   {
    "duration": 5,
    "start_time": "2025-01-23T13:39:29.844Z"
   },
   {
    "duration": 4,
    "start_time": "2025-01-23T13:39:29.851Z"
   },
   {
    "duration": 9,
    "start_time": "2025-01-23T13:39:29.856Z"
   },
   {
    "duration": 8,
    "start_time": "2025-01-23T13:39:29.886Z"
   },
   {
    "duration": 15,
    "start_time": "2025-01-23T13:39:29.895Z"
   },
   {
    "duration": 27,
    "start_time": "2025-01-23T13:39:29.911Z"
   },
   {
    "duration": 6,
    "start_time": "2025-01-23T13:39:29.939Z"
   },
   {
    "duration": 5,
    "start_time": "2025-01-23T13:39:29.947Z"
   },
   {
    "duration": 12,
    "start_time": "2025-01-23T13:39:29.953Z"
   },
   {
    "duration": 7,
    "start_time": "2025-01-23T13:39:29.967Z"
   },
   {
    "duration": 90,
    "start_time": "2025-01-23T13:39:29.975Z"
   },
   {
    "duration": 75,
    "start_time": "2025-01-23T13:39:30.067Z"
   },
   {
    "duration": 63,
    "start_time": "2025-01-23T13:39:30.144Z"
   },
   {
    "duration": 555,
    "start_time": "2025-01-23T13:45:10.914Z"
   },
   {
    "duration": 1208,
    "start_time": "2025-01-23T13:45:22.391Z"
   },
   {
    "duration": 3,
    "start_time": "2025-01-23T13:45:23.600Z"
   },
   {
    "duration": 91,
    "start_time": "2025-01-23T13:45:23.605Z"
   },
   {
    "duration": 11,
    "start_time": "2025-01-23T13:45:23.698Z"
   },
   {
    "duration": 10,
    "start_time": "2025-01-23T13:45:23.711Z"
   },
   {
    "duration": 15,
    "start_time": "2025-01-23T13:45:23.722Z"
   },
   {
    "duration": 6,
    "start_time": "2025-01-23T13:45:23.738Z"
   },
   {
    "duration": 8,
    "start_time": "2025-01-23T13:45:23.746Z"
   },
   {
    "duration": 11,
    "start_time": "2025-01-23T13:45:23.755Z"
   },
   {
    "duration": 6,
    "start_time": "2025-01-23T13:45:23.786Z"
   },
   {
    "duration": 24,
    "start_time": "2025-01-23T13:45:23.794Z"
   },
   {
    "duration": 12,
    "start_time": "2025-01-23T13:45:23.819Z"
   },
   {
    "duration": 6,
    "start_time": "2025-01-23T13:45:23.832Z"
   },
   {
    "duration": 4,
    "start_time": "2025-01-23T13:45:23.840Z"
   },
   {
    "duration": 9,
    "start_time": "2025-01-23T13:45:23.846Z"
   },
   {
    "duration": 32,
    "start_time": "2025-01-23T13:45:23.857Z"
   },
   {
    "duration": 12,
    "start_time": "2025-01-23T13:45:23.890Z"
   },
   {
    "duration": 14,
    "start_time": "2025-01-23T13:45:23.903Z"
   },
   {
    "duration": 5,
    "start_time": "2025-01-23T13:45:23.918Z"
   },
   {
    "duration": 11,
    "start_time": "2025-01-23T13:51:44.119Z"
   },
   {
    "duration": 3,
    "start_time": "2025-01-23T13:52:56.423Z"
   },
   {
    "duration": 4,
    "start_time": "2025-01-23T13:52:56.427Z"
   },
   {
    "duration": 76,
    "start_time": "2025-01-23T13:52:56.432Z"
   },
   {
    "duration": 11,
    "start_time": "2025-01-23T13:52:56.510Z"
   },
   {
    "duration": 14,
    "start_time": "2025-01-23T13:52:56.522Z"
   },
   {
    "duration": 6,
    "start_time": "2025-01-23T13:52:56.537Z"
   },
   {
    "duration": 7,
    "start_time": "2025-01-23T13:52:56.545Z"
   },
   {
    "duration": 10,
    "start_time": "2025-01-23T13:52:56.554Z"
   },
   {
    "duration": 14,
    "start_time": "2025-01-23T13:52:56.567Z"
   },
   {
    "duration": 9,
    "start_time": "2025-01-23T13:52:56.586Z"
   },
   {
    "duration": 27,
    "start_time": "2025-01-23T13:52:56.596Z"
   },
   {
    "duration": 7,
    "start_time": "2025-01-23T13:52:56.624Z"
   },
   {
    "duration": 8,
    "start_time": "2025-01-23T13:52:56.632Z"
   },
   {
    "duration": 5,
    "start_time": "2025-01-23T13:52:56.641Z"
   },
   {
    "duration": 39,
    "start_time": "2025-01-23T13:52:56.647Z"
   },
   {
    "duration": 6,
    "start_time": "2025-01-23T13:52:56.688Z"
   },
   {
    "duration": 25,
    "start_time": "2025-01-23T13:52:56.695Z"
   },
   {
    "duration": 16,
    "start_time": "2025-01-23T13:52:56.721Z"
   },
   {
    "duration": 7,
    "start_time": "2025-01-23T13:52:56.738Z"
   },
   {
    "duration": 7,
    "start_time": "2025-01-23T13:52:56.746Z"
   },
   {
    "duration": 19,
    "start_time": "2025-01-23T13:54:11.450Z"
   },
   {
    "duration": 9,
    "start_time": "2025-01-23T13:54:49.293Z"
   },
   {
    "duration": 5,
    "start_time": "2025-01-23T13:55:53.326Z"
   },
   {
    "duration": 4,
    "start_time": "2025-01-23T13:56:26.977Z"
   },
   {
    "duration": 16,
    "start_time": "2025-01-23T13:57:14.116Z"
   },
   {
    "duration": 27,
    "start_time": "2025-01-23T13:57:59.421Z"
   },
   {
    "duration": 1274,
    "start_time": "2025-01-23T14:18:02.418Z"
   },
   {
    "duration": 4,
    "start_time": "2025-01-23T14:18:03.693Z"
   },
   {
    "duration": 97,
    "start_time": "2025-01-23T14:18:03.698Z"
   },
   {
    "duration": 11,
    "start_time": "2025-01-23T14:18:03.798Z"
   },
   {
    "duration": 61,
    "start_time": "2025-01-23T14:18:03.811Z"
   },
   {
    "duration": 19,
    "start_time": "2025-01-23T14:18:03.874Z"
   },
   {
    "duration": 16,
    "start_time": "2025-01-23T14:18:03.895Z"
   },
   {
    "duration": 48,
    "start_time": "2025-01-23T14:18:03.912Z"
   },
   {
    "duration": 37,
    "start_time": "2025-01-23T14:18:03.962Z"
   },
   {
    "duration": 33,
    "start_time": "2025-01-23T14:18:04.001Z"
   },
   {
    "duration": 54,
    "start_time": "2025-01-23T14:18:04.037Z"
   },
   {
    "duration": 10,
    "start_time": "2025-01-23T14:18:04.094Z"
   },
   {
    "duration": 21,
    "start_time": "2025-01-23T14:18:04.106Z"
   },
   {
    "duration": 77,
    "start_time": "2025-01-23T14:18:04.128Z"
   },
   {
    "duration": 30,
    "start_time": "2025-01-23T14:18:04.207Z"
   },
   {
    "duration": 10,
    "start_time": "2025-01-23T14:18:04.239Z"
   },
   {
    "duration": 26,
    "start_time": "2025-01-23T14:18:04.250Z"
   },
   {
    "duration": 28,
    "start_time": "2025-01-23T14:18:04.277Z"
   },
   {
    "duration": 16,
    "start_time": "2025-01-23T14:18:04.307Z"
   },
   {
    "duration": 28,
    "start_time": "2025-01-23T14:18:04.325Z"
   },
   {
    "duration": 18,
    "start_time": "2025-01-23T14:18:04.355Z"
   },
   {
    "duration": 33,
    "start_time": "2025-01-23T14:18:04.374Z"
   },
   {
    "duration": 499,
    "start_time": "2025-01-23T15:06:22.929Z"
   },
   {
    "duration": 1189,
    "start_time": "2025-01-23T15:06:29.812Z"
   },
   {
    "duration": 3,
    "start_time": "2025-01-23T15:06:31.003Z"
   },
   {
    "duration": 88,
    "start_time": "2025-01-23T15:06:31.007Z"
   },
   {
    "duration": 11,
    "start_time": "2025-01-23T15:06:31.097Z"
   },
   {
    "duration": 18,
    "start_time": "2025-01-23T15:06:31.109Z"
   },
   {
    "duration": 9,
    "start_time": "2025-01-23T15:06:31.128Z"
   },
   {
    "duration": 46,
    "start_time": "2025-01-23T15:06:31.139Z"
   },
   {
    "duration": 24,
    "start_time": "2025-01-23T15:06:31.186Z"
   },
   {
    "duration": 38,
    "start_time": "2025-01-23T15:06:31.211Z"
   },
   {
    "duration": 36,
    "start_time": "2025-01-23T15:06:31.251Z"
   },
   {
    "duration": 32,
    "start_time": "2025-01-23T15:06:31.289Z"
   },
   {
    "duration": 15,
    "start_time": "2025-01-23T15:06:31.322Z"
   },
   {
    "duration": 18,
    "start_time": "2025-01-23T15:06:31.339Z"
   },
   {
    "duration": 15,
    "start_time": "2025-01-23T15:06:31.359Z"
   },
   {
    "duration": 32,
    "start_time": "2025-01-23T15:06:31.375Z"
   },
   {
    "duration": 9,
    "start_time": "2025-01-23T15:06:31.408Z"
   },
   {
    "duration": 14,
    "start_time": "2025-01-23T15:06:31.419Z"
   },
   {
    "duration": 26,
    "start_time": "2025-01-23T15:06:31.434Z"
   },
   {
    "duration": 7,
    "start_time": "2025-01-23T15:06:31.462Z"
   },
   {
    "duration": 12,
    "start_time": "2025-01-23T15:06:31.470Z"
   },
   {
    "duration": 23,
    "start_time": "2025-01-23T15:06:31.484Z"
   },
   {
    "duration": 60,
    "start_time": "2025-01-23T15:06:31.509Z"
   },
   {
    "duration": 504,
    "start_time": "2025-01-23T15:07:15.080Z"
   },
   {
    "duration": 4,
    "start_time": "2025-01-23T15:07:19.269Z"
   },
   {
    "duration": 11,
    "start_time": "2025-01-23T15:07:19.274Z"
   },
   {
    "duration": 75,
    "start_time": "2025-01-23T15:07:19.286Z"
   },
   {
    "duration": 9,
    "start_time": "2025-01-23T15:07:19.363Z"
   },
   {
    "duration": 9,
    "start_time": "2025-01-23T15:07:19.373Z"
   },
   {
    "duration": 7,
    "start_time": "2025-01-23T15:07:19.383Z"
   },
   {
    "duration": 6,
    "start_time": "2025-01-23T15:07:19.391Z"
   },
   {
    "duration": 4,
    "start_time": "2025-01-23T15:07:19.398Z"
   },
   {
    "duration": 12,
    "start_time": "2025-01-23T15:07:19.404Z"
   },
   {
    "duration": 22,
    "start_time": "2025-01-23T15:07:19.418Z"
   },
   {
    "duration": 43,
    "start_time": "2025-01-23T15:07:19.443Z"
   },
   {
    "duration": 31,
    "start_time": "2025-01-23T15:07:19.488Z"
   },
   {
    "duration": 11,
    "start_time": "2025-01-23T15:07:19.520Z"
   },
   {
    "duration": 4,
    "start_time": "2025-01-23T15:07:19.532Z"
   },
   {
    "duration": 17,
    "start_time": "2025-01-23T15:07:19.537Z"
   },
   {
    "duration": 10,
    "start_time": "2025-01-23T15:07:19.555Z"
   },
   {
    "duration": 7,
    "start_time": "2025-01-23T15:07:19.567Z"
   },
   {
    "duration": 11,
    "start_time": "2025-01-23T15:07:19.586Z"
   },
   {
    "duration": 11,
    "start_time": "2025-01-23T15:07:19.599Z"
   },
   {
    "duration": 5,
    "start_time": "2025-01-23T15:07:19.611Z"
   },
   {
    "duration": 7,
    "start_time": "2025-01-23T15:07:19.617Z"
   },
   {
    "duration": 13,
    "start_time": "2025-01-23T15:07:19.626Z"
   },
   {
    "duration": 492,
    "start_time": "2025-01-23T15:08:43.309Z"
   },
   {
    "duration": 1177,
    "start_time": "2025-01-23T15:08:49.628Z"
   },
   {
    "duration": 3,
    "start_time": "2025-01-23T15:08:50.807Z"
   },
   {
    "duration": 81,
    "start_time": "2025-01-23T15:08:50.812Z"
   },
   {
    "duration": 12,
    "start_time": "2025-01-23T15:08:50.895Z"
   },
   {
    "duration": 13,
    "start_time": "2025-01-23T15:08:50.908Z"
   },
   {
    "duration": 7,
    "start_time": "2025-01-23T15:08:50.923Z"
   },
   {
    "duration": 14,
    "start_time": "2025-01-23T15:08:50.931Z"
   },
   {
    "duration": 5,
    "start_time": "2025-01-23T15:08:50.946Z"
   },
   {
    "duration": 9,
    "start_time": "2025-01-23T15:08:50.952Z"
   },
   {
    "duration": 7,
    "start_time": "2025-01-23T15:08:50.986Z"
   },
   {
    "duration": 33,
    "start_time": "2025-01-23T15:08:50.994Z"
   },
   {
    "duration": 17,
    "start_time": "2025-01-23T15:08:51.029Z"
   },
   {
    "duration": 7,
    "start_time": "2025-01-23T15:08:51.048Z"
   },
   {
    "duration": 4,
    "start_time": "2025-01-23T15:08:51.056Z"
   },
   {
    "duration": 25,
    "start_time": "2025-01-23T15:08:51.062Z"
   },
   {
    "duration": 9,
    "start_time": "2025-01-23T15:08:51.088Z"
   },
   {
    "duration": 7,
    "start_time": "2025-01-23T15:08:51.098Z"
   },
   {
    "duration": 15,
    "start_time": "2025-01-23T15:08:51.106Z"
   },
   {
    "duration": 6,
    "start_time": "2025-01-23T15:08:51.122Z"
   },
   {
    "duration": 6,
    "start_time": "2025-01-23T15:08:51.129Z"
   },
   {
    "duration": 8,
    "start_time": "2025-01-23T15:08:51.136Z"
   },
   {
    "duration": 42,
    "start_time": "2025-01-23T15:08:51.145Z"
   },
   {
    "duration": 1183,
    "start_time": "2025-01-23T15:32:57.108Z"
   },
   {
    "duration": 3,
    "start_time": "2025-01-23T15:32:58.293Z"
   },
   {
    "duration": 83,
    "start_time": "2025-01-23T15:32:58.297Z"
   },
   {
    "duration": 10,
    "start_time": "2025-01-23T15:32:58.382Z"
   },
   {
    "duration": 9,
    "start_time": "2025-01-23T15:32:58.394Z"
   },
   {
    "duration": 6,
    "start_time": "2025-01-23T15:32:58.405Z"
   },
   {
    "duration": 5,
    "start_time": "2025-01-23T15:32:58.412Z"
   },
   {
    "duration": 5,
    "start_time": "2025-01-23T15:32:58.419Z"
   },
   {
    "duration": 11,
    "start_time": "2025-01-23T15:32:58.425Z"
   },
   {
    "duration": 7,
    "start_time": "2025-01-23T15:32:58.438Z"
   },
   {
    "duration": 53,
    "start_time": "2025-01-23T15:32:58.446Z"
   },
   {
    "duration": 22,
    "start_time": "2025-01-23T15:32:58.501Z"
   },
   {
    "duration": 11,
    "start_time": "2025-01-23T15:32:58.525Z"
   },
   {
    "duration": 4,
    "start_time": "2025-01-23T15:32:58.538Z"
   },
   {
    "duration": 19,
    "start_time": "2025-01-23T15:32:58.544Z"
   },
   {
    "duration": 22,
    "start_time": "2025-01-23T15:32:58.564Z"
   },
   {
    "duration": 7,
    "start_time": "2025-01-23T15:32:58.588Z"
   },
   {
    "duration": 11,
    "start_time": "2025-01-23T15:32:58.597Z"
   },
   {
    "duration": 6,
    "start_time": "2025-01-23T15:32:58.609Z"
   },
   {
    "duration": 9,
    "start_time": "2025-01-23T15:32:58.617Z"
   },
   {
    "duration": 4,
    "start_time": "2025-01-23T15:32:58.627Z"
   },
   {
    "duration": 11,
    "start_time": "2025-01-23T15:32:58.633Z"
   },
   {
    "duration": 8,
    "start_time": "2025-01-23T15:48:52.189Z"
   },
   {
    "duration": 14,
    "start_time": "2025-01-23T16:02:36.530Z"
   },
   {
    "duration": 10,
    "start_time": "2025-01-23T16:07:43.425Z"
   },
   {
    "duration": 12,
    "start_time": "2025-01-23T16:07:47.643Z"
   },
   {
    "duration": 51,
    "start_time": "2025-01-24T09:54:04.455Z"
   },
   {
    "duration": 6,
    "start_time": "2025-01-24T09:54:21.255Z"
   },
   {
    "duration": 1500,
    "start_time": "2025-01-24T09:54:25.837Z"
   },
   {
    "duration": 4,
    "start_time": "2025-01-24T09:54:27.339Z"
   },
   {
    "duration": 75,
    "start_time": "2025-01-24T09:54:27.344Z"
   },
   {
    "duration": 12,
    "start_time": "2025-01-24T09:54:27.421Z"
   },
   {
    "duration": 28,
    "start_time": "2025-01-24T09:54:27.435Z"
   },
   {
    "duration": 7,
    "start_time": "2025-01-24T09:54:27.464Z"
   },
   {
    "duration": 6,
    "start_time": "2025-01-24T09:54:27.473Z"
   },
   {
    "duration": 25,
    "start_time": "2025-01-24T09:54:27.481Z"
   },
   {
    "duration": 31,
    "start_time": "2025-01-24T09:54:27.508Z"
   },
   {
    "duration": 13,
    "start_time": "2025-01-24T09:54:27.543Z"
   },
   {
    "duration": 28,
    "start_time": "2025-01-24T09:54:27.557Z"
   },
   {
    "duration": 20,
    "start_time": "2025-01-24T09:54:27.587Z"
   },
   {
    "duration": 8,
    "start_time": "2025-01-24T09:54:27.609Z"
   },
   {
    "duration": 13,
    "start_time": "2025-01-24T09:54:27.618Z"
   },
   {
    "duration": 50,
    "start_time": "2025-01-24T09:54:27.633Z"
   },
   {
    "duration": 17,
    "start_time": "2025-01-24T09:54:27.685Z"
   },
   {
    "duration": 13,
    "start_time": "2025-01-24T09:54:27.703Z"
   },
   {
    "duration": 40,
    "start_time": "2025-01-24T09:54:27.717Z"
   },
   {
    "duration": 17,
    "start_time": "2025-01-24T09:54:27.758Z"
   },
   {
    "duration": 16,
    "start_time": "2025-01-24T09:54:27.777Z"
   },
   {
    "duration": 13,
    "start_time": "2025-01-24T09:54:27.794Z"
   },
   {
    "duration": 44,
    "start_time": "2025-01-24T09:54:27.809Z"
   },
   {
    "duration": 9,
    "start_time": "2025-01-24T09:54:27.855Z"
   },
   {
    "duration": 21,
    "start_time": "2025-01-24T09:54:27.866Z"
   },
   {
    "duration": 38,
    "start_time": "2025-01-24T09:54:27.888Z"
   },
   {
    "duration": 19,
    "start_time": "2025-01-24T09:54:27.927Z"
   },
   {
    "duration": 10,
    "start_time": "2025-01-24T09:54:27.947Z"
   },
   {
    "duration": 6,
    "start_time": "2025-01-24T09:57:11.981Z"
   },
   {
    "duration": 126,
    "start_time": "2025-01-24T10:01:19.265Z"
   },
   {
    "duration": 280,
    "start_time": "2025-01-24T10:04:29.588Z"
   },
   {
    "duration": 11,
    "start_time": "2025-01-24T10:08:16.693Z"
   },
   {
    "duration": 278,
    "start_time": "2025-01-24T10:10:05.891Z"
   },
   {
    "duration": 259,
    "start_time": "2025-01-24T10:13:24.144Z"
   },
   {
    "duration": 261,
    "start_time": "2025-01-24T10:15:17.577Z"
   },
   {
    "duration": 239,
    "start_time": "2025-01-24T10:17:17.643Z"
   },
   {
    "duration": 234,
    "start_time": "2025-01-24T10:17:38.262Z"
   },
   {
    "duration": 235,
    "start_time": "2025-01-24T10:19:58.817Z"
   },
   {
    "duration": 242,
    "start_time": "2025-01-24T10:20:21.453Z"
   },
   {
    "duration": 311,
    "start_time": "2025-01-24T10:25:44.247Z"
   },
   {
    "duration": 1517,
    "start_time": "2025-01-27T10:53:07.167Z"
   },
   {
    "duration": 3,
    "start_time": "2025-01-27T10:53:08.686Z"
   },
   {
    "duration": 82,
    "start_time": "2025-01-27T10:53:08.690Z"
   },
   {
    "duration": 14,
    "start_time": "2025-01-27T10:53:08.774Z"
   },
   {
    "duration": 17,
    "start_time": "2025-01-27T10:53:08.790Z"
   },
   {
    "duration": 9,
    "start_time": "2025-01-27T10:53:08.809Z"
   },
   {
    "duration": 33,
    "start_time": "2025-01-27T10:53:08.820Z"
   },
   {
    "duration": 16,
    "start_time": "2025-01-27T10:53:08.855Z"
   },
   {
    "duration": 42,
    "start_time": "2025-01-27T10:53:08.873Z"
   },
   {
    "duration": 25,
    "start_time": "2025-01-27T10:53:08.919Z"
   },
   {
    "duration": 37,
    "start_time": "2025-01-27T10:53:08.946Z"
   },
   {
    "duration": 17,
    "start_time": "2025-01-27T10:53:08.986Z"
   },
   {
    "duration": 14,
    "start_time": "2025-01-27T10:53:09.005Z"
   },
   {
    "duration": 6,
    "start_time": "2025-01-27T10:53:09.021Z"
   },
   {
    "duration": 38,
    "start_time": "2025-01-27T10:53:09.028Z"
   },
   {
    "duration": 12,
    "start_time": "2025-01-27T10:53:09.068Z"
   },
   {
    "duration": 10,
    "start_time": "2025-01-27T10:53:09.082Z"
   },
   {
    "duration": 14,
    "start_time": "2025-01-27T10:53:09.094Z"
   },
   {
    "duration": 23,
    "start_time": "2025-01-27T10:53:09.110Z"
   },
   {
    "duration": 27,
    "start_time": "2025-01-27T10:53:09.135Z"
   },
   {
    "duration": 13,
    "start_time": "2025-01-27T10:53:09.165Z"
   },
   {
    "duration": 14,
    "start_time": "2025-01-27T10:53:09.180Z"
   },
   {
    "duration": 10,
    "start_time": "2025-01-27T10:53:09.196Z"
   },
   {
    "duration": 25,
    "start_time": "2025-01-27T10:53:09.208Z"
   },
   {
    "duration": 23,
    "start_time": "2025-01-27T10:53:09.235Z"
   },
   {
    "duration": 18,
    "start_time": "2025-01-27T10:53:09.260Z"
   },
   {
    "duration": 29,
    "start_time": "2025-01-27T10:53:09.280Z"
   },
   {
    "duration": 289,
    "start_time": "2025-01-27T10:53:09.314Z"
   },
   {
    "duration": 11,
    "start_time": "2025-01-27T10:53:09.605Z"
   },
   {
    "duration": 407,
    "start_time": "2025-01-27T10:53:09.617Z"
   },
   {
    "duration": 4,
    "start_time": "2025-01-27T10:53:38.129Z"
   },
   {
    "duration": 41,
    "start_time": "2025-01-27T10:53:38.135Z"
   },
   {
    "duration": 78,
    "start_time": "2025-01-27T10:53:38.178Z"
   },
   {
    "duration": 11,
    "start_time": "2025-01-27T10:53:38.258Z"
   },
   {
    "duration": 27,
    "start_time": "2025-01-27T10:53:38.270Z"
   },
   {
    "duration": 15,
    "start_time": "2025-01-27T10:53:38.298Z"
   },
   {
    "duration": 14,
    "start_time": "2025-01-27T10:53:38.315Z"
   },
   {
    "duration": 10,
    "start_time": "2025-01-27T10:53:38.331Z"
   },
   {
    "duration": 24,
    "start_time": "2025-01-27T10:53:38.343Z"
   },
   {
    "duration": 8,
    "start_time": "2025-01-27T10:53:38.370Z"
   },
   {
    "duration": 25,
    "start_time": "2025-01-27T10:53:38.380Z"
   },
   {
    "duration": 12,
    "start_time": "2025-01-27T10:53:38.407Z"
   },
   {
    "duration": 13,
    "start_time": "2025-01-27T10:53:38.421Z"
   },
   {
    "duration": 17,
    "start_time": "2025-01-27T10:53:38.436Z"
   },
   {
    "duration": 32,
    "start_time": "2025-01-27T10:53:38.455Z"
   },
   {
    "duration": 11,
    "start_time": "2025-01-27T10:53:38.489Z"
   },
   {
    "duration": 26,
    "start_time": "2025-01-27T10:53:38.501Z"
   },
   {
    "duration": 50,
    "start_time": "2025-01-27T10:53:38.529Z"
   },
   {
    "duration": 41,
    "start_time": "2025-01-27T10:53:38.581Z"
   },
   {
    "duration": 23,
    "start_time": "2025-01-27T10:53:38.624Z"
   },
   {
    "duration": 18,
    "start_time": "2025-01-27T10:53:38.649Z"
   },
   {
    "duration": 28,
    "start_time": "2025-01-27T10:53:38.668Z"
   },
   {
    "duration": 19,
    "start_time": "2025-01-27T10:53:38.697Z"
   },
   {
    "duration": 22,
    "start_time": "2025-01-27T10:53:38.718Z"
   },
   {
    "duration": 16,
    "start_time": "2025-01-27T10:53:38.742Z"
   },
   {
    "duration": 12,
    "start_time": "2025-01-27T10:53:38.760Z"
   },
   {
    "duration": 18,
    "start_time": "2025-01-27T10:53:38.774Z"
   },
   {
    "duration": 293,
    "start_time": "2025-01-27T10:53:38.796Z"
   },
   {
    "duration": 11,
    "start_time": "2025-01-27T10:53:39.090Z"
   },
   {
    "duration": 273,
    "start_time": "2025-01-27T10:53:39.103Z"
   },
   {
    "duration": 262,
    "start_time": "2025-01-27T11:00:41.082Z"
   },
   {
    "duration": 239,
    "start_time": "2025-01-27T11:02:37.080Z"
   },
   {
    "duration": 192,
    "start_time": "2025-01-27T11:47:04.007Z"
   },
   {
    "duration": 280,
    "start_time": "2025-01-27T11:48:20.876Z"
   },
   {
    "duration": 221,
    "start_time": "2025-01-27T11:48:55.538Z"
   },
   {
    "duration": 250,
    "start_time": "2025-01-27T11:51:34.294Z"
   },
   {
    "duration": 10,
    "start_time": "2025-01-27T11:55:53.815Z"
   },
   {
    "duration": 1254,
    "start_time": "2025-01-27T11:57:27.572Z"
   },
   {
    "duration": 3,
    "start_time": "2025-01-27T11:57:28.830Z"
   },
   {
    "duration": 70,
    "start_time": "2025-01-27T11:57:28.835Z"
   },
   {
    "duration": 12,
    "start_time": "2025-01-27T11:57:28.908Z"
   },
   {
    "duration": 16,
    "start_time": "2025-01-27T11:57:28.922Z"
   },
   {
    "duration": 7,
    "start_time": "2025-01-27T11:57:28.940Z"
   },
   {
    "duration": 7,
    "start_time": "2025-01-27T11:57:28.948Z"
   },
   {
    "duration": 6,
    "start_time": "2025-01-27T11:57:28.957Z"
   },
   {
    "duration": 11,
    "start_time": "2025-01-27T11:57:28.965Z"
   },
   {
    "duration": 8,
    "start_time": "2025-01-27T11:57:28.978Z"
   },
   {
    "duration": 51,
    "start_time": "2025-01-27T11:57:28.988Z"
   },
   {
    "duration": 15,
    "start_time": "2025-01-27T11:57:29.041Z"
   },
   {
    "duration": 9,
    "start_time": "2025-01-27T11:57:29.057Z"
   },
   {
    "duration": 42,
    "start_time": "2025-01-27T11:57:29.067Z"
   },
   {
    "duration": 42,
    "start_time": "2025-01-27T11:57:29.111Z"
   },
   {
    "duration": 37,
    "start_time": "2025-01-27T11:57:29.154Z"
   },
   {
    "duration": 114,
    "start_time": "2025-01-27T11:57:29.193Z"
   },
   {
    "duration": 31,
    "start_time": "2025-01-27T11:57:29.309Z"
   },
   {
    "duration": 14,
    "start_time": "2025-01-27T11:57:29.342Z"
   },
   {
    "duration": 16,
    "start_time": "2025-01-27T11:57:29.357Z"
   },
   {
    "duration": 24,
    "start_time": "2025-01-27T11:57:29.375Z"
   },
   {
    "duration": 27,
    "start_time": "2025-01-27T11:57:29.401Z"
   },
   {
    "duration": 34,
    "start_time": "2025-01-27T11:57:29.429Z"
   },
   {
    "duration": 25,
    "start_time": "2025-01-27T11:57:29.465Z"
   },
   {
    "duration": 21,
    "start_time": "2025-01-27T11:57:29.491Z"
   },
   {
    "duration": 26,
    "start_time": "2025-01-27T11:57:29.514Z"
   },
   {
    "duration": 32,
    "start_time": "2025-01-27T11:57:29.541Z"
   },
   {
    "duration": 310,
    "start_time": "2025-01-27T11:57:29.577Z"
   },
   {
    "duration": 11,
    "start_time": "2025-01-27T11:57:29.889Z"
   },
   {
    "duration": 356,
    "start_time": "2025-01-27T11:57:29.902Z"
   },
   {
    "duration": 241,
    "start_time": "2025-01-27T11:57:30.260Z"
   },
   {
    "duration": 227,
    "start_time": "2025-01-27T12:00:33.209Z"
   },
   {
    "duration": 233,
    "start_time": "2025-01-27T12:02:50.514Z"
   },
   {
    "duration": 222,
    "start_time": "2025-01-27T12:04:10.883Z"
   },
   {
    "duration": 221,
    "start_time": "2025-01-27T12:04:19.046Z"
   },
   {
    "duration": 434,
    "start_time": "2025-01-27T12:28:32.924Z"
   },
   {
    "duration": 289,
    "start_time": "2025-01-27T12:28:48.669Z"
   },
   {
    "duration": 350,
    "start_time": "2025-01-27T12:29:41.919Z"
   },
   {
    "duration": 354,
    "start_time": "2025-01-27T12:43:49.405Z"
   },
   {
    "duration": 369,
    "start_time": "2025-01-27T12:52:04.847Z"
   },
   {
    "duration": 266,
    "start_time": "2025-01-27T12:52:35.678Z"
   },
   {
    "duration": 19,
    "start_time": "2025-01-27T12:53:36.596Z"
   },
   {
    "duration": 251,
    "start_time": "2025-01-27T12:53:40.805Z"
   },
   {
    "duration": 246,
    "start_time": "2025-01-27T12:53:58.468Z"
   },
   {
    "duration": 185,
    "start_time": "2025-01-27T13:05:40.780Z"
   },
   {
    "duration": 213,
    "start_time": "2025-01-27T13:05:59.507Z"
   },
   {
    "duration": 222,
    "start_time": "2025-01-27T13:06:42.395Z"
   },
   {
    "duration": 352,
    "start_time": "2025-01-27T13:07:51.899Z"
   },
   {
    "duration": 221,
    "start_time": "2025-01-27T13:12:44.270Z"
   },
   {
    "duration": 226,
    "start_time": "2025-01-27T13:13:23.663Z"
   },
   {
    "duration": 230,
    "start_time": "2025-01-27T13:13:55.423Z"
   },
   {
    "duration": 25,
    "start_time": "2025-01-27T13:14:16.245Z"
   },
   {
    "duration": 372,
    "start_time": "2025-01-27T13:17:38.701Z"
   },
   {
    "duration": 226,
    "start_time": "2025-01-27T13:41:48.469Z"
   },
   {
    "duration": 225,
    "start_time": "2025-01-27T13:42:18.875Z"
   },
   {
    "duration": 329,
    "start_time": "2025-01-27T13:54:33.236Z"
   },
   {
    "duration": 288,
    "start_time": "2025-01-27T13:55:25.863Z"
   },
   {
    "duration": 261,
    "start_time": "2025-01-27T13:55:31.478Z"
   },
   {
    "duration": 15,
    "start_time": "2025-01-27T13:56:23.407Z"
   },
   {
    "duration": 340,
    "start_time": "2025-01-27T14:00:22.551Z"
   },
   {
    "duration": 72,
    "start_time": "2025-01-27T14:11:19.776Z"
   },
   {
    "duration": 466,
    "start_time": "2025-01-27T14:11:25.950Z"
   },
   {
    "duration": 405,
    "start_time": "2025-01-27T14:11:35.744Z"
   },
   {
    "duration": 10,
    "start_time": "2025-01-27T14:18:47.883Z"
   },
   {
    "duration": 16,
    "start_time": "2025-01-27T14:19:21.808Z"
   },
   {
    "duration": 11,
    "start_time": "2025-01-27T14:20:09.902Z"
   },
   {
    "duration": 171,
    "start_time": "2025-01-27T14:24:15.269Z"
   },
   {
    "duration": 165,
    "start_time": "2025-01-27T14:24:31.618Z"
   },
   {
    "duration": 6,
    "start_time": "2025-01-27T14:38:56.167Z"
   },
   {
    "duration": 12,
    "start_time": "2025-01-27T14:55:16.901Z"
   },
   {
    "duration": 16,
    "start_time": "2025-01-27T14:56:35.402Z"
   },
   {
    "duration": 1350,
    "start_time": "2025-01-27T14:57:03.586Z"
   },
   {
    "duration": 4,
    "start_time": "2025-01-27T14:57:04.939Z"
   },
   {
    "duration": 83,
    "start_time": "2025-01-27T14:57:04.944Z"
   },
   {
    "duration": 12,
    "start_time": "2025-01-27T14:57:05.030Z"
   },
   {
    "duration": 15,
    "start_time": "2025-01-27T14:57:05.043Z"
   },
   {
    "duration": 111,
    "start_time": "2025-01-27T14:57:05.060Z"
   },
   {
    "duration": 29,
    "start_time": "2025-01-27T14:57:05.173Z"
   },
   {
    "duration": 21,
    "start_time": "2025-01-27T14:57:05.204Z"
   },
   {
    "duration": 26,
    "start_time": "2025-01-27T14:57:05.227Z"
   },
   {
    "duration": 15,
    "start_time": "2025-01-27T14:57:05.257Z"
   },
   {
    "duration": 49,
    "start_time": "2025-01-27T14:57:05.274Z"
   },
   {
    "duration": 25,
    "start_time": "2025-01-27T14:57:05.326Z"
   },
   {
    "duration": 16,
    "start_time": "2025-01-27T14:57:05.352Z"
   },
   {
    "duration": 5,
    "start_time": "2025-01-27T14:57:05.370Z"
   },
   {
    "duration": 55,
    "start_time": "2025-01-27T14:57:05.377Z"
   },
   {
    "duration": 15,
    "start_time": "2025-01-27T14:57:05.434Z"
   },
   {
    "duration": 14,
    "start_time": "2025-01-27T14:57:05.451Z"
   },
   {
    "duration": 41,
    "start_time": "2025-01-27T14:57:05.467Z"
   },
   {
    "duration": 32,
    "start_time": "2025-01-27T14:57:05.510Z"
   },
   {
    "duration": 10,
    "start_time": "2025-01-27T14:57:05.543Z"
   },
   {
    "duration": 5,
    "start_time": "2025-01-27T14:57:05.555Z"
   },
   {
    "duration": 28,
    "start_time": "2025-01-27T14:57:05.561Z"
   },
   {
    "duration": 40,
    "start_time": "2025-01-27T14:57:05.591Z"
   },
   {
    "duration": 39,
    "start_time": "2025-01-27T14:57:05.632Z"
   },
   {
    "duration": 33,
    "start_time": "2025-01-27T14:57:05.673Z"
   },
   {
    "duration": 29,
    "start_time": "2025-01-27T14:57:05.708Z"
   },
   {
    "duration": 14,
    "start_time": "2025-01-27T14:57:05.740Z"
   },
   {
    "duration": 342,
    "start_time": "2025-01-27T14:57:05.759Z"
   },
   {
    "duration": 12,
    "start_time": "2025-01-27T14:57:06.104Z"
   },
   {
    "duration": 405,
    "start_time": "2025-01-27T14:57:06.129Z"
   },
   {
    "duration": 241,
    "start_time": "2025-01-27T14:57:06.536Z"
   },
   {
    "duration": 372,
    "start_time": "2025-01-27T14:57:06.780Z"
   },
   {
    "duration": 29,
    "start_time": "2025-01-27T14:57:07.154Z"
   },
   {
    "duration": 282,
    "start_time": "2025-01-27T14:57:07.185Z"
   },
   {
    "duration": 16,
    "start_time": "2025-01-27T14:57:07.469Z"
   },
   {
    "duration": 415,
    "start_time": "2025-01-27T14:57:07.487Z"
   },
   {
    "duration": 11,
    "start_time": "2025-01-27T14:57:07.904Z"
   },
   {
    "duration": 233,
    "start_time": "2025-01-27T14:57:07.918Z"
   },
   {
    "duration": 5,
    "start_time": "2025-01-27T14:57:08.153Z"
   },
   {
    "duration": 136,
    "start_time": "2025-01-27T14:57:08.160Z"
   },
   {
    "duration": 13,
    "start_time": "2025-01-27T14:59:10.550Z"
   },
   {
    "duration": 12,
    "start_time": "2025-01-27T15:07:20.367Z"
   },
   {
    "duration": 264,
    "start_time": "2025-01-27T15:09:48.629Z"
   },
   {
    "duration": 5,
    "start_time": "2025-01-27T15:15:24.873Z"
   },
   {
    "duration": 8,
    "start_time": "2025-01-27T15:24:52.918Z"
   },
   {
    "duration": 180,
    "start_time": "2025-01-27T15:25:46.634Z"
   },
   {
    "duration": 11,
    "start_time": "2025-01-27T15:26:03.746Z"
   },
   {
    "duration": 1273,
    "start_time": "2025-01-27T15:26:38.683Z"
   },
   {
    "duration": 3,
    "start_time": "2025-01-27T15:26:39.958Z"
   },
   {
    "duration": 86,
    "start_time": "2025-01-27T15:26:39.963Z"
   },
   {
    "duration": 12,
    "start_time": "2025-01-27T15:26:40.051Z"
   },
   {
    "duration": 20,
    "start_time": "2025-01-27T15:26:40.065Z"
   },
   {
    "duration": 9,
    "start_time": "2025-01-27T15:26:40.087Z"
   },
   {
    "duration": 23,
    "start_time": "2025-01-27T15:26:40.098Z"
   },
   {
    "duration": 8,
    "start_time": "2025-01-27T15:26:40.123Z"
   },
   {
    "duration": 20,
    "start_time": "2025-01-27T15:26:40.133Z"
   },
   {
    "duration": 55,
    "start_time": "2025-01-27T15:26:40.157Z"
   },
   {
    "duration": 23,
    "start_time": "2025-01-27T15:26:40.214Z"
   },
   {
    "duration": 19,
    "start_time": "2025-01-27T15:26:40.239Z"
   },
   {
    "duration": 10,
    "start_time": "2025-01-27T15:26:40.260Z"
   },
   {
    "duration": 5,
    "start_time": "2025-01-27T15:26:40.272Z"
   },
   {
    "duration": 19,
    "start_time": "2025-01-27T15:26:40.278Z"
   },
   {
    "duration": 9,
    "start_time": "2025-01-27T15:26:40.299Z"
   },
   {
    "duration": 21,
    "start_time": "2025-01-27T15:26:40.310Z"
   },
   {
    "duration": 14,
    "start_time": "2025-01-27T15:26:40.333Z"
   },
   {
    "duration": 10,
    "start_time": "2025-01-27T15:26:40.348Z"
   },
   {
    "duration": 7,
    "start_time": "2025-01-27T15:26:40.359Z"
   },
   {
    "duration": 5,
    "start_time": "2025-01-27T15:26:40.368Z"
   },
   {
    "duration": 16,
    "start_time": "2025-01-27T15:26:40.374Z"
   },
   {
    "duration": 40,
    "start_time": "2025-01-27T15:26:40.392Z"
   },
   {
    "duration": 11,
    "start_time": "2025-01-27T15:26:40.434Z"
   },
   {
    "duration": 20,
    "start_time": "2025-01-27T15:26:40.447Z"
   },
   {
    "duration": 27,
    "start_time": "2025-01-27T15:26:40.469Z"
   },
   {
    "duration": 17,
    "start_time": "2025-01-27T15:26:40.497Z"
   },
   {
    "duration": 305,
    "start_time": "2025-01-27T15:26:40.518Z"
   },
   {
    "duration": 10,
    "start_time": "2025-01-27T15:26:40.829Z"
   },
   {
    "duration": 345,
    "start_time": "2025-01-27T15:26:40.841Z"
   },
   {
    "duration": 226,
    "start_time": "2025-01-27T15:26:41.188Z"
   },
   {
    "duration": 350,
    "start_time": "2025-01-27T15:26:41.415Z"
   },
   {
    "duration": 24,
    "start_time": "2025-01-27T15:26:41.767Z"
   },
   {
    "duration": 282,
    "start_time": "2025-01-27T15:26:41.793Z"
   },
   {
    "duration": 15,
    "start_time": "2025-01-27T15:26:42.077Z"
   },
   {
    "duration": 409,
    "start_time": "2025-01-27T15:26:42.094Z"
   },
   {
    "duration": 12,
    "start_time": "2025-01-27T15:26:42.504Z"
   },
   {
    "duration": 188,
    "start_time": "2025-01-27T15:26:42.517Z"
   },
   {
    "duration": 5,
    "start_time": "2025-01-27T15:26:42.707Z"
   },
   {
    "duration": 22,
    "start_time": "2025-01-27T15:26:42.713Z"
   },
   {
    "duration": 278,
    "start_time": "2025-01-27T15:26:42.737Z"
   },
   {
    "duration": 107,
    "start_time": "2025-01-27T15:26:43.017Z"
   },
   {
    "duration": 5,
    "start_time": "2025-01-27T15:26:56.854Z"
   },
   {
    "duration": 1419,
    "start_time": "2025-01-27T15:27:10.407Z"
   },
   {
    "duration": 4,
    "start_time": "2025-01-27T15:27:11.829Z"
   },
   {
    "duration": 72,
    "start_time": "2025-01-27T15:27:11.834Z"
   },
   {
    "duration": 12,
    "start_time": "2025-01-27T15:27:11.908Z"
   },
   {
    "duration": 11,
    "start_time": "2025-01-27T15:27:11.921Z"
   },
   {
    "duration": 16,
    "start_time": "2025-01-27T15:27:11.933Z"
   },
   {
    "duration": 6,
    "start_time": "2025-01-27T15:27:11.951Z"
   },
   {
    "duration": 8,
    "start_time": "2025-01-27T15:27:11.958Z"
   },
   {
    "duration": 38,
    "start_time": "2025-01-27T15:27:11.968Z"
   },
   {
    "duration": 8,
    "start_time": "2025-01-27T15:27:12.009Z"
   },
   {
    "duration": 28,
    "start_time": "2025-01-27T15:27:12.020Z"
   },
   {
    "duration": 11,
    "start_time": "2025-01-27T15:27:12.050Z"
   },
   {
    "duration": 12,
    "start_time": "2025-01-27T15:27:12.063Z"
   },
   {
    "duration": 7,
    "start_time": "2025-01-27T15:27:12.078Z"
   },
   {
    "duration": 53,
    "start_time": "2025-01-27T15:27:12.088Z"
   },
   {
    "duration": 11,
    "start_time": "2025-01-27T15:27:12.144Z"
   },
   {
    "duration": 10,
    "start_time": "2025-01-27T15:27:12.157Z"
   },
   {
    "duration": 76,
    "start_time": "2025-01-27T15:27:12.169Z"
   },
   {
    "duration": 8,
    "start_time": "2025-01-27T15:27:12.247Z"
   },
   {
    "duration": 8,
    "start_time": "2025-01-27T15:27:12.257Z"
   },
   {
    "duration": 7,
    "start_time": "2025-01-27T15:27:12.267Z"
   },
   {
    "duration": 26,
    "start_time": "2025-01-27T15:27:12.275Z"
   },
   {
    "duration": 27,
    "start_time": "2025-01-27T15:27:12.303Z"
   },
   {
    "duration": 24,
    "start_time": "2025-01-27T15:27:12.332Z"
   },
   {
    "duration": 15,
    "start_time": "2025-01-27T15:27:12.357Z"
   },
   {
    "duration": 22,
    "start_time": "2025-01-27T15:27:12.373Z"
   },
   {
    "duration": 44,
    "start_time": "2025-01-27T15:27:12.397Z"
   },
   {
    "duration": 317,
    "start_time": "2025-01-27T15:27:12.445Z"
   },
   {
    "duration": 16,
    "start_time": "2025-01-27T15:27:12.764Z"
   },
   {
    "duration": 371,
    "start_time": "2025-01-27T15:27:12.783Z"
   },
   {
    "duration": 243,
    "start_time": "2025-01-27T15:27:13.155Z"
   },
   {
    "duration": 395,
    "start_time": "2025-01-27T15:27:13.401Z"
   },
   {
    "duration": 33,
    "start_time": "2025-01-27T15:27:13.798Z"
   },
   {
    "duration": 261,
    "start_time": "2025-01-27T15:27:13.833Z"
   },
   {
    "duration": 21,
    "start_time": "2025-01-27T15:27:14.096Z"
   },
   {
    "duration": 416,
    "start_time": "2025-01-27T15:27:14.131Z"
   },
   {
    "duration": 11,
    "start_time": "2025-01-27T15:27:14.549Z"
   },
   {
    "duration": 184,
    "start_time": "2025-01-27T15:27:14.562Z"
   },
   {
    "duration": 6,
    "start_time": "2025-01-27T15:27:14.747Z"
   },
   {
    "duration": 9,
    "start_time": "2025-01-27T15:27:14.755Z"
   },
   {
    "duration": 285,
    "start_time": "2025-01-27T15:27:14.766Z"
   },
   {
    "duration": 5,
    "start_time": "2025-01-27T15:27:15.054Z"
   },
   {
    "duration": 1346,
    "start_time": "2025-01-28T11:02:28.976Z"
   },
   {
    "duration": 4,
    "start_time": "2025-01-28T11:02:30.324Z"
   },
   {
    "duration": 227,
    "start_time": "2025-01-28T11:02:30.329Z"
   },
   {
    "duration": 14,
    "start_time": "2025-01-28T11:02:30.558Z"
   },
   {
    "duration": 24,
    "start_time": "2025-01-28T11:02:30.574Z"
   },
   {
    "duration": 7,
    "start_time": "2025-01-28T11:02:30.600Z"
   },
   {
    "duration": 9,
    "start_time": "2025-01-28T11:02:30.608Z"
   },
   {
    "duration": 5,
    "start_time": "2025-01-28T11:02:30.618Z"
   },
   {
    "duration": 11,
    "start_time": "2025-01-28T11:02:30.624Z"
   },
   {
    "duration": 7,
    "start_time": "2025-01-28T11:02:30.638Z"
   },
   {
    "duration": 20,
    "start_time": "2025-01-28T11:02:30.646Z"
   },
   {
    "duration": 6,
    "start_time": "2025-01-28T11:02:30.668Z"
   },
   {
    "duration": 16,
    "start_time": "2025-01-28T11:02:30.676Z"
   },
   {
    "duration": 5,
    "start_time": "2025-01-28T11:02:30.713Z"
   },
   {
    "duration": 22,
    "start_time": "2025-01-28T11:02:30.720Z"
   },
   {
    "duration": 9,
    "start_time": "2025-01-28T11:02:30.744Z"
   },
   {
    "duration": 17,
    "start_time": "2025-01-28T11:02:30.754Z"
   },
   {
    "duration": 21,
    "start_time": "2025-01-28T11:02:30.773Z"
   },
   {
    "duration": 19,
    "start_time": "2025-01-28T11:02:30.796Z"
   },
   {
    "duration": 7,
    "start_time": "2025-01-28T11:02:30.816Z"
   },
   {
    "duration": 11,
    "start_time": "2025-01-28T11:02:30.824Z"
   },
   {
    "duration": 13,
    "start_time": "2025-01-28T11:02:30.837Z"
   },
   {
    "duration": 7,
    "start_time": "2025-01-28T11:02:30.852Z"
   },
   {
    "duration": 22,
    "start_time": "2025-01-28T11:02:30.860Z"
   },
   {
    "duration": 41,
    "start_time": "2025-01-28T11:02:30.883Z"
   },
   {
    "duration": 23,
    "start_time": "2025-01-28T11:02:30.926Z"
   },
   {
    "duration": 7,
    "start_time": "2025-01-28T11:02:30.951Z"
   },
   {
    "duration": 269,
    "start_time": "2025-01-28T11:02:30.961Z"
   },
   {
    "duration": 9,
    "start_time": "2025-01-28T11:02:31.232Z"
   },
   {
    "duration": 324,
    "start_time": "2025-01-28T11:02:31.242Z"
   },
   {
    "duration": 217,
    "start_time": "2025-01-28T11:02:31.568Z"
   },
   {
    "duration": 396,
    "start_time": "2025-01-28T11:02:31.786Z"
   },
   {
    "duration": 32,
    "start_time": "2025-01-28T11:02:32.184Z"
   },
   {
    "duration": 239,
    "start_time": "2025-01-28T11:02:32.218Z"
   },
   {
    "duration": 13,
    "start_time": "2025-01-28T11:02:32.459Z"
   },
   {
    "duration": 383,
    "start_time": "2025-01-28T11:02:32.473Z"
   },
   {
    "duration": 11,
    "start_time": "2025-01-28T11:02:32.857Z"
   },
   {
    "duration": 166,
    "start_time": "2025-01-28T11:02:32.869Z"
   },
   {
    "duration": 4,
    "start_time": "2025-01-28T11:02:33.037Z"
   },
   {
    "duration": 16,
    "start_time": "2025-01-28T11:02:33.043Z"
   },
   {
    "duration": 256,
    "start_time": "2025-01-28T11:02:33.060Z"
   },
   {
    "duration": 4,
    "start_time": "2025-01-28T11:02:33.318Z"
   },
   {
    "duration": 248,
    "start_time": "2025-01-28T11:21:10.513Z"
   },
   {
    "duration": 238,
    "start_time": "2025-01-28T12:06:38.612Z"
   },
   {
    "duration": 6,
    "start_time": "2025-01-28T12:07:11.029Z"
   },
   {
    "duration": 5,
    "start_time": "2025-01-28T12:07:11.038Z"
   },
   {
    "duration": 82,
    "start_time": "2025-01-28T12:07:11.045Z"
   },
   {
    "duration": 10,
    "start_time": "2025-01-28T12:07:11.129Z"
   },
   {
    "duration": 8,
    "start_time": "2025-01-28T12:07:11.141Z"
   },
   {
    "duration": 12,
    "start_time": "2025-01-28T12:07:11.151Z"
   },
   {
    "duration": 6,
    "start_time": "2025-01-28T12:07:11.165Z"
   },
   {
    "duration": 6,
    "start_time": "2025-01-28T12:07:11.173Z"
   },
   {
    "duration": 34,
    "start_time": "2025-01-28T12:07:11.181Z"
   },
   {
    "duration": 10,
    "start_time": "2025-01-28T12:07:11.217Z"
   },
   {
    "duration": 28,
    "start_time": "2025-01-28T12:07:11.229Z"
   },
   {
    "duration": 8,
    "start_time": "2025-01-28T12:07:11.260Z"
   },
   {
    "duration": 7,
    "start_time": "2025-01-28T12:07:11.269Z"
   },
   {
    "duration": 40,
    "start_time": "2025-01-28T12:07:11.278Z"
   },
   {
    "duration": 25,
    "start_time": "2025-01-28T12:07:11.320Z"
   },
   {
    "duration": 11,
    "start_time": "2025-01-28T12:07:11.347Z"
   },
   {
    "duration": 8,
    "start_time": "2025-01-28T12:07:11.359Z"
   },
   {
    "duration": 48,
    "start_time": "2025-01-28T12:07:11.368Z"
   },
   {
    "duration": 7,
    "start_time": "2025-01-28T12:07:11.418Z"
   },
   {
    "duration": 7,
    "start_time": "2025-01-28T12:07:11.427Z"
   },
   {
    "duration": 6,
    "start_time": "2025-01-28T12:07:11.436Z"
   },
   {
    "duration": 18,
    "start_time": "2025-01-28T12:07:11.443Z"
   },
   {
    "duration": 8,
    "start_time": "2025-01-28T12:07:11.462Z"
   },
   {
    "duration": 49,
    "start_time": "2025-01-28T12:07:11.472Z"
   },
   {
    "duration": 12,
    "start_time": "2025-01-28T12:07:11.522Z"
   },
   {
    "duration": 88,
    "start_time": "2025-01-28T12:07:11.536Z"
   },
   {
    "duration": 8,
    "start_time": "2025-01-28T12:07:11.626Z"
   },
   {
    "duration": 297,
    "start_time": "2025-01-28T12:07:11.636Z"
   },
   {
    "duration": 10,
    "start_time": "2025-01-28T12:07:11.934Z"
   },
   {
    "duration": 269,
    "start_time": "2025-01-28T12:07:11.948Z"
   },
   {
    "duration": 253,
    "start_time": "2025-01-28T12:07:12.219Z"
   },
   {
    "duration": 386,
    "start_time": "2025-01-28T12:07:12.473Z"
   },
   {
    "duration": 27,
    "start_time": "2025-01-28T12:07:12.860Z"
   },
   {
    "duration": 309,
    "start_time": "2025-01-28T12:07:12.889Z"
   },
   {
    "duration": 26,
    "start_time": "2025-01-28T12:07:13.200Z"
   },
   {
    "duration": 399,
    "start_time": "2025-01-28T12:07:13.228Z"
   },
   {
    "duration": 12,
    "start_time": "2025-01-28T12:07:13.629Z"
   },
   {
    "duration": 184,
    "start_time": "2025-01-28T12:07:13.643Z"
   },
   {
    "duration": 4,
    "start_time": "2025-01-28T12:07:13.829Z"
   },
   {
    "duration": 9,
    "start_time": "2025-01-28T12:07:13.834Z"
   },
   {
    "duration": 200,
    "start_time": "2025-01-28T12:07:13.845Z"
   },
   {
    "duration": 5,
    "start_time": "2025-01-28T12:07:14.047Z"
   },
   {
    "duration": 244,
    "start_time": "2025-01-28T12:07:14.054Z"
   },
   {
    "duration": 157,
    "start_time": "2025-01-28T12:11:27.194Z"
   },
   {
    "duration": 215,
    "start_time": "2025-01-28T12:12:10.550Z"
   },
   {
    "duration": 158,
    "start_time": "2025-01-28T12:12:33.466Z"
   },
   {
    "duration": 238,
    "start_time": "2025-01-28T12:21:00.393Z"
   },
   {
    "duration": 160,
    "start_time": "2025-01-28T12:21:51.485Z"
   },
   {
    "duration": 158,
    "start_time": "2025-01-28T12:22:46.791Z"
   },
   {
    "duration": 163,
    "start_time": "2025-01-28T12:23:11.731Z"
   },
   {
    "duration": 186,
    "start_time": "2025-01-28T12:23:17.521Z"
   },
   {
    "duration": 11,
    "start_time": "2025-01-28T12:40:52.570Z"
   },
   {
    "duration": 1278,
    "start_time": "2025-01-28T13:20:46.097Z"
   },
   {
    "duration": 9,
    "start_time": "2025-01-28T13:21:40.659Z"
   },
   {
    "duration": 9,
    "start_time": "2025-01-28T13:22:14.371Z"
   },
   {
    "duration": 10,
    "start_time": "2025-01-28T13:24:36.094Z"
   },
   {
    "duration": 31,
    "start_time": "2025-01-28T13:26:05.143Z"
   },
   {
    "duration": 32,
    "start_time": "2025-01-28T13:26:46.960Z"
   },
   {
    "duration": 11,
    "start_time": "2025-01-28T13:31:54.169Z"
   },
   {
    "duration": 14,
    "start_time": "2025-01-28T13:32:08.682Z"
   },
   {
    "duration": 1215,
    "start_time": "2025-01-28T14:11:42.924Z"
   },
   {
    "duration": 4,
    "start_time": "2025-01-28T14:11:44.140Z"
   },
   {
    "duration": 73,
    "start_time": "2025-01-28T14:11:44.145Z"
   },
   {
    "duration": 12,
    "start_time": "2025-01-28T14:11:44.220Z"
   },
   {
    "duration": 11,
    "start_time": "2025-01-28T14:11:44.234Z"
   },
   {
    "duration": 7,
    "start_time": "2025-01-28T14:11:44.247Z"
   },
   {
    "duration": 6,
    "start_time": "2025-01-28T14:11:44.256Z"
   },
   {
    "duration": 5,
    "start_time": "2025-01-28T14:11:44.264Z"
   },
   {
    "duration": 48,
    "start_time": "2025-01-28T14:11:44.271Z"
   },
   {
    "duration": 8,
    "start_time": "2025-01-28T14:11:44.322Z"
   },
   {
    "duration": 25,
    "start_time": "2025-01-28T14:11:44.331Z"
   },
   {
    "duration": 6,
    "start_time": "2025-01-28T14:11:44.358Z"
   },
   {
    "duration": 6,
    "start_time": "2025-01-28T14:11:44.365Z"
   },
   {
    "duration": 5,
    "start_time": "2025-01-28T14:11:44.373Z"
   },
   {
    "duration": 49,
    "start_time": "2025-01-28T14:11:44.379Z"
   },
   {
    "duration": 9,
    "start_time": "2025-01-28T14:11:44.430Z"
   },
   {
    "duration": 7,
    "start_time": "2025-01-28T14:11:44.440Z"
   },
   {
    "duration": 10,
    "start_time": "2025-01-28T14:11:44.448Z"
   },
   {
    "duration": 13,
    "start_time": "2025-01-28T14:11:44.460Z"
   },
   {
    "duration": 6,
    "start_time": "2025-01-28T14:11:44.475Z"
   },
   {
    "duration": 4,
    "start_time": "2025-01-28T14:11:44.514Z"
   },
   {
    "duration": 13,
    "start_time": "2025-01-28T14:11:44.520Z"
   },
   {
    "duration": 33,
    "start_time": "2025-01-28T14:11:44.534Z"
   },
   {
    "duration": 10,
    "start_time": "2025-01-28T14:11:44.569Z"
   },
   {
    "duration": 12,
    "start_time": "2025-01-28T14:11:44.581Z"
   },
   {
    "duration": 20,
    "start_time": "2025-01-28T14:11:44.594Z"
   },
   {
    "duration": 8,
    "start_time": "2025-01-28T14:11:44.615Z"
   },
   {
    "duration": 300,
    "start_time": "2025-01-28T14:11:44.626Z"
   },
   {
    "duration": 11,
    "start_time": "2025-01-28T14:11:44.927Z"
   },
   {
    "duration": 365,
    "start_time": "2025-01-28T14:11:44.940Z"
   },
   {
    "duration": 234,
    "start_time": "2025-01-28T14:11:45.307Z"
   },
   {
    "duration": 316,
    "start_time": "2025-01-28T14:11:45.543Z"
   },
   {
    "duration": 25,
    "start_time": "2025-01-28T14:11:45.861Z"
   },
   {
    "duration": 274,
    "start_time": "2025-01-28T14:11:45.888Z"
   },
   {
    "duration": 15,
    "start_time": "2025-01-28T14:11:46.164Z"
   },
   {
    "duration": 432,
    "start_time": "2025-01-28T14:11:46.181Z"
   },
   {
    "duration": 12,
    "start_time": "2025-01-28T14:11:46.615Z"
   },
   {
    "duration": 174,
    "start_time": "2025-01-28T14:11:46.629Z"
   },
   {
    "duration": 4,
    "start_time": "2025-01-28T14:11:46.813Z"
   },
   {
    "duration": 8,
    "start_time": "2025-01-28T14:11:46.819Z"
   },
   {
    "duration": 250,
    "start_time": "2025-01-28T14:11:46.829Z"
   },
   {
    "duration": 6,
    "start_time": "2025-01-28T14:11:47.081Z"
   },
   {
    "duration": 226,
    "start_time": "2025-01-28T14:11:47.088Z"
   },
   {
    "duration": 174,
    "start_time": "2025-01-28T14:11:47.316Z"
   },
   {
    "duration": 24,
    "start_time": "2025-01-28T14:11:47.491Z"
   },
   {
    "duration": 8,
    "start_time": "2025-01-28T14:11:47.517Z"
   },
   {
    "duration": 29,
    "start_time": "2025-01-28T14:11:47.526Z"
   },
   {
    "duration": 13,
    "start_time": "2025-01-28T14:11:47.556Z"
   },
   {
    "duration": 1274,
    "start_time": "2025-01-28T14:12:56.068Z"
   },
   {
    "duration": 4,
    "start_time": "2025-01-28T14:12:57.344Z"
   },
   {
    "duration": 83,
    "start_time": "2025-01-28T14:12:57.349Z"
   },
   {
    "duration": 11,
    "start_time": "2025-01-28T14:12:57.434Z"
   },
   {
    "duration": 10,
    "start_time": "2025-01-28T14:12:57.446Z"
   },
   {
    "duration": 7,
    "start_time": "2025-01-28T14:12:57.458Z"
   },
   {
    "duration": 5,
    "start_time": "2025-01-28T14:12:57.466Z"
   },
   {
    "duration": 4,
    "start_time": "2025-01-28T14:12:57.473Z"
   },
   {
    "duration": 9,
    "start_time": "2025-01-28T14:12:57.478Z"
   },
   {
    "duration": 8,
    "start_time": "2025-01-28T14:12:57.513Z"
   },
   {
    "duration": 19,
    "start_time": "2025-01-28T14:12:57.523Z"
   },
   {
    "duration": 6,
    "start_time": "2025-01-28T14:12:57.543Z"
   },
   {
    "duration": 7,
    "start_time": "2025-01-28T14:12:57.551Z"
   },
   {
    "duration": 4,
    "start_time": "2025-01-28T14:12:57.560Z"
   },
   {
    "duration": 50,
    "start_time": "2025-01-28T14:12:57.565Z"
   },
   {
    "duration": 10,
    "start_time": "2025-01-28T14:12:57.616Z"
   },
   {
    "duration": 9,
    "start_time": "2025-01-28T14:12:57.628Z"
   },
   {
    "duration": 15,
    "start_time": "2025-01-28T14:12:57.638Z"
   },
   {
    "duration": 6,
    "start_time": "2025-01-28T14:12:57.655Z"
   },
   {
    "duration": 8,
    "start_time": "2025-01-28T14:12:57.662Z"
   },
   {
    "duration": 7,
    "start_time": "2025-01-28T14:12:57.671Z"
   },
   {
    "duration": 42,
    "start_time": "2025-01-28T14:12:57.680Z"
   },
   {
    "duration": 7,
    "start_time": "2025-01-28T14:12:57.724Z"
   },
   {
    "duration": 12,
    "start_time": "2025-01-28T14:12:57.732Z"
   },
   {
    "duration": 15,
    "start_time": "2025-01-28T14:12:57.746Z"
   },
   {
    "duration": 14,
    "start_time": "2025-01-28T14:12:57.763Z"
   },
   {
    "duration": 8,
    "start_time": "2025-01-28T14:12:57.778Z"
   },
   {
    "duration": 283,
    "start_time": "2025-01-28T14:12:57.815Z"
   },
   {
    "duration": 17,
    "start_time": "2025-01-28T14:12:58.099Z"
   },
   {
    "duration": 331,
    "start_time": "2025-01-28T14:12:58.117Z"
   },
   {
    "duration": 230,
    "start_time": "2025-01-28T14:12:58.450Z"
   },
   {
    "duration": 352,
    "start_time": "2025-01-28T14:12:58.682Z"
   },
   {
    "duration": 24,
    "start_time": "2025-01-28T14:12:59.035Z"
   },
   {
    "duration": 253,
    "start_time": "2025-01-28T14:12:59.060Z"
   },
   {
    "duration": 14,
    "start_time": "2025-01-28T14:12:59.315Z"
   },
   {
    "duration": 396,
    "start_time": "2025-01-28T14:12:59.330Z"
   },
   {
    "duration": 11,
    "start_time": "2025-01-28T14:12:59.728Z"
   },
   {
    "duration": 183,
    "start_time": "2025-01-28T14:12:59.741Z"
   },
   {
    "duration": 6,
    "start_time": "2025-01-28T14:12:59.926Z"
   },
   {
    "duration": 23,
    "start_time": "2025-01-28T14:12:59.934Z"
   },
   {
    "duration": 265,
    "start_time": "2025-01-28T14:12:59.959Z"
   },
   {
    "duration": 6,
    "start_time": "2025-01-28T14:13:00.226Z"
   },
   {
    "duration": 234,
    "start_time": "2025-01-28T14:13:00.234Z"
   },
   {
    "duration": 175,
    "start_time": "2025-01-28T14:13:00.471Z"
   },
   {
    "duration": 12,
    "start_time": "2025-01-28T14:13:00.648Z"
   },
   {
    "duration": 10,
    "start_time": "2025-01-28T14:13:00.661Z"
   },
   {
    "duration": 51,
    "start_time": "2025-01-28T14:13:00.673Z"
   },
   {
    "duration": 15,
    "start_time": "2025-01-28T14:13:00.726Z"
   },
   {
    "duration": 1539,
    "start_time": "2025-01-31T12:11:53.580Z"
   },
   {
    "duration": 4,
    "start_time": "2025-01-31T12:11:55.121Z"
   },
   {
    "duration": 84,
    "start_time": "2025-01-31T12:11:55.126Z"
   },
   {
    "duration": 14,
    "start_time": "2025-01-31T12:11:55.212Z"
   },
   {
    "duration": 22,
    "start_time": "2025-01-31T12:11:55.228Z"
   },
   {
    "duration": 25,
    "start_time": "2025-01-31T12:11:55.252Z"
   },
   {
    "duration": 5,
    "start_time": "2025-01-31T12:11:55.279Z"
   },
   {
    "duration": 4,
    "start_time": "2025-01-31T12:11:55.286Z"
   },
   {
    "duration": 11,
    "start_time": "2025-01-31T12:11:55.292Z"
   },
   {
    "duration": 9,
    "start_time": "2025-01-31T12:11:55.304Z"
   },
   {
    "duration": 35,
    "start_time": "2025-01-31T12:11:55.314Z"
   },
   {
    "duration": 9,
    "start_time": "2025-01-31T12:11:55.351Z"
   },
   {
    "duration": 26,
    "start_time": "2025-01-31T12:11:55.362Z"
   },
   {
    "duration": 5,
    "start_time": "2025-01-31T12:11:55.392Z"
   },
   {
    "duration": 24,
    "start_time": "2025-01-31T12:11:55.399Z"
   },
   {
    "duration": 20,
    "start_time": "2025-01-31T12:11:55.425Z"
   },
   {
    "duration": 10,
    "start_time": "2025-01-31T12:11:55.447Z"
   },
   {
    "duration": 28,
    "start_time": "2025-01-31T12:11:55.458Z"
   },
   {
    "duration": 9,
    "start_time": "2025-01-31T12:11:55.487Z"
   },
   {
    "duration": 8,
    "start_time": "2025-01-31T12:11:55.498Z"
   },
   {
    "duration": 12,
    "start_time": "2025-01-31T12:11:55.508Z"
   },
   {
    "duration": 26,
    "start_time": "2025-01-31T12:11:55.522Z"
   },
   {
    "duration": 8,
    "start_time": "2025-01-31T12:11:55.549Z"
   },
   {
    "duration": 11,
    "start_time": "2025-01-31T12:11:55.559Z"
   },
   {
    "duration": 11,
    "start_time": "2025-01-31T12:11:55.572Z"
   },
   {
    "duration": 7,
    "start_time": "2025-01-31T12:11:55.585Z"
   },
   {
    "duration": 7,
    "start_time": "2025-01-31T12:11:55.594Z"
   },
   {
    "duration": 309,
    "start_time": "2025-01-31T12:11:55.603Z"
   },
   {
    "duration": 10,
    "start_time": "2025-01-31T12:11:55.913Z"
   },
   {
    "duration": 365,
    "start_time": "2025-01-31T12:11:55.925Z"
   },
   {
    "duration": 230,
    "start_time": "2025-01-31T12:11:56.291Z"
   },
   {
    "duration": 388,
    "start_time": "2025-01-31T12:11:56.523Z"
   },
   {
    "duration": 37,
    "start_time": "2025-01-31T12:11:56.913Z"
   },
   {
    "duration": 254,
    "start_time": "2025-01-31T12:11:56.951Z"
   },
   {
    "duration": 15,
    "start_time": "2025-01-31T12:11:57.207Z"
   },
   {
    "duration": 426,
    "start_time": "2025-01-31T12:11:57.223Z"
   },
   {
    "duration": 11,
    "start_time": "2025-01-31T12:11:57.651Z"
   },
   {
    "duration": 212,
    "start_time": "2025-01-31T12:11:57.664Z"
   },
   {
    "duration": 5,
    "start_time": "2025-01-31T12:11:57.878Z"
   },
   {
    "duration": 26,
    "start_time": "2025-01-31T12:11:57.884Z"
   },
   {
    "duration": 266,
    "start_time": "2025-01-31T12:11:57.913Z"
   },
   {
    "duration": 4,
    "start_time": "2025-01-31T12:11:58.181Z"
   },
   {
    "duration": 229,
    "start_time": "2025-01-31T12:11:58.187Z"
   },
   {
    "duration": 175,
    "start_time": "2025-01-31T12:11:58.418Z"
   },
   {
    "duration": 10,
    "start_time": "2025-01-31T12:11:58.595Z"
   },
   {
    "duration": 25,
    "start_time": "2025-01-31T12:11:58.607Z"
   },
   {
    "duration": 42,
    "start_time": "2025-01-31T12:11:58.633Z"
   },
   {
    "duration": 15,
    "start_time": "2025-01-31T12:11:58.676Z"
   },
   {
    "duration": 173,
    "start_time": "2025-01-31T13:04:42.471Z"
   },
   {
    "duration": 11,
    "start_time": "2025-01-31T13:08:00.096Z"
   },
   {
    "duration": 31,
    "start_time": "2025-01-31T13:11:42.886Z"
   },
   {
    "duration": 30,
    "start_time": "2025-01-31T13:11:53.097Z"
   },
   {
    "duration": 15,
    "start_time": "2025-01-31T13:12:42.416Z"
   },
   {
    "duration": 4801,
    "start_time": "2025-01-31T13:24:15.744Z"
   },
   {
    "duration": 4,
    "start_time": "2025-01-31T13:24:20.547Z"
   },
   {
    "duration": 156,
    "start_time": "2025-01-31T13:24:20.553Z"
   },
   {
    "duration": 12,
    "start_time": "2025-01-31T13:24:20.711Z"
   },
   {
    "duration": 37,
    "start_time": "2025-01-31T13:24:20.724Z"
   },
   {
    "duration": 33,
    "start_time": "2025-01-31T13:24:20.762Z"
   },
   {
    "duration": 7,
    "start_time": "2025-01-31T13:24:20.796Z"
   },
   {
    "duration": 12,
    "start_time": "2025-01-31T13:24:20.805Z"
   },
   {
    "duration": 39,
    "start_time": "2025-01-31T13:24:20.819Z"
   },
   {
    "duration": 34,
    "start_time": "2025-01-31T13:24:20.862Z"
   },
   {
    "duration": 22,
    "start_time": "2025-01-31T13:24:20.898Z"
   },
   {
    "duration": 44,
    "start_time": "2025-01-31T13:24:20.921Z"
   },
   {
    "duration": 15,
    "start_time": "2025-01-31T13:24:20.967Z"
   },
   {
    "duration": 4,
    "start_time": "2025-01-31T13:24:20.984Z"
   },
   {
    "duration": 18,
    "start_time": "2025-01-31T13:24:20.990Z"
   },
   {
    "duration": 10,
    "start_time": "2025-01-31T13:24:21.010Z"
   },
   {
    "duration": 36,
    "start_time": "2025-01-31T13:24:21.021Z"
   },
   {
    "duration": 25,
    "start_time": "2025-01-31T13:24:21.059Z"
   },
   {
    "duration": 32,
    "start_time": "2025-01-31T13:24:21.086Z"
   },
   {
    "duration": 11,
    "start_time": "2025-01-31T13:24:21.119Z"
   },
   {
    "duration": 15,
    "start_time": "2025-01-31T13:24:21.136Z"
   },
   {
    "duration": 24,
    "start_time": "2025-01-31T13:24:21.152Z"
   },
   {
    "duration": 19,
    "start_time": "2025-01-31T13:24:21.177Z"
   },
   {
    "duration": 24,
    "start_time": "2025-01-31T13:24:21.197Z"
   },
   {
    "duration": 23,
    "start_time": "2025-01-31T13:24:21.223Z"
   },
   {
    "duration": 24,
    "start_time": "2025-01-31T13:24:21.248Z"
   },
   {
    "duration": 21,
    "start_time": "2025-01-31T13:24:21.274Z"
   },
   {
    "duration": 316,
    "start_time": "2025-01-31T13:24:21.300Z"
   },
   {
    "duration": 11,
    "start_time": "2025-01-31T13:24:21.618Z"
   },
   {
    "duration": 360,
    "start_time": "2025-01-31T13:24:21.630Z"
   },
   {
    "duration": 237,
    "start_time": "2025-01-31T13:24:21.992Z"
   },
   {
    "duration": 360,
    "start_time": "2025-01-31T13:24:22.231Z"
   },
   {
    "duration": 26,
    "start_time": "2025-01-31T13:24:22.593Z"
   },
   {
    "duration": 275,
    "start_time": "2025-01-31T13:24:22.640Z"
   },
   {
    "duration": 19,
    "start_time": "2025-01-31T13:24:22.917Z"
   },
   {
    "duration": 399,
    "start_time": "2025-01-31T13:24:22.945Z"
   },
   {
    "duration": 12,
    "start_time": "2025-01-31T13:24:23.345Z"
   },
   {
    "duration": 188,
    "start_time": "2025-01-31T13:24:23.358Z"
   },
   {
    "duration": 5,
    "start_time": "2025-01-31T13:24:23.548Z"
   },
   {
    "duration": 15,
    "start_time": "2025-01-31T13:24:23.555Z"
   },
   {
    "duration": 287,
    "start_time": "2025-01-31T13:24:23.572Z"
   },
   {
    "duration": 5,
    "start_time": "2025-01-31T13:24:23.860Z"
   },
   {
    "duration": 248,
    "start_time": "2025-01-31T13:24:23.867Z"
   },
   {
    "duration": 189,
    "start_time": "2025-01-31T13:24:24.116Z"
   },
   {
    "duration": 10,
    "start_time": "2025-01-31T13:24:24.307Z"
   },
   {
    "duration": 24,
    "start_time": "2025-01-31T13:24:24.319Z"
   },
   {
    "duration": 31,
    "start_time": "2025-01-31T13:24:24.345Z"
   },
   {
    "duration": 16,
    "start_time": "2025-01-31T13:24:24.377Z"
   },
   {
    "duration": 2454,
    "start_time": "2025-01-31T14:04:11.579Z"
   },
   {
    "duration": 4,
    "start_time": "2025-01-31T14:04:14.034Z"
   },
   {
    "duration": 186,
    "start_time": "2025-01-31T14:04:14.039Z"
   },
   {
    "duration": 11,
    "start_time": "2025-01-31T14:04:14.227Z"
   },
   {
    "duration": 12,
    "start_time": "2025-01-31T14:04:14.240Z"
   },
   {
    "duration": 6,
    "start_time": "2025-01-31T14:04:14.254Z"
   },
   {
    "duration": 6,
    "start_time": "2025-01-31T14:04:14.262Z"
   },
   {
    "duration": 6,
    "start_time": "2025-01-31T14:04:14.270Z"
   },
   {
    "duration": 18,
    "start_time": "2025-01-31T14:04:14.277Z"
   },
   {
    "duration": 8,
    "start_time": "2025-01-31T14:04:14.310Z"
   },
   {
    "duration": 44,
    "start_time": "2025-01-31T14:04:14.320Z"
   },
   {
    "duration": 44,
    "start_time": "2025-01-31T14:04:14.366Z"
   },
   {
    "duration": 15,
    "start_time": "2025-01-31T14:04:14.412Z"
   },
   {
    "duration": 5,
    "start_time": "2025-01-31T14:04:14.428Z"
   },
   {
    "duration": 20,
    "start_time": "2025-01-31T14:04:14.434Z"
   },
   {
    "duration": 9,
    "start_time": "2025-01-31T14:04:14.456Z"
   },
   {
    "duration": 18,
    "start_time": "2025-01-31T14:04:14.466Z"
   },
   {
    "duration": 28,
    "start_time": "2025-01-31T14:04:14.486Z"
   },
   {
    "duration": 12,
    "start_time": "2025-01-31T14:04:14.515Z"
   },
   {
    "duration": 14,
    "start_time": "2025-01-31T14:04:14.528Z"
   },
   {
    "duration": 7,
    "start_time": "2025-01-31T14:04:14.544Z"
   },
   {
    "duration": 19,
    "start_time": "2025-01-31T14:04:14.552Z"
   },
   {
    "duration": 14,
    "start_time": "2025-01-31T14:04:14.573Z"
   },
   {
    "duration": 16,
    "start_time": "2025-01-31T14:04:14.588Z"
   },
   {
    "duration": 11,
    "start_time": "2025-01-31T14:04:14.610Z"
   },
   {
    "duration": 8,
    "start_time": "2025-01-31T14:04:14.623Z"
   },
   {
    "duration": 21,
    "start_time": "2025-01-31T14:04:14.633Z"
   },
   {
    "duration": 299,
    "start_time": "2025-01-31T14:04:14.659Z"
   },
   {
    "duration": 11,
    "start_time": "2025-01-31T14:04:14.960Z"
   },
   {
    "duration": 343,
    "start_time": "2025-01-31T14:04:14.973Z"
   },
   {
    "duration": 227,
    "start_time": "2025-01-31T14:04:15.318Z"
   },
   {
    "duration": 299,
    "start_time": "2025-01-31T14:04:15.547Z"
   },
   {
    "duration": 24,
    "start_time": "2025-01-31T14:04:15.848Z"
   },
   {
    "duration": 247,
    "start_time": "2025-01-31T14:04:15.874Z"
   },
   {
    "duration": 14,
    "start_time": "2025-01-31T14:04:16.122Z"
   },
   {
    "duration": 358,
    "start_time": "2025-01-31T14:04:16.137Z"
   },
   {
    "duration": 15,
    "start_time": "2025-01-31T14:04:16.497Z"
   },
   {
    "duration": 157,
    "start_time": "2025-01-31T14:04:16.514Z"
   },
   {
    "duration": 4,
    "start_time": "2025-01-31T14:04:16.673Z"
   },
   {
    "duration": 28,
    "start_time": "2025-01-31T14:04:16.678Z"
   },
   {
    "duration": 255,
    "start_time": "2025-01-31T14:04:16.708Z"
   },
   {
    "duration": 5,
    "start_time": "2025-01-31T14:04:16.964Z"
   },
   {
    "duration": 214,
    "start_time": "2025-01-31T14:04:16.970Z"
   },
   {
    "duration": 170,
    "start_time": "2025-01-31T14:04:17.186Z"
   },
   {
    "duration": 10,
    "start_time": "2025-01-31T14:04:17.358Z"
   },
   {
    "duration": 8,
    "start_time": "2025-01-31T14:04:17.370Z"
   },
   {
    "duration": 45,
    "start_time": "2025-01-31T14:04:17.379Z"
   },
   {
    "duration": 13,
    "start_time": "2025-01-31T14:04:17.426Z"
   },
   {
    "duration": 5,
    "start_time": "2025-01-31T14:05:25.135Z"
   },
   {
    "duration": 9007,
    "start_time": "2025-01-31T14:06:17.778Z"
   },
   {
    "duration": 10,
    "start_time": "2025-01-31T14:07:59.065Z"
   },
   {
    "duration": 4,
    "start_time": "2025-01-31T14:09:19.996Z"
   },
   {
    "duration": 10,
    "start_time": "2025-01-31T14:09:28.118Z"
   },
   {
    "duration": 11,
    "start_time": "2025-01-31T14:12:06.243Z"
   },
   {
    "duration": 11,
    "start_time": "2025-01-31T14:12:24.607Z"
   },
   {
    "duration": 11,
    "start_time": "2025-01-31T14:12:49.238Z"
   },
   {
    "duration": 9,
    "start_time": "2025-01-31T14:12:49.889Z"
   }
  ],
  "kernelspec": {
   "display_name": "Python 3 (ipykernel)",
   "language": "python",
   "name": "python3"
  },
  "language_info": {
   "codemirror_mode": {
    "name": "ipython",
    "version": 3
   },
   "file_extension": ".py",
   "mimetype": "text/x-python",
   "name": "python",
   "nbconvert_exporter": "python",
   "pygments_lexer": "ipython3",
   "version": "3.9.20"
  },
  "toc": {
   "base_numbering": 1,
   "nav_menu": {},
   "number_sections": true,
   "sideBar": true,
   "skip_h1_title": true,
   "title_cell": "Table of Contents",
   "title_sidebar": "Contents",
   "toc_cell": false,
   "toc_position": {
    "height": "calc(100% - 180px)",
    "left": "10px",
    "top": "150px",
    "width": "264.375px"
   },
   "toc_section_display": true,
   "toc_window_display": true
  }
 },
 "nbformat": 4,
 "nbformat_minor": 2
}

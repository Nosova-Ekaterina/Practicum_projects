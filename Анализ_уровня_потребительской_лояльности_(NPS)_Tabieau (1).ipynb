{
 "cells": [
  {
   "cell_type": "markdown",
   "id": "b487753f",
   "metadata": {},
   "source": [
    "# Анализ уровня потребительской лояльности (NPS)."
   ]
  },
  {
   "cell_type": "markdown",
   "id": "cac5ff7e",
   "metadata": {},
   "source": [
    "**Ссылка на проект в Tableau**\n",
    "<https://public.tableau.com/app/profile/ekaterina.nosova5462/viz/NPS_17281217676470/NPS_3>"
   ]
  },
  {
   "cell_type": "markdown",
   "id": "73234846",
   "metadata": {},
   "source": [
    "## Описание проектной работы."
   ]
  },
  {
   "cell_type": "markdown",
   "id": "166f2cc2",
   "metadata": {},
   "source": [
    "Заказчик исследования — большая телекоммуникационная компания, которая оказывает услуги на территории всего СНГ. Стоит задача определить текущий уровень потребительской лояльности, или NPS (от англ. Net Promoter Score), среди клиентов из России. \n",
    "\n",
    "Чтобы определить уровень лояльности, клиентам задавали классический вопрос: «Оцените по шкале от 1 до 10 вероятность того, что вы порекомендуете компанию друзьям и знакомым».\n",
    "\n",
    "Чтобы оценить результаты опроса, оценки обычно делят на три группы:\n",
    "- 9-10 баллов — «cторонники» (англ. promoters);\n",
    "- 7-8 баллов — «нейтралы» (англ. passives);\n",
    "- 0-6 баллов — «критики» (англ. detractors).\n",
    "\n",
    "Итоговое значение NPS рассчитывается по формуле: *% «сторонников» - % «критиков»*.\n",
    "\n",
    "Таким образом, значение этого показателя варьируется от -100% (когда все клиенты «критики») до 100% (когда все клиенты лояльны к сервису). Но это крайние случаи, которые редко встретишь на практике. "
   ]
  },
  {
   "cell_type": "markdown",
   "id": "5eee72dd",
   "metadata": {},
   "source": [
    "## Описание данных"
   ]
  },
  {
   "cell_type": "markdown",
   "id": "7dd23a36",
   "metadata": {},
   "source": [
    "- 'user_id' Идентификатор клиента\n",
    "- 'lt_day' Количество дней «жизни» клиента\n",
    "- 'is_new' Поле хранит информацию о том, является ли клиент новым/ старым (новый клиент -если количество дней «жизни» составляет не более 365 дней)\n",
    "- 'age'\tВозраст\n",
    "- 'gender_segment'\tПол (мужской / женский)\n",
    "- 'os_name'\tТип операционной системы\n",
    "- 'cpe_type_name'\tТип устройства\n",
    "- 'country'\tСтрана проживания\n",
    "- 'city'\tГород проживания\n",
    "- 'age_segment'\tВозрастной сегмент\n",
    "- 'traffic_segment'\tСегмент по объёму потребляемого трафика\n",
    "- 'lifetime_segment' Сегмент по количеству дней «жизни» (в месяцах)\n",
    "- 'nps_score' Оценка клиента в NPS-опросе\n",
    "- 'nps_group' Поле хранит информацию о том, к какой группе относится оценка клиента в опросе (критик/ нейтрал/ сторонник)."
   ]
  },
  {
   "cell_type": "markdown",
   "id": "34606c78",
   "metadata": {},
   "source": [
    "## Состав и описание выполнения работы."
   ]
  },
  {
   "cell_type": "markdown",
   "id": "67798cd8",
   "metadata": {},
   "source": [
    "### Шаг 1. Подключение к базе"
   ]
  },
  {
   "cell_type": "code",
   "execution_count": 1,
   "id": "fc7efa54",
   "metadata": {},
   "outputs": [],
   "source": [
    "#Импорт библиотек\n",
    "import os\n",
    "import pandas as pd\n",
    "import numpy as np\n",
    "\n",
    "from sqlalchemy import create_engine"
   ]
  },
  {
   "cell_type": "code",
   "execution_count": 2,
   "id": "0017f8e7",
   "metadata": {},
   "outputs": [],
   "source": [
    "path_to_db_local = 'telecomm_csi.db'\n",
    "path_to_db_platform = '/datasets/telecomm_csi.db'\n",
    "path_to_db = None\n",
    "\n",
    "if os.path.exists(path_to_db_local):\n",
    "    path_to_db = path_to_db_local\n",
    "elif os.path.exists(path_to_db_platform):\n",
    "    path_to_db = path_to_db_platform\n",
    "else:\n",
    "    raise Exception('Файл с базой данных SQLite не найден!')\n",
    "\n",
    "if path_to_db:\n",
    "    engine = create_engine(f'sqlite:///{path_to_db}', echo=False)"
   ]
  },
  {
   "cell_type": "markdown",
   "id": "414661a4",
   "metadata": {},
   "source": [
    "### Шаг 2. Выгрузка данных."
   ]
  },
  {
   "cell_type": "code",
   "execution_count": 3,
   "id": "84ebad43",
   "metadata": {},
   "outputs": [],
   "source": [
    "query = \"\"\"\n",
    "SELECT \n",
    "    u.user_id,\n",
    "    u.lt_day,\n",
    "    CASE \n",
    "        WHEN u.lt_day <= 365 THEN 'Новый' \n",
    "        ELSE 'Старый' \n",
    "    END AS is_new,\n",
    "    u.age,\n",
    "    CASE \n",
    "        WHEN u.gender_segment = 1 THEN 'женщина'\n",
    "        ELSE 'мужчина'\n",
    "    END AS gender_segment,\n",
    "    u.os_name,\n",
    "    u.cpe_type_name,\n",
    "    l.country,\n",
    "    l.city,\n",
    "    ag.title AS age_segment,\n",
    "    tr.title AS traffic_segment,\n",
    "    lt.title AS lifetime_segment,\n",
    "    u.nps_score,\n",
    "    CASE \n",
    "        WHEN u.nps_score >= 9 THEN 'Сторонник'\n",
    "        WHEN u.nps_score >= 7 THEN 'Нейтрал'\n",
    "        ELSE 'Критик'\n",
    "    END AS nps_group\n",
    "FROM \n",
    "    user u\n",
    "JOIN \n",
    "    location l ON u.location_id = l.location_id\n",
    "JOIN \n",
    "    age_segment ag ON u.age_gr_id = ag.age_gr_id\n",
    "JOIN \n",
    "    traffic_segment tr ON u.tr_gr_id = tr.tr_gr_id\n",
    "JOIN \n",
    "    lifetime_segment lt ON u.lt_gr_id = lt.lt_gr_id;\n",
    "\"\"\""
   ]
  },
  {
   "cell_type": "code",
   "execution_count": 4,
   "id": "3965faf2",
   "metadata": {},
   "outputs": [
    {
     "data": {
      "text/html": [
       "<div>\n",
       "<style scoped>\n",
       "    .dataframe tbody tr th:only-of-type {\n",
       "        vertical-align: middle;\n",
       "    }\n",
       "\n",
       "    .dataframe tbody tr th {\n",
       "        vertical-align: top;\n",
       "    }\n",
       "\n",
       "    .dataframe thead th {\n",
       "        text-align: right;\n",
       "    }\n",
       "</style>\n",
       "<table border=\"1\" class=\"dataframe\">\n",
       "  <thead>\n",
       "    <tr style=\"text-align: right;\">\n",
       "      <th></th>\n",
       "      <th>user_id</th>\n",
       "      <th>lt_day</th>\n",
       "      <th>is_new</th>\n",
       "      <th>age</th>\n",
       "      <th>gender_segment</th>\n",
       "      <th>os_name</th>\n",
       "      <th>cpe_type_name</th>\n",
       "      <th>country</th>\n",
       "      <th>city</th>\n",
       "      <th>age_segment</th>\n",
       "      <th>traffic_segment</th>\n",
       "      <th>lifetime_segment</th>\n",
       "      <th>nps_score</th>\n",
       "      <th>nps_group</th>\n",
       "    </tr>\n",
       "  </thead>\n",
       "  <tbody>\n",
       "    <tr>\n",
       "      <th>0</th>\n",
       "      <td>A001A2</td>\n",
       "      <td>2320</td>\n",
       "      <td>Старый</td>\n",
       "      <td>45.0</td>\n",
       "      <td>женщина</td>\n",
       "      <td>ANDROID</td>\n",
       "      <td>SMARTPHONE</td>\n",
       "      <td>Россия</td>\n",
       "      <td>Уфа</td>\n",
       "      <td>05 45-54</td>\n",
       "      <td>04 1-5</td>\n",
       "      <td>08 36+</td>\n",
       "      <td>10</td>\n",
       "      <td>Сторонник</td>\n",
       "    </tr>\n",
       "    <tr>\n",
       "      <th>1</th>\n",
       "      <td>A001WF</td>\n",
       "      <td>2344</td>\n",
       "      <td>Старый</td>\n",
       "      <td>53.0</td>\n",
       "      <td>мужчина</td>\n",
       "      <td>ANDROID</td>\n",
       "      <td>SMARTPHONE</td>\n",
       "      <td>Россия</td>\n",
       "      <td>Киров</td>\n",
       "      <td>05 45-54</td>\n",
       "      <td>04 1-5</td>\n",
       "      <td>08 36+</td>\n",
       "      <td>10</td>\n",
       "      <td>Сторонник</td>\n",
       "    </tr>\n",
       "    <tr>\n",
       "      <th>2</th>\n",
       "      <td>A003Q7</td>\n",
       "      <td>467</td>\n",
       "      <td>Старый</td>\n",
       "      <td>57.0</td>\n",
       "      <td>мужчина</td>\n",
       "      <td>ANDROID</td>\n",
       "      <td>SMARTPHONE</td>\n",
       "      <td>Россия</td>\n",
       "      <td>Москва</td>\n",
       "      <td>06 55-64</td>\n",
       "      <td>08 20-25</td>\n",
       "      <td>06 13-24</td>\n",
       "      <td>10</td>\n",
       "      <td>Сторонник</td>\n",
       "    </tr>\n",
       "    <tr>\n",
       "      <th>3</th>\n",
       "      <td>A004TB</td>\n",
       "      <td>4190</td>\n",
       "      <td>Старый</td>\n",
       "      <td>44.0</td>\n",
       "      <td>женщина</td>\n",
       "      <td>IOS</td>\n",
       "      <td>SMARTPHONE</td>\n",
       "      <td>Россия</td>\n",
       "      <td>РостовнаДону</td>\n",
       "      <td>04 35-44</td>\n",
       "      <td>03 0.1-1</td>\n",
       "      <td>08 36+</td>\n",
       "      <td>10</td>\n",
       "      <td>Сторонник</td>\n",
       "    </tr>\n",
       "    <tr>\n",
       "      <th>4</th>\n",
       "      <td>A004XT</td>\n",
       "      <td>1163</td>\n",
       "      <td>Старый</td>\n",
       "      <td>24.0</td>\n",
       "      <td>мужчина</td>\n",
       "      <td>ANDROID</td>\n",
       "      <td>SMARTPHONE</td>\n",
       "      <td>Россия</td>\n",
       "      <td>Рязань</td>\n",
       "      <td>02 16-24</td>\n",
       "      <td>05 5-10</td>\n",
       "      <td>08 36+</td>\n",
       "      <td>10</td>\n",
       "      <td>Сторонник</td>\n",
       "    </tr>\n",
       "  </tbody>\n",
       "</table>\n",
       "</div>"
      ],
      "text/plain": [
       "  user_id  lt_day  is_new   age gender_segment  os_name cpe_type_name country  \\\n",
       "0  A001A2    2320  Старый  45.0        женщина  ANDROID    SMARTPHONE  Россия   \n",
       "1  A001WF    2344  Старый  53.0        мужчина  ANDROID    SMARTPHONE  Россия   \n",
       "2  A003Q7     467  Старый  57.0        мужчина  ANDROID    SMARTPHONE  Россия   \n",
       "3  A004TB    4190  Старый  44.0        женщина      IOS    SMARTPHONE  Россия   \n",
       "4  A004XT    1163  Старый  24.0        мужчина  ANDROID    SMARTPHONE  Россия   \n",
       "\n",
       "           city age_segment traffic_segment lifetime_segment  nps_score  \\\n",
       "0           Уфа    05 45-54          04 1-5           08 36+         10   \n",
       "1         Киров    05 45-54          04 1-5           08 36+         10   \n",
       "2        Москва    06 55-64        08 20-25         06 13-24         10   \n",
       "3  РостовнаДону    04 35-44        03 0.1-1           08 36+         10   \n",
       "4        Рязань    02 16-24         05 5-10           08 36+         10   \n",
       "\n",
       "   nps_group  \n",
       "0  Сторонник  \n",
       "1  Сторонник  \n",
       "2  Сторонник  \n",
       "3  Сторонник  \n",
       "4  Сторонник  "
      ]
     },
     "execution_count": 4,
     "metadata": {},
     "output_type": "execute_result"
    }
   ],
   "source": [
    "df = pd.read_sql(query, engine)\n",
    "df.head(5)"
   ]
  },
  {
   "cell_type": "code",
   "execution_count": 5,
   "id": "77f85158",
   "metadata": {},
   "outputs": [
    {
     "name": "stdout",
     "output_type": "stream",
     "text": [
      "<class 'pandas.core.frame.DataFrame'>\n",
      "RangeIndex: 502493 entries, 0 to 502492\n",
      "Data columns (total 14 columns):\n",
      " #   Column            Non-Null Count   Dtype  \n",
      "---  ------            --------------   -----  \n",
      " 0   user_id           502493 non-null  object \n",
      " 1   lt_day            502493 non-null  int64  \n",
      " 2   is_new            502493 non-null  object \n",
      " 3   age               501939 non-null  float64\n",
      " 4   gender_segment    502493 non-null  object \n",
      " 5   os_name           502493 non-null  object \n",
      " 6   cpe_type_name     502493 non-null  object \n",
      " 7   country           502493 non-null  object \n",
      " 8   city              502493 non-null  object \n",
      " 9   age_segment       502493 non-null  object \n",
      " 10  traffic_segment   502493 non-null  object \n",
      " 11  lifetime_segment  502493 non-null  object \n",
      " 12  nps_score         502493 non-null  int64  \n",
      " 13  nps_group         502493 non-null  object \n",
      "dtypes: float64(1), int64(2), object(11)\n",
      "memory usage: 53.7+ MB\n"
     ]
    }
   ],
   "source": [
    "df.info()"
   ]
  },
  {
   "cell_type": "code",
   "execution_count": 6,
   "id": "1adb1e4e",
   "metadata": {},
   "outputs": [
    {
     "data": {
      "text/plain": [
       "age                 554\n",
       "user_id               0\n",
       "lt_day                0\n",
       "is_new                0\n",
       "gender_segment        0\n",
       "os_name               0\n",
       "cpe_type_name         0\n",
       "country               0\n",
       "city                  0\n",
       "age_segment           0\n",
       "traffic_segment       0\n",
       "lifetime_segment      0\n",
       "nps_score             0\n",
       "nps_group             0\n",
       "dtype: int64"
      ]
     },
     "execution_count": 6,
     "metadata": {},
     "output_type": "execute_result"
    }
   ],
   "source": [
    "df.isna().sum().sort_values(ascending=False) #информация о количестве пропусков в датафрейме df"
   ]
  },
  {
   "cell_type": "markdown",
   "id": "dcefd2ec",
   "metadata": {},
   "source": [
    "Количество пропущенных значений по полю 'age' менее 1% (0,1%), следовательно, исключение пропущенных значений не повлечет серьезного искажения информации.\n",
    "\n",
    "На уровне источника данных отфильтрую таблицу, исключив по полю 'age_segment' сегмент '08 n/a'."
   ]
  },
  {
   "cell_type": "code",
   "execution_count": 7,
   "id": "053801e7",
   "metadata": {},
   "outputs": [
    {
     "data": {
      "text/plain": [
       "['ANDROID',\n",
       " 'IOS',\n",
       " 'OTHER',\n",
       " 'unknown',\n",
       " 'PROPRIETARY',\n",
       " 'WINDOWS PHONE',\n",
       " 'SYMBIAN OS',\n",
       " 'BADA OS',\n",
       " 'WINDOWS MOBILE']"
      ]
     },
     "execution_count": 7,
     "metadata": {},
     "output_type": "execute_result"
    }
   ],
   "source": [
    "df['os_name'].unique().tolist()"
   ]
  },
  {
   "cell_type": "code",
   "execution_count": 8,
   "id": "71e21eee",
   "metadata": {},
   "outputs": [
    {
     "data": {
      "text/plain": [
       "['SMARTPHONE',\n",
       " 'TABLET',\n",
       " 'MOBILE PHONE/FEATURE PHONE',\n",
       " 'PHONE',\n",
       " 'ROUTER',\n",
       " 'MODEM',\n",
       " 'WLAN ROUTER',\n",
       " 'USB MODEM',\n",
       " 'unknown',\n",
       " 'PORTABLE(INCLUDE PDA)',\n",
       " 'NETWORK DEVICE',\n",
       " 'MIFI ROUTER',\n",
       " 'MOBILE TEST PLATFORM',\n",
       " 'HANDHELD']"
      ]
     },
     "execution_count": 8,
     "metadata": {},
     "output_type": "execute_result"
    }
   ],
   "source": [
    "df['cpe_type_name'].unique().tolist()"
   ]
  },
  {
   "cell_type": "markdown",
   "id": "e8ccb08d",
   "metadata": {},
   "source": [
    "Поля 'os_name' и 'cpe_type_name' содержат пропущенные значения, которые заменены на 'unknown'."
   ]
  },
  {
   "cell_type": "code",
   "execution_count": 9,
   "id": "6030f69f",
   "metadata": {},
   "outputs": [
    {
     "data": {
      "text/plain": [
       "['Уфа',\n",
       " 'Киров',\n",
       " 'Москва',\n",
       " 'РостовнаДону',\n",
       " 'Рязань',\n",
       " 'Омск',\n",
       " 'СанктПетербург',\n",
       " 'Волгоград',\n",
       " 'Тольятти',\n",
       " 'Казань',\n",
       " 'Самара',\n",
       " 'Красноярск',\n",
       " 'Екатеринбург',\n",
       " 'Калуга',\n",
       " 'Краснодар',\n",
       " 'Иркутск',\n",
       " 'Пермь',\n",
       " 'Владимир',\n",
       " 'Ижевск',\n",
       " 'Тюмень',\n",
       " 'Оренбург',\n",
       " 'НижнийНовгород',\n",
       " 'Брянск',\n",
       " 'Челябинск',\n",
       " 'Астрахань',\n",
       " 'Сургут',\n",
       " 'Тверь',\n",
       " 'Новосибирск',\n",
       " 'НабережныеЧелны',\n",
       " 'Махачкала',\n",
       " 'Воронеж',\n",
       " 'Курск',\n",
       " 'Владивосток',\n",
       " 'Балашиха',\n",
       " 'Пенза',\n",
       " 'Калининград',\n",
       " 'Тула',\n",
       " 'Саратов',\n",
       " 'Кемерово',\n",
       " 'Белгород',\n",
       " 'Барнаул',\n",
       " 'Чебоксары',\n",
       " 'Архангельск',\n",
       " 'Томск',\n",
       " 'Ярославль',\n",
       " 'Ульяновск',\n",
       " 'Хабаровск',\n",
       " 'Грозный',\n",
       " 'Ставрополь',\n",
       " 'Липецк',\n",
       " 'Новокузнецк',\n",
       " 'Якутск',\n",
       " 'УланУдэ',\n",
       " 'Сочи',\n",
       " 'Иваново',\n",
       " 'НижнийТагил',\n",
       " 'Смоленск',\n",
       " 'Волжский',\n",
       " 'Магнитогорск',\n",
       " 'Чита',\n",
       " 'Череповец',\n",
       " 'Саранск']"
      ]
     },
     "execution_count": 9,
     "metadata": {},
     "output_type": "execute_result"
    }
   ],
   "source": [
    "df['city'].unique().tolist()"
   ]
  },
  {
   "cell_type": "code",
   "execution_count": 10,
   "id": "9db04858",
   "metadata": {},
   "outputs": [],
   "source": [
    "#Сохранение выгруженной таблицы\n",
    "df.to_csv('telecomm_csi_tableau.csv', index=False)"
   ]
  },
  {
   "cell_type": "markdown",
   "id": "8bd1875d",
   "metadata": {},
   "source": [
    "### Шаг 3. Создание дашборда в Tableau."
   ]
  },
  {
   "cell_type": "markdown",
   "id": "940c084b",
   "metadata": {},
   "source": [
    "#### Дашборд \"Распределение участников опроса\"."
   ]
  },
  {
   "cell_type": "markdown",
   "id": "5bef13a7",
   "metadata": {},
   "source": [
    "Отвечает на вопросы:\n",
    "- Как распределены участники опроса по возрасту и полу?\n",
    "- Каких пользователей больше: новых или старых?\n",
    "- Пользователи из каких городов активнее участвовали в опросе?"
   ]
  },
  {
   "cell_type": "markdown",
   "id": "42580c33",
   "metadata": {},
   "source": [
    "#### Дашборд \"Значение NPS\"."
   ]
  },
  {
   "cell_type": "markdown",
   "id": "89ddcd29",
   "metadata": {},
   "source": [
    "Отвечает на вопросы:\n",
    "- Какие группы пользователей наиболее лояльны к сервису? Какие менее?\n",
    "- Какой общий NPS среди всех опрошенных?"
   ]
  },
  {
   "cell_type": "markdown",
   "id": "ad2aed90",
   "metadata": {},
   "source": [
    "#### Дашборд \"Клиенты-сторонники сервиса\"."
   ]
  },
  {
   "cell_type": "markdown",
   "id": "965f389d",
   "metadata": {},
   "source": [
    "Описывает клиентов, которые относятся к группе cторонников."
   ]
  }
 ],
 "metadata": {
  "ExecuteTimeLog": [
   {
    "duration": 549,
    "start_time": "2024-09-25T10:40:23.143Z"
   },
   {
    "duration": 74,
    "start_time": "2024-09-25T10:40:23.694Z"
   },
   {
    "duration": 4,
    "start_time": "2024-09-25T10:40:23.769Z"
   },
   {
    "duration": 444,
    "start_time": "2024-09-25T10:40:23.775Z"
   },
   {
    "duration": 0,
    "start_time": "2024-09-25T10:40:24.221Z"
   },
   {
    "duration": 90,
    "start_time": "2024-09-26T13:27:04.602Z"
   },
   {
    "duration": 44,
    "start_time": "2024-09-26T13:27:23.957Z"
   },
   {
    "duration": 3,
    "start_time": "2024-09-26T13:34:44.386Z"
   },
   {
    "duration": 5842,
    "start_time": "2024-09-26T13:34:50.366Z"
   },
   {
    "duration": 524,
    "start_time": "2024-09-26T13:35:12.727Z"
   },
   {
    "duration": 60,
    "start_time": "2024-09-26T13:35:13.252Z"
   },
   {
    "duration": 4,
    "start_time": "2024-09-26T13:35:13.314Z"
   },
   {
    "duration": 5604,
    "start_time": "2024-09-26T13:35:13.319Z"
   },
   {
    "duration": 4941,
    "start_time": "2024-09-26T13:35:18.925Z"
   },
   {
    "duration": 5636,
    "start_time": "2024-09-26T13:35:30.932Z"
   },
   {
    "duration": 104,
    "start_time": "2024-09-26T14:02:26.882Z"
   },
   {
    "duration": 95,
    "start_time": "2024-09-26T14:03:15.799Z"
   },
   {
    "duration": 5443,
    "start_time": "2024-09-26T14:05:48.221Z"
   },
   {
    "duration": 4939,
    "start_time": "2024-09-26T14:17:29.926Z"
   },
   {
    "duration": 51,
    "start_time": "2024-09-27T13:06:31.735Z"
   },
   {
    "duration": 567,
    "start_time": "2024-09-27T13:06:45.322Z"
   },
   {
    "duration": 66,
    "start_time": "2024-09-27T13:06:45.891Z"
   },
   {
    "duration": 3,
    "start_time": "2024-09-27T13:06:45.959Z"
   },
   {
    "duration": 5890,
    "start_time": "2024-09-27T13:06:45.963Z"
   },
   {
    "duration": 4791,
    "start_time": "2024-09-27T13:06:51.855Z"
   },
   {
    "duration": 3,
    "start_time": "2024-09-27T13:10:49.932Z"
   },
   {
    "duration": 5464,
    "start_time": "2024-09-27T13:10:55.914Z"
   },
   {
    "duration": 3,
    "start_time": "2024-09-27T13:12:44.033Z"
   },
   {
    "duration": 5692,
    "start_time": "2024-09-27T13:12:55.630Z"
   },
   {
    "duration": 4707,
    "start_time": "2024-09-27T13:13:14.141Z"
   },
   {
    "duration": 5558,
    "start_time": "2024-09-27T13:35:02.936Z"
   },
   {
    "duration": 92,
    "start_time": "2024-09-27T13:51:18.395Z"
   },
   {
    "duration": 550,
    "start_time": "2024-09-27T13:55:56.425Z"
   },
   {
    "duration": 545,
    "start_time": "2024-09-27T13:56:24.836Z"
   },
   {
    "duration": 494,
    "start_time": "2024-09-27T13:57:41.575Z"
   },
   {
    "duration": 59,
    "start_time": "2024-09-27T13:57:42.071Z"
   },
   {
    "duration": 3,
    "start_time": "2024-09-27T13:57:42.131Z"
   },
   {
    "duration": 5691,
    "start_time": "2024-09-27T13:57:42.136Z"
   },
   {
    "duration": 589,
    "start_time": "2024-09-27T13:57:47.828Z"
   },
   {
    "duration": 593,
    "start_time": "2024-09-27T13:57:48.418Z"
   },
   {
    "duration": 104,
    "start_time": "2024-09-27T13:57:49.012Z"
   },
   {
    "duration": 4730,
    "start_time": "2024-09-27T13:57:49.117Z"
   },
   {
    "duration": 3,
    "start_time": "2024-09-27T13:58:54.455Z"
   },
   {
    "duration": 58,
    "start_time": "2024-09-27T13:58:54.460Z"
   },
   {
    "duration": 2,
    "start_time": "2024-09-27T13:58:54.520Z"
   },
   {
    "duration": 5528,
    "start_time": "2024-09-27T13:58:54.524Z"
   },
   {
    "duration": 599,
    "start_time": "2024-09-27T13:59:00.054Z"
   },
   {
    "duration": 576,
    "start_time": "2024-09-27T13:59:00.654Z"
   },
   {
    "duration": 103,
    "start_time": "2024-09-27T13:59:01.231Z"
   },
   {
    "duration": 4770,
    "start_time": "2024-09-27T13:59:01.336Z"
   },
   {
    "duration": 51,
    "start_time": "2024-09-30T07:55:37.315Z"
   },
   {
    "duration": 585,
    "start_time": "2024-09-30T07:55:46.972Z"
   },
   {
    "duration": 87,
    "start_time": "2024-09-30T07:55:47.559Z"
   },
   {
    "duration": 4,
    "start_time": "2024-09-30T07:55:47.648Z"
   },
   {
    "duration": 3,
    "start_time": "2024-09-30T07:55:54.791Z"
   },
   {
    "duration": 84,
    "start_time": "2024-09-30T07:55:54.795Z"
   },
   {
    "duration": 3,
    "start_time": "2024-09-30T07:55:54.880Z"
   },
   {
    "duration": 5500,
    "start_time": "2024-09-30T07:55:54.885Z"
   },
   {
    "duration": 583,
    "start_time": "2024-09-30T07:56:00.387Z"
   },
   {
    "duration": 576,
    "start_time": "2024-09-30T07:56:00.971Z"
   },
   {
    "duration": 102,
    "start_time": "2024-09-30T07:56:01.548Z"
   },
   {
    "duration": 112,
    "start_time": "2024-09-30T07:56:01.652Z"
   },
   {
    "duration": 4872,
    "start_time": "2024-09-30T07:56:01.765Z"
   },
   {
    "duration": 165,
    "start_time": "2024-09-30T07:57:14.812Z"
   },
   {
    "duration": 104,
    "start_time": "2024-09-30T07:57:40.909Z"
   },
   {
    "duration": 111,
    "start_time": "2024-09-30T07:58:03.949Z"
   },
   {
    "duration": 102,
    "start_time": "2024-09-30T07:58:33.966Z"
   },
   {
    "duration": 99,
    "start_time": "2024-09-30T07:59:10.018Z"
   },
   {
    "duration": 101,
    "start_time": "2024-09-30T08:00:34.207Z"
   },
   {
    "duration": 104,
    "start_time": "2024-09-30T08:02:16.925Z"
   },
   {
    "duration": 91,
    "start_time": "2024-09-30T08:03:06.301Z"
   },
   {
    "duration": 511,
    "start_time": "2024-10-05T10:15:43.749Z"
   },
   {
    "duration": 91,
    "start_time": "2024-10-05T10:15:44.262Z"
   },
   {
    "duration": 4,
    "start_time": "2024-10-05T10:15:44.355Z"
   },
   {
    "duration": 6499,
    "start_time": "2024-10-05T10:15:44.361Z"
   },
   {
    "duration": 619,
    "start_time": "2024-10-05T10:15:50.862Z"
   },
   {
    "duration": 623,
    "start_time": "2024-10-05T10:15:51.483Z"
   },
   {
    "duration": 115,
    "start_time": "2024-10-05T10:15:52.109Z"
   },
   {
    "duration": 104,
    "start_time": "2024-10-05T10:15:52.225Z"
   },
   {
    "duration": 138,
    "start_time": "2024-10-05T10:15:52.331Z"
   },
   {
    "duration": 5253,
    "start_time": "2024-10-05T10:15:52.471Z"
   },
   {
    "duration": 569,
    "start_time": "2024-10-05T10:22:25.215Z"
   },
   {
    "duration": 72,
    "start_time": "2024-10-05T10:22:25.786Z"
   },
   {
    "duration": 4,
    "start_time": "2024-10-05T10:22:25.859Z"
   },
   {
    "duration": 6035,
    "start_time": "2024-10-05T10:22:25.864Z"
   },
   {
    "duration": 585,
    "start_time": "2024-10-05T10:22:31.901Z"
   },
   {
    "duration": 602,
    "start_time": "2024-10-05T10:22:32.487Z"
   },
   {
    "duration": 99,
    "start_time": "2024-10-05T10:22:33.091Z"
   },
   {
    "duration": 113,
    "start_time": "2024-10-05T10:22:33.192Z"
   },
   {
    "duration": 119,
    "start_time": "2024-10-05T10:22:33.307Z"
   },
   {
    "duration": 5424,
    "start_time": "2024-10-05T10:22:33.429Z"
   }
  ],
  "kernelspec": {
   "display_name": "Python 3 (ipykernel)",
   "language": "python",
   "name": "python3"
  },
  "language_info": {
   "codemirror_mode": {
    "name": "ipython",
    "version": 3
   },
   "file_extension": ".py",
   "mimetype": "text/x-python",
   "name": "python",
   "nbconvert_exporter": "python",
   "pygments_lexer": "ipython3",
   "version": "3.9.20"
  },
  "toc": {
   "base_numbering": 1,
   "nav_menu": {},
   "number_sections": true,
   "sideBar": true,
   "skip_h1_title": true,
   "title_cell": "Table of Contents",
   "title_sidebar": "Contents",
   "toc_cell": false,
   "toc_position": {},
   "toc_section_display": true,
   "toc_window_display": false
  }
 },
 "nbformat": 4,
 "nbformat_minor": 5
}
